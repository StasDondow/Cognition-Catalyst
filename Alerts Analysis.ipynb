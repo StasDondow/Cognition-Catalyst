{
 "cells": [
  {
   "cell_type": "markdown",
   "id": "fa2ec9f2",
   "metadata": {
    "id": "fa2ec9f2"
   },
   "source": [
    "# Збір даних"
   ]
  },
  {
   "cell_type": "markdown",
   "id": "3c6dffd6",
   "metadata": {
    "id": "3c6dffd6"
   },
   "source": [
    "Для аналізу повітряних тривог я використовуватиму повідомлення з телеграм-каналу \"Новости Одесса\".  \n",
    "За допомогою бібліотеки **telethon** я підключаюсь до свого облікового запису Telegram і вивантажую багато повідомлень (емпіричним шляхом я визначив, що за останній рік було близько 20k повідомлень)."
   ]
  },
  {
   "cell_type": "code",
   "execution_count": 1,
   "id": "H4BdI6Z3c9vW",
   "metadata": {
    "colab": {
     "base_uri": "https://localhost:8080/"
    },
    "executionInfo": {
     "elapsed": 4077,
     "status": "ok",
     "timestamp": 1714122117498,
     "user": {
      "displayName": "Stanislav Dondov",
      "userId": "13057226293604839521"
     },
     "user_tz": -180
    },
    "id": "H4BdI6Z3c9vW",
    "outputId": "b2cc76b4-e50e-4aa9-a0e2-44a868d212bc"
   },
   "outputs": [],
   "source": [
    "import csv\n",
    "from telethon.sync import TelegramClient\n",
    "from tqdm import tqdm"
   ]
  },
  {
   "cell_type": "markdown",
   "id": "ab6b85bd",
   "metadata": {},
   "source": [
    "Тут використовуються асинхронні операції, тобто такі, які можуть займати час (наприклад, отримання повідомлень з тг-каналу або взаємодія з API), вони виконуються паралельно без очікування результату. Це дозволяє програмі не блокуватись під час виконання тривалих операцій і продовжувати виконання інших задач в цей час. У даному випадку використання асинхронності важливо через велику кількість повідомлень, які потрібно отримати з тг-каналу."
   ]
  },
  {
   "cell_type": "code",
   "execution_count": 2,
   "id": "1Slke-WYkWFJ",
   "metadata": {
    "colab": {
     "base_uri": "https://localhost:8080/",
     "height": 122,
     "referenced_widgets": [
      "7769bc88725c4d90b36a27730350d6b2",
      "e159f55ebdf044cfa94a36f96ee2a8aa",
      "7d1e5bdb42364d328839145b96bf9935",
      "817d9daa967644f1b4b87000d7a6d434",
      "a990bcec9ceb43df93be88dcd262c0ed",
      "646ff681c0e4481aa19419f0b4488026",
      "dda8691fe013426db3dea652221b978b",
      "25a98c98b15245aa91296ab89f9934e7",
      "e00fd3a140d24c81a4eb2a7d969e2637",
      "e9a7f25466de4f57b22370bf31ffc108",
      "0526044ab7e74797acc2b7431761986b"
     ]
    },
    "executionInfo": {
     "elapsed": 240488,
     "status": "ok",
     "timestamp": 1714122394104,
     "user": {
      "displayName": "Stanislav Dondov",
      "userId": "13057226293604839521"
     },
     "user_tz": -180
    },
    "id": "1Slke-WYkWFJ",
    "outputId": "deb80066-d5cb-4216-e112-77d28aea086e"
   },
   "outputs": [
    {
     "name": "stdout",
     "output_type": "stream",
     "text": [
      "Please enter your phone (or bot token): +380981038963\n",
      "Please enter the code you received: 28539\n",
      "Please enter your password: ········\n",
      "Signed in successfully as Stanislav\n"
     ]
    },
    {
     "name": "stderr",
     "output_type": "stream",
     "text": [
      "100%|████████████████████████████████████████████████████████████████████████████| 20000/20000 [03:21<00:00, 99.45it/s]\n"
     ]
    }
   ],
   "source": [
    "# дані вашого облікового запису (підставте свої значення)\n",
    "api_id = 'YOUR_API_ID'\n",
    "api_hash = 'YOUR_API_HASH'\n",
    "session_name = \"session_name\"\n",
    "\n",
    "async def main():\n",
    "    async with TelegramClient(session_name, api_id, api_hash) as client:\n",
    "        # запустити клієнта\n",
    "        await client.start()\n",
    "\n",
    "        # записати повідомлення в файл\n",
    "        with open(\"RAW_TEXT.csv\", 'w', newline='', encoding='utf-8') as csvfile:\n",
    "            fieldnames = ['Дата', 'Текст']\n",
    "            writer = csv.DictWriter(csvfile, fieldnames=fieldnames)\n",
    "            writer.writeheader()\n",
    "\n",
    "            channel_name = 'our_odessa'\n",
    "            num_of_messages = 20000\n",
    "\n",
    "            # progress bar показує скільки вже повідомлень прочитано\n",
    "            with tqdm(total=num_of_messages) as pbar:\n",
    "                async for message in client.iter_messages(channel_name, limit=num_of_messages):\n",
    "                    writer.writerow({'Дата': message.date, 'Текст': message.message})\n",
    "                    pbar.update(1)\n",
    "\n",
    "# викликати асинхронну функцію\n",
    "await main()"
   ]
  },
  {
   "cell_type": "markdown",
   "id": "015d14b8",
   "metadata": {
    "id": "015d14b8"
   },
   "source": [
    "# Очистка даних"
   ]
  },
  {
   "cell_type": "code",
   "execution_count": 2,
   "id": "9a1df1f4",
   "metadata": {
    "executionInfo": {
     "elapsed": 626,
     "status": "ok",
     "timestamp": 1714122576005,
     "user": {
      "displayName": "Stanislav Dondov",
      "userId": "13057226293604839521"
     },
     "user_tz": -180
    },
    "id": "9a1df1f4"
   },
   "outputs": [],
   "source": [
    "import pandas as pd\n",
    "import numpy as np\n",
    "import random\n",
    "\n",
    "from datetime import datetime\n",
    "from math import sqrt\n",
    "import re"
   ]
  },
  {
   "cell_type": "code",
   "execution_count": 4,
   "id": "7e4f38c7",
   "metadata": {
    "colab": {
     "base_uri": "https://localhost:8080/",
     "height": 206
    },
    "executionInfo": {
     "elapsed": 570,
     "status": "ok",
     "timestamp": 1714122631067,
     "user": {
      "displayName": "Stanislav Dondov",
      "userId": "13057226293604839521"
     },
     "user_tz": -180
    },
    "id": "7e4f38c7",
    "outputId": "317febd4-dfb0-4594-951d-37ff89990b5b",
    "scrolled": true
   },
   "outputs": [
    {
     "data": {
      "text/html": [
       "<div>\n",
       "<style scoped>\n",
       "    .dataframe tbody tr th:only-of-type {\n",
       "        vertical-align: middle;\n",
       "    }\n",
       "\n",
       "    .dataframe tbody tr th {\n",
       "        vertical-align: top;\n",
       "    }\n",
       "\n",
       "    .dataframe thead th {\n",
       "        text-align: right;\n",
       "    }\n",
       "</style>\n",
       "<table border=\"1\" class=\"dataframe\">\n",
       "  <thead>\n",
       "    <tr style=\"text-align: right;\">\n",
       "      <th></th>\n",
       "      <th>Дата</th>\n",
       "      <th>Текст</th>\n",
       "    </tr>\n",
       "  </thead>\n",
       "  <tbody>\n",
       "    <tr>\n",
       "      <th>0</th>\n",
       "      <td>2024-04-26 16:01:54+00:00</td>\n",
       "      <td>На Одещині затримали військовослужбовця, який ...</td>\n",
       "    </tr>\n",
       "    <tr>\n",
       "      <th>1</th>\n",
       "      <td>2024-04-26 14:53:21+00:00</td>\n",
       "      <td>❗️Також у зв'язку із змаганнями буде змінено м...</td>\n",
       "    </tr>\n",
       "    <tr>\n",
       "      <th>2</th>\n",
       "      <td>2024-04-26 14:50:24+00:00</td>\n",
       "      <td>❎ ОТБОЙ\\n\\nПрислать новость 👉 @our_odessabot\\n...</td>\n",
       "    </tr>\n",
       "    <tr>\n",
       "      <th>3</th>\n",
       "      <td>2024-04-26 14:36:31+00:00</td>\n",
       "      <td>На даний час все чисто в наш бік\\nㅤ \\nНадіслат...</td>\n",
       "    </tr>\n",
       "    <tr>\n",
       "      <th>4</th>\n",
       "      <td>2024-04-26 14:20:09+00:00</td>\n",
       "      <td>🚨ВОЗДУШНАЯ ТРЕВОГА\\n\\nУгроза баллистики с Крым...</td>\n",
       "    </tr>\n",
       "  </tbody>\n",
       "</table>\n",
       "</div>"
      ],
      "text/plain": [
       "                        Дата   \n",
       "0  2024-04-26 16:01:54+00:00  \\\n",
       "1  2024-04-26 14:53:21+00:00   \n",
       "2  2024-04-26 14:50:24+00:00   \n",
       "3  2024-04-26 14:36:31+00:00   \n",
       "4  2024-04-26 14:20:09+00:00   \n",
       "\n",
       "                                               Текст  \n",
       "0  На Одещині затримали військовослужбовця, який ...  \n",
       "1  ❗️Також у зв'язку із змаганнями буде змінено м...  \n",
       "2  ❎ ОТБОЙ\\n\\nПрислать новость 👉 @our_odessabot\\n...  \n",
       "3  На даний час все чисто в наш бік\\nㅤ \\nНадіслат...  \n",
       "4  🚨ВОЗДУШНАЯ ТРЕВОГА\\n\\nУгроза баллистики с Крым...  "
      ]
     },
     "execution_count": 4,
     "metadata": {},
     "output_type": "execute_result"
    }
   ],
   "source": [
    "# завантажити \"сирі\" дані\n",
    "df = pd.read_csv(\"RAW_TEXT.csv\")\n",
    "\n",
    "# подивитись як виглядає датафрейм\n",
    "df.head()"
   ]
  },
  {
   "cell_type": "markdown",
   "id": "b6509049",
   "metadata": {
    "id": "b6509049"
   },
   "source": [
    "Telegram рахує фотографії як окремі пости, тому деякі пости в сирому датасеті мають NaN в полі \"Текст\".  \n",
    "Видалимо такі записи."
   ]
  },
  {
   "cell_type": "code",
   "execution_count": 5,
   "id": "d0596ffe",
   "metadata": {
    "colab": {
     "base_uri": "https://localhost:8080/",
     "height": 497
    },
    "executionInfo": {
     "elapsed": 243,
     "status": "error",
     "timestamp": 1714123039998,
     "user": {
      "displayName": "Stanislav Dondov",
      "userId": "13057226293604839521"
     },
     "user_tz": -180
    },
    "id": "d0596ffe",
    "outputId": "527156fc-6abc-45d8-986c-8a81def90b6d"
   },
   "outputs": [
    {
     "name": "stdout",
     "output_type": "stream",
     "text": [
      "Видалено 5391 рядків.\n"
     ]
    }
   ],
   "source": [
    "# запам'ятати скільки записів було\n",
    "previous_len = len(df)\n",
    "\n",
    "# видалити записи з порожнім текстом\n",
    "df = df.loc[~pd.isna(df['Текст'])].reset_index(drop=True)\n",
    "\n",
    "# подивитись скільки записів видалено\n",
    "print(f\"Видалено {previous_len - len(df)} рядків.\")"
   ]
  },
  {
   "cell_type": "code",
   "execution_count": 6,
   "id": "7314bdf9",
   "metadata": {},
   "outputs": [
    {
     "data": {
      "text/plain": [
       "Дата                             2023-03-15 11:01:05+00:00\n",
       "Текст    🚨ТРЕВОГА\\n\\nприслать новость 👉 @our_odessabot\\...\n",
       "Name: 14608, dtype: object"
      ]
     },
     "execution_count": 6,
     "metadata": {},
     "output_type": "execute_result"
    }
   ],
   "source": [
    "# подивитись коли було написано найдавніше повідомлення в датасеті\n",
    "df.iloc[-1]"
   ]
  },
  {
   "cell_type": "markdown",
   "id": "33c003b0",
   "metadata": {
    "id": "33c003b0"
   },
   "source": [
    "Розділимо повідомлення на ті, які відносяться до тривог і повідомлення на інші теми.  \n",
    "Кожен початок тривоги в цьому тг-каналі позначають повідомленням **\"🚨 ТРЕВОГА\"**, а відбій повідомленням **\"❎ ОТБОЙ\"**.  \n",
    "Вважатимемо всі повідомлення між цими двома такими, що мають стосунок до поточної тривоги, а ті що поза такою \"рамкою\" відкинемо."
   ]
  },
  {
   "cell_type": "code",
   "execution_count": 7,
   "id": "3b27d709",
   "metadata": {
    "id": "3b27d709",
    "outputId": "9f31ae68-3366-44a5-9b93-87ddd31d1baa",
    "scrolled": true
   },
   "outputs": [
    {
     "data": {
      "text/html": [
       "<div>\n",
       "<style scoped>\n",
       "    .dataframe tbody tr th:only-of-type {\n",
       "        vertical-align: middle;\n",
       "    }\n",
       "\n",
       "    .dataframe tbody tr th {\n",
       "        vertical-align: top;\n",
       "    }\n",
       "\n",
       "    .dataframe thead th {\n",
       "        text-align: right;\n",
       "    }\n",
       "</style>\n",
       "<table border=\"1\" class=\"dataframe\">\n",
       "  <thead>\n",
       "    <tr style=\"text-align: right;\">\n",
       "      <th></th>\n",
       "      <th>Дата</th>\n",
       "      <th>Текст</th>\n",
       "      <th>is_alert</th>\n",
       "    </tr>\n",
       "  </thead>\n",
       "  <tbody>\n",
       "    <tr>\n",
       "      <th>0</th>\n",
       "      <td>2024-04-26 16:01:54+00:00</td>\n",
       "      <td>На Одещині затримали військовослужбовця, який ...</td>\n",
       "      <td>False</td>\n",
       "    </tr>\n",
       "    <tr>\n",
       "      <th>1</th>\n",
       "      <td>2024-04-26 14:53:21+00:00</td>\n",
       "      <td>❗️Також у зв'язку із змаганнями буде змінено м...</td>\n",
       "      <td>False</td>\n",
       "    </tr>\n",
       "    <tr>\n",
       "      <th>2</th>\n",
       "      <td>2024-04-26 14:50:24+00:00</td>\n",
       "      <td>❎ ОТБОЙ\\n\\nПрислать новость 👉 @our_odessabot\\n...</td>\n",
       "      <td>True</td>\n",
       "    </tr>\n",
       "    <tr>\n",
       "      <th>3</th>\n",
       "      <td>2024-04-26 14:36:31+00:00</td>\n",
       "      <td>На даний час все чисто в наш бік\\nㅤ \\nНадіслат...</td>\n",
       "      <td>True</td>\n",
       "    </tr>\n",
       "    <tr>\n",
       "      <th>4</th>\n",
       "      <td>2024-04-26 14:20:09+00:00</td>\n",
       "      <td>🚨ВОЗДУШНАЯ ТРЕВОГА\\n\\nУгроза баллистики с Крым...</td>\n",
       "      <td>True</td>\n",
       "    </tr>\n",
       "  </tbody>\n",
       "</table>\n",
       "</div>"
      ],
      "text/plain": [
       "                        Дата   \n",
       "0  2024-04-26 16:01:54+00:00  \\\n",
       "1  2024-04-26 14:53:21+00:00   \n",
       "2  2024-04-26 14:50:24+00:00   \n",
       "3  2024-04-26 14:36:31+00:00   \n",
       "4  2024-04-26 14:20:09+00:00   \n",
       "\n",
       "                                               Текст is_alert  \n",
       "0  На Одещині затримали військовослужбовця, який ...    False  \n",
       "1  ❗️Також у зв'язку із змаганнями буде змінено м...    False  \n",
       "2  ❎ ОТБОЙ\\n\\nПрислать новость 👉 @our_odessabot\\n...     True  \n",
       "3  На даний час все чисто в наш бік\\nㅤ \\nНадіслат...     True  \n",
       "4  🚨ВОЗДУШНАЯ ТРЕВОГА\\n\\nУгроза баллистики с Крым...     True  "
      ]
     },
     "execution_count": 7,
     "metadata": {},
     "output_type": "execute_result"
    }
   ],
   "source": [
    "# допоміжна колонка is_alert показує чи відноситься повідомлення до тривоги\n",
    "if 'is_alert' not in df.columns:\n",
    "    df['is_alert'] = pd.NA\n",
    "\n",
    "# допоміжна змінна показує чи належить поточний запис до тривоги\n",
    "current_is_alert = False\n",
    "\n",
    "# повідомлення в файлі записані у зворотньому хронологічному порядку\n",
    "for i in range(len(df) - 1, -1, -1):\n",
    "    # поточне повідомлення\n",
    "    current_text = str(df.at[i, 'Текст'])\n",
    "\n",
    "    # початок тривоги\n",
    "    if \"🚨\" in current_text and (\"ТРЕВОГА\" in current_text or \"ТРИВОГА\" in current_text):\n",
    "        current_is_alert = True\n",
    "\n",
    "    df.at[i, 'is_alert'] = current_is_alert\n",
    "\n",
    "    # кінець тривоги\n",
    "    if \"❎\" in current_text and (\"ОТБОЙ\" in current_text or \"ВІДБІЙ\" in current_text):\n",
    "        current_is_alert = False\n",
    "\n",
    "\n",
    "# подивитись як виглядає датафрейм\n",
    "df.head()"
   ]
  },
  {
   "cell_type": "code",
   "execution_count": 8,
   "id": "bc44657a",
   "metadata": {
    "id": "bc44657a",
    "outputId": "0cb170e4-74b2-40ee-9725-caa1fc6ff74d"
   },
   "outputs": [
    {
     "name": "stdout",
     "output_type": "stream",
     "text": [
      "Видалено 8841 рядків.\n"
     ]
    }
   ],
   "source": [
    "# запам'ятати скільки записів було\n",
    "previous_len = len(df)\n",
    "\n",
    "# видалити рядки, які не належать до тривоги\n",
    "df = df.loc[df['is_alert'] == True].reset_index(drop=True)\n",
    "\n",
    "# видалити допоміжну колонку is_alert\n",
    "df = df.drop(columns=['is_alert'])\n",
    "\n",
    "# подивитись скільки записів видалено\n",
    "print(f\"Видалено {previous_len - len(df)} рядків.\")"
   ]
  },
  {
   "cell_type": "markdown",
   "id": "2a9d1dd3",
   "metadata": {
    "id": "2a9d1dd3"
   },
   "source": [
    "Для зручності об'єднаємо повідомлення, які належать до однієї тривоги в один текст."
   ]
  },
  {
   "cell_type": "code",
   "execution_count": 9,
   "id": "0dd1e421",
   "metadata": {
    "id": "0dd1e421",
    "outputId": "9f9a6d6e-7956-4a87-9191-e5530808b21f"
   },
   "outputs": [
    {
     "data": {
      "text/html": [
       "<div>\n",
       "<style scoped>\n",
       "    .dataframe tbody tr th:only-of-type {\n",
       "        vertical-align: middle;\n",
       "    }\n",
       "\n",
       "    .dataframe tbody tr th {\n",
       "        vertical-align: top;\n",
       "    }\n",
       "\n",
       "    .dataframe thead th {\n",
       "        text-align: right;\n",
       "    }\n",
       "</style>\n",
       "<table border=\"1\" class=\"dataframe\">\n",
       "  <thead>\n",
       "    <tr style=\"text-align: right;\">\n",
       "      <th></th>\n",
       "      <th>Текст</th>\n",
       "      <th>Початок тривоги</th>\n",
       "      <th>Кінець тривоги</th>\n",
       "    </tr>\n",
       "  </thead>\n",
       "  <tbody>\n",
       "    <tr>\n",
       "      <th>0</th>\n",
       "      <td>🚨ТРЕВОГА\\n\\nприслать новость 👉 @our_odessabot\\...</td>\n",
       "      <td>2023-03-15 11:01:05+00:00</td>\n",
       "      <td>2023-03-15 11:18:29+00:00</td>\n",
       "    </tr>\n",
       "    <tr>\n",
       "      <th>1</th>\n",
       "      <td>🚨ТРЕВОГА\\n\\nПричина тревоги та же\\n\\nприслать ...</td>\n",
       "      <td>2023-03-15 13:04:31+00:00</td>\n",
       "      <td>2023-03-15 13:54:07+00:00</td>\n",
       "    </tr>\n",
       "    <tr>\n",
       "      <th>2</th>\n",
       "      <td>🚨ТРЕВОГА\\n\\nприслать новость 👉 @our_odessabot\\...</td>\n",
       "      <td>2023-03-16 07:06:27+00:00</td>\n",
       "      <td>2023-03-16 08:37:46+00:00</td>\n",
       "    </tr>\n",
       "    <tr>\n",
       "      <th>3</th>\n",
       "      <td>🚨ТРЕВОГА\\n\\nприслать новость 👉 @our_odessabot\\...</td>\n",
       "      <td>2023-03-18 07:10:11+00:00</td>\n",
       "      <td>2023-03-18 09:17:41+00:00</td>\n",
       "    </tr>\n",
       "    <tr>\n",
       "      <th>4</th>\n",
       "      <td>🚨ТРЕВОГА\\n\\nприслать новость 👉 @our_odessabot\\...</td>\n",
       "      <td>2023-03-20 07:10:49+00:00</td>\n",
       "      <td>2023-03-20 08:42:18+00:00</td>\n",
       "    </tr>\n",
       "  </tbody>\n",
       "</table>\n",
       "</div>"
      ],
      "text/plain": [
       "                                               Текст   \n",
       "0  🚨ТРЕВОГА\\n\\nприслать новость 👉 @our_odessabot\\...  \\\n",
       "1  🚨ТРЕВОГА\\n\\nПричина тревоги та же\\n\\nприслать ...   \n",
       "2  🚨ТРЕВОГА\\n\\nприслать новость 👉 @our_odessabot\\...   \n",
       "3  🚨ТРЕВОГА\\n\\nприслать новость 👉 @our_odessabot\\...   \n",
       "4  🚨ТРЕВОГА\\n\\nприслать новость 👉 @our_odessabot\\...   \n",
       "\n",
       "             Початок тривоги             Кінець тривоги  \n",
       "0  2023-03-15 11:01:05+00:00  2023-03-15 11:18:29+00:00  \n",
       "1  2023-03-15 13:04:31+00:00  2023-03-15 13:54:07+00:00  \n",
       "2  2023-03-16 07:06:27+00:00  2023-03-16 08:37:46+00:00  \n",
       "3  2023-03-18 07:10:11+00:00  2023-03-18 09:17:41+00:00  \n",
       "4  2023-03-20 07:10:49+00:00  2023-03-20 08:42:18+00:00  "
      ]
     },
     "execution_count": 9,
     "metadata": {},
     "output_type": "execute_result"
    }
   ],
   "source": [
    "# створити новий датасет\n",
    "df2 = pd.DataFrame(columns=[\"Текст\", \"Початок тривоги\", \"Кінець тривоги\"])\n",
    "\n",
    "# загальний текст поточної тривоги\n",
    "current_alert_text = \"\"\n",
    "\n",
    "# час початку поточної тривоги\n",
    "current_alert_start_time = \"\"\n",
    "\n",
    "# час закінчення поточної тривоги\n",
    "current_alert_end_time = \"\"\n",
    "\n",
    "\n",
    "for i in range(len(df) - 1, -1, -1):\n",
    "    # поточне повідомлення\n",
    "    current_text = str(df.at[i, 'Текст'])\n",
    "\n",
    "    # перше повідомлення за всю тривогу\n",
    "    if \"🚨\" in current_text and (\"ТРЕВОГА\" in current_text or \"ТРИВОГА\" in current_text):\n",
    "        current_alert_start_time = str(df.at[i, 'Дата'])\n",
    "        current_alert_text += current_text\n",
    "\n",
    "    # останнє повідомлення за всю тривогу\n",
    "    elif \"❎\" in current_text and (\"ОТБОЙ\" in current_text or \"ВІДБІЙ\" in current_text):\n",
    "        current_alert_text += current_text\n",
    "        current_alert_end_time = str(df.at[i, 'Дата'])\n",
    "\n",
    "        # додати новий запис в кінець датасету\n",
    "        df2.loc[len(df2)] = {\"Текст\": current_alert_text, \"Початок тривоги\": current_alert_start_time, \"Кінець тривоги\": current_alert_end_time}\n",
    "        current_alert_text = \"\"\n",
    "\n",
    "    # проміжні повідомлення\n",
    "    else:\n",
    "        current_alert_text += current_text\n",
    "\n",
    "\n",
    "# подивитись як виглядає датафрейм\n",
    "df2.head()"
   ]
  },
  {
   "cell_type": "code",
   "execution_count": 10,
   "id": "d5d27fd3",
   "metadata": {
    "id": "d5d27fd3",
    "outputId": "2d8e7db6-2aa5-447f-d438-8b3b399bb40c"
   },
   "outputs": [
    {
     "data": {
      "text/plain": [
       "609"
      ]
     },
     "execution_count": 10,
     "metadata": {},
     "output_type": "execute_result"
    }
   ],
   "source": [
    "len(df2)"
   ]
  },
  {
   "cell_type": "code",
   "execution_count": 11,
   "id": "7413e758",
   "metadata": {
    "id": "7413e758",
    "outputId": "8bf3f01b-0f27-4d05-c08b-bffa2f7f6899"
   },
   "outputs": [
    {
     "data": {
      "text/plain": [
       "'🚨ТРЕВОГА\\n\\nприслать новость 👉 @our_odessabot\\n👉ПодписатьсяСтаном на зараз у повітрі декілька МіГ-31к та 1 літак-заправник Іл-78.\\n\\nЗліт відбувся з ае «Моздок» та ае «Саваслейка».\\n\\nВектор руху МіГ-31к - акваторія Чорного моря.\\n\\nСтежимо - https://t.me/+fzSnqEqdOck3Mjky\\n\\nНадіслати новину @our_odessabot\\n👉 ПІДПИСАТИСЯ11.17, масштабна тривога триває.\\n\\nНаразі в небі 3х МІГи31К\\n\\nПусків не було, але вірогідність існує.\\n\\nБудьте обережні.\\n\\nНадіслати новину @our_odessabot\\n👉 ПІДПИСАТИСЯ❎ ОТБОЙ\\n\\nприслать новость 👉 @our_odessabot\\n👉Подписаться'"
      ]
     },
     "execution_count": 11,
     "metadata": {},
     "output_type": "execute_result"
    }
   ],
   "source": [
    "# подивитись випадковий текст тривоги\n",
    "random.choice(df2[\"Текст\"])"
   ]
  },
  {
   "cell_type": "markdown",
   "id": "72ad806f",
   "metadata": {
    "id": "72ad806f"
   },
   "source": [
    "Нас цікавлять саме тривоги пов'язані з шахедами.  \n",
    "Використаємо ключові слова типу \"шахед\", \"мопед\" і т.п. для пошуку відповідних тривог, а решту відкинемо."
   ]
  },
  {
   "cell_type": "code",
   "execution_count": 12,
   "id": "6b7045d2",
   "metadata": {
    "id": "6b7045d2",
    "outputId": "9c83b245-1421-42ac-f669-fd303ca75ae5"
   },
   "outputs": [
    {
     "data": {
      "text/html": [
       "<div>\n",
       "<style scoped>\n",
       "    .dataframe tbody tr th:only-of-type {\n",
       "        vertical-align: middle;\n",
       "    }\n",
       "\n",
       "    .dataframe tbody tr th {\n",
       "        vertical-align: top;\n",
       "    }\n",
       "\n",
       "    .dataframe thead th {\n",
       "        text-align: right;\n",
       "    }\n",
       "</style>\n",
       "<table border=\"1\" class=\"dataframe\">\n",
       "  <thead>\n",
       "    <tr style=\"text-align: right;\">\n",
       "      <th></th>\n",
       "      <th>Текст</th>\n",
       "      <th>Початок тривоги</th>\n",
       "      <th>Кінець тривоги</th>\n",
       "      <th>is_moped</th>\n",
       "    </tr>\n",
       "  </thead>\n",
       "  <tbody>\n",
       "    <tr>\n",
       "      <th>0</th>\n",
       "      <td>🚨ТРЕВОГА\\n\\nприслать новость 👉 @our_odessabot\\...</td>\n",
       "      <td>2023-03-15 11:01:05+00:00</td>\n",
       "      <td>2023-03-15 11:18:29+00:00</td>\n",
       "      <td>False</td>\n",
       "    </tr>\n",
       "    <tr>\n",
       "      <th>1</th>\n",
       "      <td>🚨ТРЕВОГА\\n\\nПричина тревоги та же\\n\\nприслать ...</td>\n",
       "      <td>2023-03-15 13:04:31+00:00</td>\n",
       "      <td>2023-03-15 13:54:07+00:00</td>\n",
       "      <td>False</td>\n",
       "    </tr>\n",
       "    <tr>\n",
       "      <th>2</th>\n",
       "      <td>🚨ТРЕВОГА\\n\\nприслать новость 👉 @our_odessabot\\...</td>\n",
       "      <td>2023-03-16 07:06:27+00:00</td>\n",
       "      <td>2023-03-16 08:37:46+00:00</td>\n",
       "      <td>False</td>\n",
       "    </tr>\n",
       "    <tr>\n",
       "      <th>3</th>\n",
       "      <td>🚨ТРЕВОГА\\n\\nприслать новость 👉 @our_odessabot\\...</td>\n",
       "      <td>2023-03-18 07:10:11+00:00</td>\n",
       "      <td>2023-03-18 09:17:41+00:00</td>\n",
       "      <td>False</td>\n",
       "    </tr>\n",
       "    <tr>\n",
       "      <th>4</th>\n",
       "      <td>🚨ТРЕВОГА\\n\\nприслать новость 👉 @our_odessabot\\...</td>\n",
       "      <td>2023-03-20 07:10:49+00:00</td>\n",
       "      <td>2023-03-20 08:42:18+00:00</td>\n",
       "      <td>False</td>\n",
       "    </tr>\n",
       "  </tbody>\n",
       "</table>\n",
       "</div>"
      ],
      "text/plain": [
       "                                               Текст   \n",
       "0  🚨ТРЕВОГА\\n\\nприслать новость 👉 @our_odessabot\\...  \\\n",
       "1  🚨ТРЕВОГА\\n\\nПричина тревоги та же\\n\\nприслать ...   \n",
       "2  🚨ТРЕВОГА\\n\\nприслать новость 👉 @our_odessabot\\...   \n",
       "3  🚨ТРЕВОГА\\n\\nприслать новость 👉 @our_odessabot\\...   \n",
       "4  🚨ТРЕВОГА\\n\\nприслать новость 👉 @our_odessabot\\...   \n",
       "\n",
       "             Початок тривоги             Кінець тривоги is_moped  \n",
       "0  2023-03-15 11:01:05+00:00  2023-03-15 11:18:29+00:00    False  \n",
       "1  2023-03-15 13:04:31+00:00  2023-03-15 13:54:07+00:00    False  \n",
       "2  2023-03-16 07:06:27+00:00  2023-03-16 08:37:46+00:00    False  \n",
       "3  2023-03-18 07:10:11+00:00  2023-03-18 09:17:41+00:00    False  \n",
       "4  2023-03-20 07:10:49+00:00  2023-03-20 08:42:18+00:00    False  "
      ]
     },
     "execution_count": 12,
     "metadata": {},
     "output_type": "execute_result"
    }
   ],
   "source": [
    "# ключові слова пов'язані з шахедами\n",
    "moped_keywords = [\"мопед\", \"шахед\", \"шахид\", \"шахід\", \"дрон\", \"камікадзе\", \"камикадзе\", \"бпла\", \"безпілотник\", \"безпилотник\"]\n",
    "\n",
    "# допоміжна колонка is_moped показує чи пов'язана тривога з мопедами\n",
    "if 'is_moped' not in df2.columns:\n",
    "    df2['is_moped'] = pd.NA\n",
    "\n",
    "\n",
    "for i in range(len(df2)):\n",
    "    # допоміжна змінна показує чи пов'язана поточна тривога з мопедами\n",
    "    current_is_moped = False\n",
    "\n",
    "    # текст поточної тривоги\n",
    "    current_text = str(df2.at[i, 'Текст']).lower()\n",
    "\n",
    "    for k in moped_keywords:\n",
    "        # перевірити чи зустрічається ключове слово в тексті тривоги\n",
    "        if k in current_text:\n",
    "            current_is_moped = True\n",
    "            break\n",
    "\n",
    "    df2.at[i, 'is_moped'] = current_is_moped\n",
    "\n",
    "\n",
    "# подивитись як виглядає датафрейм\n",
    "df2.head()"
   ]
  },
  {
   "cell_type": "code",
   "execution_count": 13,
   "id": "05d864df",
   "metadata": {
    "id": "05d864df",
    "outputId": "49d09fc9-6bc8-445a-c715-b85ba9af43f9"
   },
   "outputs": [
    {
     "name": "stdout",
     "output_type": "stream",
     "text": [
      "Видалено 397 рядків.\n"
     ]
    }
   ],
   "source": [
    "# запам'ятати скільки записів було\n",
    "previous_len = len(df2)\n",
    "\n",
    "# видалити тривоги які не пов'язані з шахедами\n",
    "df2 = df2.loc[df2['is_moped'] == True].reset_index(drop=True)\n",
    "\n",
    "# видалити допоміжну колонку\n",
    "df2 = df2.drop(columns=['is_moped'])\n",
    "\n",
    "# подивитись скільки записів видалено\n",
    "print(f\"Видалено {previous_len - len(df2)} рядків.\")"
   ]
  },
  {
   "cell_type": "markdown",
   "id": "ef413658",
   "metadata": {
    "id": "ef413658"
   },
   "source": [
    "Нас не цікавить весь текст тривоги, нам треба тільки виділити географічні назви населених пунктів, для яких була загроза під час даної тривоги.  \n",
    "Було б зручно використати готовий список міст з інтернету, але в повідомленнях в телеграм часто використовуються неформальні назви (наприклад Поскот замість Житловий масив імені Котовського).  \n",
    "На щастя, населених пунктів, які згадуються в більшості повідомлень про тривогу відносно невелика кількість, можна їх явно перерахувати."
   ]
  },
  {
   "cell_type": "code",
   "execution_count": 14,
   "id": "2e5fd5a7",
   "metadata": {
    "id": "2e5fd5a7"
   },
   "outputs": [],
   "source": [
    "# північ Одеської області\n",
    "geo_north = \"любашівка любашевка іванівка ивановка ширяєве ширяево балта первомайськ первомайск южноукраїнськ южноукраинск вознесенськ вознесенск роздільна раздельная ананьїв ананьев березівка березовка вінниця винница доброслав слободка слобідка\"\n",
    "\n",
    "# трохи північніше Одеси\n",
    "geo_above_odesa = \"кінбурнська кінбурн кинбурнская гвардійське гвардейское біляри білярі беляры рибаківка рыбаковка очаків очаков южне южное южний южный миколаїв николаев коблево коблеве першотравневе первомайское\"\n",
    "\n",
    "# район Одеси\n",
    "geo_odesa = \"авангард великодолинське великодолинское латівка латовка куяльник черьомушки черемушки паланка хлібодарське хлебодарское ланжерон лузанівка лузановка котовского котовського березань балка дачне дачное дальник шкільний школьный усатове усатово лиманка молдаванка поскот аркадія аркадия біляївка беляевка маяки гідропорт гидропорт пересип пересыпь центр чабанка фонтанка таїрове таирово одеса одесса\"\n",
    "\n",
    "# трохи південніше Одеси\n",
    "geo_behind_odesa = \"грибівка грибовка кароліно бугаз каролино курортне курортное чорноморськ черноморск затока аккерман білгород белгород санжейка санжійка сергіївка сергеевка\"\n",
    "\n",
    "# південь Одеської області\n",
    "geo_south = \"арциз рені рени приморське приморское болград орлівка орловка сарата зміїний змеиный лебедівка лебедевка вілково вілкове вилково вилкове татарбунари татарбунары кілія килия ізмаїл измаил\""
   ]
  },
  {
   "cell_type": "code",
   "execution_count": 15,
   "id": "12547467",
   "metadata": {
    "id": "12547467",
    "outputId": "a94640f5-aba2-46a7-b204-8e6b4f594ea2"
   },
   "outputs": [
    {
     "name": "stdout",
     "output_type": "stream",
     "text": [
      "Всього 116 населених пунктів.\n"
     ]
    }
   ],
   "source": [
    "# лематизувати слова - відкинути закінчення, щоб не розглядати різні відмінки слова як різні слова\n",
    "endings = [\"а\", \"и\", \"о\", \"е\", \"і\", \"я\", \"у\", \"ї\", \"ю\", \"є\", \"й\", \"ь\", \"ы\"]\n",
    "\n",
    "def remove_endings(word):\n",
    "    \"\"\" Функція видаляє з кінця слова літери закінчення. \"\"\"\n",
    "    while len(word) > 0 and word[-1] in endings:\n",
    "        word = word[:-1]\n",
    "    return word\n",
    "\n",
    "\n",
    "# об'єднати назви населених пунктів\n",
    "geo_odesa_region = \" \".join([geo_north, geo_above_odesa, geo_odesa, geo_behind_odesa, geo_south])\n",
    "\n",
    "# розбити на окремі слова\n",
    "geo_odesa_region = geo_odesa_region.split()\n",
    "\n",
    "# відкинути закінчення\n",
    "geo_odesa_region = list(set([remove_endings(geo) for geo in geo_odesa_region]))\n",
    "\n",
    "print(f\"Всього {len(geo_odesa_region)} населених пунктів.\")"
   ]
  },
  {
   "cell_type": "code",
   "execution_count": 16,
   "id": "9b27f4b9",
   "metadata": {
    "id": "9b27f4b9",
    "outputId": "9388668e-bd83-46dd-f334-e097fc2d7c49"
   },
   "outputs": [
    {
     "data": {
      "text/html": [
       "<div>\n",
       "<style scoped>\n",
       "    .dataframe tbody tr th:only-of-type {\n",
       "        vertical-align: middle;\n",
       "    }\n",
       "\n",
       "    .dataframe tbody tr th {\n",
       "        vertical-align: top;\n",
       "    }\n",
       "\n",
       "    .dataframe thead th {\n",
       "        text-align: right;\n",
       "    }\n",
       "</style>\n",
       "<table border=\"1\" class=\"dataframe\">\n",
       "  <thead>\n",
       "    <tr style=\"text-align: right;\">\n",
       "      <th></th>\n",
       "      <th>Текст</th>\n",
       "      <th>Початок тривоги</th>\n",
       "      <th>Кінець тривоги</th>\n",
       "      <th>Гео</th>\n",
       "    </tr>\n",
       "  </thead>\n",
       "  <tbody>\n",
       "    <tr>\n",
       "      <th>0</th>\n",
       "      <td>🚨ТРЕВОГА\\n\\nприслать новость 👉 @our_odessabot\\...</td>\n",
       "      <td>2023-03-21 17:32:08+00:00</td>\n",
       "      <td>2023-03-21 18:15:01+00:00</td>\n",
       "      <td>[заток, беляевк, одесс, одесс, одесс, заток, т...</td>\n",
       "    </tr>\n",
       "    <tr>\n",
       "      <th>1</th>\n",
       "      <td>🚨ТРЕВОГА\\n\\nприслать новость 👉 @our_odessabot\\...</td>\n",
       "      <td>2023-04-03 22:23:20+00:00</td>\n",
       "      <td>2023-04-04 00:14:35+00:00</td>\n",
       "      <td>[очаков, николаев, одесс, одес]</td>\n",
       "    </tr>\n",
       "    <tr>\n",
       "      <th>2</th>\n",
       "      <td>🚨ТРЕВОГА\\n\\nприслать новость 👉 @our_odessabot\\...</td>\n",
       "      <td>2023-04-04 09:41:29+00:00</td>\n",
       "      <td>2023-04-04 11:43:11+00:00</td>\n",
       "      <td>[одес]</td>\n",
       "    </tr>\n",
       "    <tr>\n",
       "      <th>3</th>\n",
       "      <td>🚨ТРЕВОГА\\n\\nАктивність ворожої авіації в морі....</td>\n",
       "      <td>2023-04-18 22:47:37+00:00</td>\n",
       "      <td>2023-04-18 23:59:38+00:00</td>\n",
       "      <td>[чорноморськ, одес, одес, одес, таїров]</td>\n",
       "    </tr>\n",
       "    <tr>\n",
       "      <th>4</th>\n",
       "      <td>🚨ТРЕВОГА\\n\\nПодтверждения пусков пока нет, тре...</td>\n",
       "      <td>2023-05-01 00:14:24+00:00</td>\n",
       "      <td>2023-05-01 03:35:26+00:00</td>\n",
       "      <td>[]</td>\n",
       "    </tr>\n",
       "  </tbody>\n",
       "</table>\n",
       "</div>"
      ],
      "text/plain": [
       "                                               Текст   \n",
       "0  🚨ТРЕВОГА\\n\\nприслать новость 👉 @our_odessabot\\...  \\\n",
       "1  🚨ТРЕВОГА\\n\\nприслать новость 👉 @our_odessabot\\...   \n",
       "2  🚨ТРЕВОГА\\n\\nприслать новость 👉 @our_odessabot\\...   \n",
       "3  🚨ТРЕВОГА\\n\\nАктивність ворожої авіації в морі....   \n",
       "4  🚨ТРЕВОГА\\n\\nПодтверждения пусков пока нет, тре...   \n",
       "\n",
       "             Початок тривоги             Кінець тривоги   \n",
       "0  2023-03-21 17:32:08+00:00  2023-03-21 18:15:01+00:00  \\\n",
       "1  2023-04-03 22:23:20+00:00  2023-04-04 00:14:35+00:00   \n",
       "2  2023-04-04 09:41:29+00:00  2023-04-04 11:43:11+00:00   \n",
       "3  2023-04-18 22:47:37+00:00  2023-04-18 23:59:38+00:00   \n",
       "4  2023-05-01 00:14:24+00:00  2023-05-01 03:35:26+00:00   \n",
       "\n",
       "                                                 Гео  \n",
       "0  [заток, беляевк, одесс, одесс, одесс, заток, т...  \n",
       "1                    [очаков, николаев, одесс, одес]  \n",
       "2                                             [одес]  \n",
       "3            [чорноморськ, одес, одес, одес, таїров]  \n",
       "4                                                 []  "
      ]
     },
     "execution_count": 16,
     "metadata": {},
     "output_type": "execute_result"
    }
   ],
   "source": [
    "# створити окрему колонку для знайдених топонімів\n",
    "if 'Гео' not in df2.columns:\n",
    "    df2['Гео'] = pd.NA\n",
    "\n",
    "\n",
    "for i in range(len(df2)):\n",
    "    # текст поточної тривоги\n",
    "    current_text = str(df2.at[i, 'Текст']).lower()\n",
    "\n",
    "    # розділити текст на окремі слова без розділових знаків\n",
    "    words = re.findall(r'\\b\\w+\\b', current_text)\n",
    "\n",
    "    # знайти топоніми в тексті\n",
    "    df2.at[i, 'Гео'] = [remove_endings(word) for word in words if remove_endings(word.lower()) in geo_odesa_region]\n",
    "\n",
    "\n",
    "# подивитись як виглядає датафрейм\n",
    "df2.head()"
   ]
  },
  {
   "cell_type": "code",
   "execution_count": 17,
   "id": "8602d8fa",
   "metadata": {
    "id": "8602d8fa",
    "outputId": "0e74f28c-ff14-4101-838a-6566e3cf51a9"
   },
   "outputs": [
    {
     "name": "stdout",
     "output_type": "stream",
     "text": [
      "Видалено 34 рядків.\n"
     ]
    }
   ],
   "source": [
    "# запам'ятати скільки записів було\n",
    "previous_len = len(df2)\n",
    "\n",
    "# видалити записи які не містять назв населених пунктів Одещини\n",
    "df2 = df2[df2['Гео'].apply(lambda x: len(x) > 0)]\n",
    "\n",
    "# видалити колонку \"Текст\"\n",
    "df2 = df2.drop(columns=['Текст']).reset_index(drop=True)\n",
    "\n",
    "# подивитись скільки записів видалено\n",
    "print(f\"Видалено {previous_len - len(df2)} рядків.\")"
   ]
  },
  {
   "cell_type": "markdown",
   "id": "88b8f105",
   "metadata": {
    "id": "88b8f105"
   },
   "source": [
    "Для аналізу нас не цікавить час закінчення тривоги. Зручніше було б розглянути тривалість тривоги.  \n",
    "Знаючи тривалість тривоги і час початку можна за необхідності обчислити час закінчення."
   ]
  },
  {
   "cell_type": "code",
   "execution_count": 18,
   "id": "62104204",
   "metadata": {
    "id": "62104204",
    "outputId": "e7fc7eb8-c169-41f6-a093-a249aa265274"
   },
   "outputs": [
    {
     "data": {
      "text/html": [
       "<div>\n",
       "<style scoped>\n",
       "    .dataframe tbody tr th:only-of-type {\n",
       "        vertical-align: middle;\n",
       "    }\n",
       "\n",
       "    .dataframe tbody tr th {\n",
       "        vertical-align: top;\n",
       "    }\n",
       "\n",
       "    .dataframe thead th {\n",
       "        text-align: right;\n",
       "    }\n",
       "</style>\n",
       "<table border=\"1\" class=\"dataframe\">\n",
       "  <thead>\n",
       "    <tr style=\"text-align: right;\">\n",
       "      <th></th>\n",
       "      <th>Початок тривоги</th>\n",
       "      <th>Кінець тривоги</th>\n",
       "      <th>Гео</th>\n",
       "      <th>Тривалість тривоги</th>\n",
       "    </tr>\n",
       "  </thead>\n",
       "  <tbody>\n",
       "    <tr>\n",
       "      <th>0</th>\n",
       "      <td>2023-03-21 17:32:08+00:00</td>\n",
       "      <td>2023-03-21 18:15:01+00:00</td>\n",
       "      <td>[заток, беляевк, одесс, одесс, одесс, заток, т...</td>\n",
       "      <td>43</td>\n",
       "    </tr>\n",
       "    <tr>\n",
       "      <th>1</th>\n",
       "      <td>2023-04-03 22:23:20+00:00</td>\n",
       "      <td>2023-04-04 00:14:35+00:00</td>\n",
       "      <td>[очаков, николаев, одесс, одес]</td>\n",
       "      <td>111</td>\n",
       "    </tr>\n",
       "    <tr>\n",
       "      <th>2</th>\n",
       "      <td>2023-04-04 09:41:29+00:00</td>\n",
       "      <td>2023-04-04 11:43:11+00:00</td>\n",
       "      <td>[одес]</td>\n",
       "      <td>122</td>\n",
       "    </tr>\n",
       "    <tr>\n",
       "      <th>3</th>\n",
       "      <td>2023-04-18 22:47:37+00:00</td>\n",
       "      <td>2023-04-18 23:59:38+00:00</td>\n",
       "      <td>[чорноморськ, одес, одес, одес, таїров]</td>\n",
       "      <td>72</td>\n",
       "    </tr>\n",
       "    <tr>\n",
       "      <th>4</th>\n",
       "      <td>2023-05-03 23:36:26+00:00</td>\n",
       "      <td>2023-05-04 01:31:02+00:00</td>\n",
       "      <td>[одес, латовк, одес, одес, пересип, центр, оде...</td>\n",
       "      <td>115</td>\n",
       "    </tr>\n",
       "  </tbody>\n",
       "</table>\n",
       "</div>"
      ],
      "text/plain": [
       "             Початок тривоги             Кінець тривоги   \n",
       "0  2023-03-21 17:32:08+00:00  2023-03-21 18:15:01+00:00  \\\n",
       "1  2023-04-03 22:23:20+00:00  2023-04-04 00:14:35+00:00   \n",
       "2  2023-04-04 09:41:29+00:00  2023-04-04 11:43:11+00:00   \n",
       "3  2023-04-18 22:47:37+00:00  2023-04-18 23:59:38+00:00   \n",
       "4  2023-05-03 23:36:26+00:00  2023-05-04 01:31:02+00:00   \n",
       "\n",
       "                                                 Гео Тривалість тривоги  \n",
       "0  [заток, беляевк, одесс, одесс, одесс, заток, т...                 43  \n",
       "1                    [очаков, николаев, одесс, одес]                111  \n",
       "2                                             [одес]                122  \n",
       "3            [чорноморськ, одес, одес, одес, таїров]                 72  \n",
       "4  [одес, латовк, одес, одес, пересип, центр, оде...                115  "
      ]
     },
     "execution_count": 18,
     "metadata": {},
     "output_type": "execute_result"
    }
   ],
   "source": [
    "# створити колонку\n",
    "if 'Тривалість тривоги' not in df2.columns:\n",
    "    df2['Тривалість тривоги'] = pd.NA\n",
    "\n",
    "\n",
    "for i in range(len(df2)):\n",
    "    # час початку тривоги\n",
    "    start_time_str = df2.at[i, 'Початок тривоги']\n",
    "    start_time = datetime.fromisoformat(start_time_str)\n",
    "\n",
    "    # час завершення тривоги\n",
    "    end_time_str = df2.at[i, 'Кінець тривоги']\n",
    "    end_time = datetime.fromisoformat(end_time_str)\n",
    "\n",
    "    # різниця в часі з точністю до хвилини\n",
    "    duration_minutes = round((end_time - start_time).total_seconds() / 60)\n",
    "    df2.at[i, 'Тривалість тривоги'] = duration_minutes\n",
    "\n",
    "\n",
    "# подивитись як виглядає датафрейм\n",
    "df2.head()"
   ]
  },
  {
   "cell_type": "code",
   "execution_count": 19,
   "id": "a76fdc02",
   "metadata": {
    "id": "a76fdc02",
    "outputId": "8cf2c6ca-0918-4ad4-a513-30e8db7ef5ab"
   },
   "outputs": [
    {
     "data": {
      "text/html": [
       "<div>\n",
       "<style scoped>\n",
       "    .dataframe tbody tr th:only-of-type {\n",
       "        vertical-align: middle;\n",
       "    }\n",
       "\n",
       "    .dataframe tbody tr th {\n",
       "        vertical-align: top;\n",
       "    }\n",
       "\n",
       "    .dataframe thead th {\n",
       "        text-align: right;\n",
       "    }\n",
       "</style>\n",
       "<table border=\"1\" class=\"dataframe\">\n",
       "  <thead>\n",
       "    <tr style=\"text-align: right;\">\n",
       "      <th></th>\n",
       "      <th>Початок тривоги</th>\n",
       "      <th>Гео</th>\n",
       "      <th>Тривалість тривоги</th>\n",
       "    </tr>\n",
       "  </thead>\n",
       "  <tbody>\n",
       "    <tr>\n",
       "      <th>0</th>\n",
       "      <td>2023-03-21 17:32:08+00:00</td>\n",
       "      <td>[заток, беляевк, одесс, одесс, одесс, заток, т...</td>\n",
       "      <td>43</td>\n",
       "    </tr>\n",
       "    <tr>\n",
       "      <th>1</th>\n",
       "      <td>2023-04-03 22:23:20+00:00</td>\n",
       "      <td>[очаков, николаев, одесс, одес]</td>\n",
       "      <td>111</td>\n",
       "    </tr>\n",
       "    <tr>\n",
       "      <th>2</th>\n",
       "      <td>2023-04-04 09:41:29+00:00</td>\n",
       "      <td>[одес]</td>\n",
       "      <td>122</td>\n",
       "    </tr>\n",
       "    <tr>\n",
       "      <th>3</th>\n",
       "      <td>2023-04-18 22:47:37+00:00</td>\n",
       "      <td>[чорноморськ, одес, одес, одес, таїров]</td>\n",
       "      <td>72</td>\n",
       "    </tr>\n",
       "    <tr>\n",
       "      <th>4</th>\n",
       "      <td>2023-05-03 23:36:26+00:00</td>\n",
       "      <td>[одес, латовк, одес, одес, пересип, центр, оде...</td>\n",
       "      <td>115</td>\n",
       "    </tr>\n",
       "  </tbody>\n",
       "</table>\n",
       "</div>"
      ],
      "text/plain": [
       "             Початок тривоги   \n",
       "0  2023-03-21 17:32:08+00:00  \\\n",
       "1  2023-04-03 22:23:20+00:00   \n",
       "2  2023-04-04 09:41:29+00:00   \n",
       "3  2023-04-18 22:47:37+00:00   \n",
       "4  2023-05-03 23:36:26+00:00   \n",
       "\n",
       "                                                 Гео Тривалість тривоги  \n",
       "0  [заток, беляевк, одесс, одесс, одесс, заток, т...                 43  \n",
       "1                    [очаков, николаев, одесс, одес]                111  \n",
       "2                                             [одес]                122  \n",
       "3            [чорноморськ, одес, одес, одес, таїров]                 72  \n",
       "4  [одес, латовк, одес, одес, пересип, центр, оде...                115  "
      ]
     },
     "execution_count": 19,
     "metadata": {},
     "output_type": "execute_result"
    }
   ],
   "source": [
    "# видалити колонку\n",
    "df2 = df2.drop(columns=['Кінець тривоги'])\n",
    "\n",
    "# подивитись як виглядає очищений датафрейм\n",
    "df2.head()"
   ]
  },
  {
   "cell_type": "code",
   "execution_count": 20,
   "id": "33333477",
   "metadata": {
    "id": "33333477"
   },
   "outputs": [],
   "source": [
    "# зберегти оброблені дані\n",
    "df2.to_csv(\"preprocessed_data.csv\", index=False)"
   ]
  },
  {
   "cell_type": "markdown",
   "id": "9be6efbf",
   "metadata": {
    "id": "9be6efbf"
   },
   "source": [
    "# Кластеризація"
   ]
  },
  {
   "cell_type": "code",
   "execution_count": 21,
   "id": "d7bcd946",
   "metadata": {
    "id": "d7bcd946"
   },
   "outputs": [],
   "source": [
    "from geopy.distance import geodesic\n",
    "from geopy.exc import GeocoderServiceError, GeocoderUnavailable\n",
    "from geopy.adapters import AdapterHTTPError\n",
    "from geopy.geocoders import Nominatim\n",
    "import matplotlib.pyplot as plt\n",
    "from sklearn.manifold import MDS\n",
    "\n",
    "import time"
   ]
  },
  {
   "cell_type": "markdown",
   "id": "346cdc69",
   "metadata": {
    "id": "346cdc69"
   },
   "source": [
    "Вище я вручну виписав назви міст розділені по регіонам.\n",
    "Якби міст було багато, то це був би досить трудомісткий процес.  \n",
    "Цікаво, чи можна розділити міста по регіонам використовуючи алгоритми машинного навчання?  \n",
    "В цьому блоці я вирішив використати метод кластеризації **K-середніх** для розділення міст по регіонах області."
   ]
  },
  {
   "cell_type": "code",
   "execution_count": 22,
   "id": "faa63528",
   "metadata": {
    "id": "faa63528",
    "outputId": "3c6a776d-b232-4ea3-ae50-123374b7510d"
   },
   "outputs": [
    {
     "data": {
      "text/html": [
       "<div>\n",
       "<style scoped>\n",
       "    .dataframe tbody tr th:only-of-type {\n",
       "        vertical-align: middle;\n",
       "    }\n",
       "\n",
       "    .dataframe tbody tr th {\n",
       "        vertical-align: top;\n",
       "    }\n",
       "\n",
       "    .dataframe thead th {\n",
       "        text-align: right;\n",
       "    }\n",
       "</style>\n",
       "<table border=\"1\" class=\"dataframe\">\n",
       "  <thead>\n",
       "    <tr style=\"text-align: right;\">\n",
       "      <th></th>\n",
       "      <th>Початок тривоги</th>\n",
       "      <th>Гео</th>\n",
       "      <th>Тривалість тривоги</th>\n",
       "    </tr>\n",
       "  </thead>\n",
       "  <tbody>\n",
       "    <tr>\n",
       "      <th>0</th>\n",
       "      <td>2023-03-21 17:32:08+00:00</td>\n",
       "      <td>[заток, беляевк, одесс, одесс, одесс, заток, т...</td>\n",
       "      <td>43</td>\n",
       "    </tr>\n",
       "    <tr>\n",
       "      <th>1</th>\n",
       "      <td>2023-04-03 22:23:20+00:00</td>\n",
       "      <td>[очаков, николаев, одесс, одес]</td>\n",
       "      <td>111</td>\n",
       "    </tr>\n",
       "    <tr>\n",
       "      <th>2</th>\n",
       "      <td>2023-04-04 09:41:29+00:00</td>\n",
       "      <td>[одес]</td>\n",
       "      <td>122</td>\n",
       "    </tr>\n",
       "    <tr>\n",
       "      <th>3</th>\n",
       "      <td>2023-04-18 22:47:37+00:00</td>\n",
       "      <td>[чорноморськ, одес, одес, одес, таїров]</td>\n",
       "      <td>72</td>\n",
       "    </tr>\n",
       "    <tr>\n",
       "      <th>4</th>\n",
       "      <td>2023-05-03 23:36:26+00:00</td>\n",
       "      <td>[одес, латовк, одес, одес, пересип, центр, оде...</td>\n",
       "      <td>115</td>\n",
       "    </tr>\n",
       "  </tbody>\n",
       "</table>\n",
       "</div>"
      ],
      "text/plain": [
       "             Початок тривоги   \n",
       "0  2023-03-21 17:32:08+00:00  \\\n",
       "1  2023-04-03 22:23:20+00:00   \n",
       "2  2023-04-04 09:41:29+00:00   \n",
       "3  2023-04-18 22:47:37+00:00   \n",
       "4  2023-05-03 23:36:26+00:00   \n",
       "\n",
       "                                                 Гео  Тривалість тривоги  \n",
       "0  [заток, беляевк, одесс, одесс, одесс, заток, т...                  43  \n",
       "1                    [очаков, николаев, одесс, одес]                 111  \n",
       "2                                             [одес]                 122  \n",
       "3            [чорноморськ, одес, одес, одес, таїров]                  72  \n",
       "4  [одес, латовк, одес, одес, пересип, центр, оде...                 115  "
      ]
     },
     "execution_count": 22,
     "metadata": {},
     "output_type": "execute_result"
    }
   ],
   "source": [
    "# зчитати підготовлені дані\n",
    "df3 = pd.read_csv(\"preprocessed_data.csv\")\n",
    "\n",
    "# після зчитування з файлу колонка \"Гео\" має тип str, переведемо його назад в list\n",
    "df3[\"Гео\"] = df3[\"Гео\"].apply(lambda x: x.replace(\"['\", \"\").replace(\"']\", \"\").split(\"', '\"))\n",
    "\n",
    "# подивитись як виглядає датафрейм\n",
    "df3.head()"
   ]
  },
  {
   "cell_type": "code",
   "execution_count": 23,
   "id": "e21e46be",
   "metadata": {},
   "outputs": [
    {
     "data": {
      "text/plain": [
       "178"
      ]
     },
     "execution_count": 23,
     "metadata": {},
     "output_type": "execute_result"
    }
   ],
   "source": [
    "len(df3)"
   ]
  },
  {
   "cell_type": "code",
   "execution_count": 24,
   "id": "14fb7db7",
   "metadata": {
    "id": "14fb7db7",
    "outputId": "40a6afd3-d93b-440a-e775-35538f290f11",
    "scrolled": true
   },
   "outputs": [
    {
     "name": "stdout",
     "output_type": "stream",
     "text": [
      "17 назв населених пунктів були зайвими.\n"
     ]
    }
   ],
   "source": [
    "# залишити тільки ті гео, які зустрічались в тексті\n",
    "actual_geo = []\n",
    "for i in range(len(df3)):\n",
    "    actual_geo += df3.iloc[i][\"Гео\"]\n",
    "\n",
    "# подивитись скільки гео були зайвими\n",
    "actual_geo = sorted(list(set(actual_geo)))\n",
    "print(f\"{len(geo_odesa_region) - len(actual_geo)} назв населених пунктів були зайвими.\")"
   ]
  },
  {
   "cell_type": "markdown",
   "id": "58e35640",
   "metadata": {
    "id": "58e35640"
   },
   "source": [
    "Суть метода K-середніх полягає в тому, що ми беремо якусь ознаку, яку можна виміряти (в нашому випадку - відстань між містами), визначаємо \"центроїди\" - значення ознаки, навколо яких групуватимуться подібні значення за цієї ознакою. Набір подібних значень - кластер.  \n",
    "Перш за все мені треба визначити відстані між кожною парою міст.  \n",
    "Для цього я використаю бібіліотеку ***geopy***  "
   ]
  },
  {
   "cell_type": "code",
   "execution_count": 25,
   "id": "8ba9c4c3",
   "metadata": {
    "id": "8ba9c4c3",
    "outputId": "8511ac5e-7530-4784-dc30-40345c9e98cc"
   },
   "outputs": [
    {
     "name": "stdout",
     "output_type": "stream",
     "text": [
      "['авангард', 'аккерман', 'ананьев', 'ананьїв', 'аркад', 'арциз', 'балк', 'балт', 'белгород', 'беляевк', 'березан', 'березовк', 'березівк', 'болград', 'бугаз', 'білгород', 'біляр', 'біляївк', 'великодолинськ', 'вилков', 'винниц', 'вознесенск', 'вознесенськ', 'вінниц', 'гидропорт', 'грибовк', 'гідропорт', 'дальник', 'дачн', 'доброслав', 'заток', 'зміїн', 'измаил', 'каролин', 'каролін', 'кил', 'кинбурнск', 'коблев', 'котовськог', 'курортн', 'кіл', 'кінбурн', 'кінбурнськ', 'ланжерон', 'латовк', 'латівк', 'лебедевк', 'лебедівк', 'лиманк', 'лузанівк', 'любашевк', 'любашівк', 'маяк', 'миколаїв', 'молдаванк', 'николаев', 'одес', 'одесс', 'орловк', 'орлівк', 'очаков', 'очаків', 'паланк', 'первомайськ', 'пересип', 'пересып', 'першотравнев', 'поскот', 'приморск', 'приморськ', 'раздельн', 'рен', 'рибаківк', 'роздільн', 'рыбаковк', 'санжейк', 'сарат', 'сергеевк', 'сергіївк', 'слободк', 'таиров', 'татарбунар', 'таїров', 'усатов', 'фонтанк', 'хлібодарськ', 'центр', 'чабанк', 'черноморск', 'черьомушк', 'чорноморськ', 'ширяєв', 'школьн', 'шкільн', 'южн', 'южноукраинск', 'южноукраїнськ', 'іванівк', 'ізмаїл']\n"
     ]
    }
   ],
   "source": [
    "print(actual_geo)"
   ]
  },
  {
   "cell_type": "markdown",
   "id": "eba1c8cc",
   "metadata": {
    "id": "eba1c8cc"
   },
   "source": [
    "Бібліотека ***geopy*** не приймає лематизовані гео, тому треба спочатку звести їх до повної назви.  \n",
    "Оскільки гео у нас небагато, то найпростіший спосіб - занести цей список в **chatGPT** і попросити його видати повні назви.  \n",
    "Він непогано впорався, але були певні неточності з закінченнями слів, які я підправив вручну.  \n",
    "Назви міст які не відносяться до Одеської області я позначив плюсиком, це знадобиться для більш точного пошуку координат."
   ]
  },
  {
   "cell_type": "code",
   "execution_count": 26,
   "id": "8b5f094c",
   "metadata": {
    "id": "8b5f094c"
   },
   "outputs": [],
   "source": [
    "# повні назви міст отримані за допомогою chatGPT\n",
    "full_geo_names = [\n",
    "    'Авангард', 'Аккерман', 'Ананьев', 'Ананьїв', 'Аркадія', 'Арциз', 'Балка', 'Балта', 'Белгород-Дністровський', 'Беляевка', 'Березань', 'Березовка', \n",
    "    'Березівка', 'Болград', 'Бугаз', 'Білгород-Дністровський', 'Біляри', 'Біляївка', 'Великодолинське', 'Вилково', '+Винница', '+Вознесенск', '+Вознесенськ', \n",
    "    '+Вінниця', 'Гидропорт', 'Грибовка', 'Гідропорт', 'Дальник', 'Дачное', 'Доброслав', 'Затока', 'Зміїний', 'Ізмаїл', 'Каролино-Бугаз', 'Кароліно-Бугаз', \n",
    "    'Кілія', '+Кінбурнська коса', '+Коблеве', 'Котовського', 'Курортне', 'Кілія', '+Кінбурнська коса', '+Кінбурнська коса', 'Ланжерон', 'Латівка', 'Латівка', \n",
    "    'Лебедевка', 'Лебедівка', 'Лиманка', 'Лузанівка', 'Любашевка', 'Любашівка', 'Маяки', '+Миколаїв', 'Молдаванка', '+Миколаїв', 'Одеса', 'Одеса',\n",
    "    'Орловка', 'Орлівка', '+Очаків', '+Очаків', 'Паланка', 'Первомайське', 'Пересыпь', 'Пересип', 'Першотравневе', 'Котовського', 'Приморське', \n",
    "    'Приморське', 'Роздільна', 'Рені', '+Рибаківка', 'Роздільна', '+Рибаківка', 'Санжейка', 'Сарата', 'Сергеевка', 'Сергіївка', 'Слободка',\n",
    "    'Таїрове', 'Татарбунари', 'Таїрове', 'Усатово', 'Фонтанка', 'Хлібодарське', 'Одеса', 'Чабанка', 'Чорноморськ', 'Черьомушки', 'Чорноморськ', \n",
    "    'Ширяєве', 'Шкільний', 'Шкільний', 'Южне', '+Южноукраїнськ', '+Южноукраїнськ', 'Іванівка', 'Ізмаїл'\n",
    "]"
   ]
  },
  {
   "cell_type": "markdown",
   "id": "1716e606",
   "metadata": {
    "id": "1716e606"
   },
   "source": [
    "Пошук відстаней між кожною парою міст потребує певного часу. Всього у нас 99^2 = 9801 таких пошуків (або 9801 / 60 = 163.4 хвилин, якщо 1 пошук = 1 секунда).  \n",
    "Щоб оптимізувати час пошуку шукатимемо тільки значення для верхньої правої частини матриці відстаней (значення над головною діагоналлю). Клітинка на перетині певного рядка і певного стовпчика цієї матриці відповідає відстані між відповідними двома містами. Матриця симетрична відносно головної діагоналі, бо \"відстань між А та Б\" = \"відстань між Б та А\". На самій головній діагоналі стоять нулі (бо \"відстань між А та А\" = 0)."
   ]
  },
  {
   "cell_type": "code",
   "execution_count": 34,
   "id": "b0db2de8",
   "metadata": {
    "id": "b0db2de8",
    "outputId": "0b28be59-5efe-476c-fedc-944f169f733b",
    "scrolled": true
   },
   "outputs": [
    {
     "name": "stderr",
     "output_type": "stream",
     "text": [
      "100%|██████████████████████████████████████████████████████████████████████████| 4851/4851.0 [1:48:43<00:00,  1.34s/it]\n"
     ]
    }
   ],
   "source": [
    "# створити об'єкт геокодера\n",
    "geolocator = Nominatim(user_agent=\"geo_distance\")\n",
    "\n",
    "\n",
    "def get_distance_between_geos(geo1, geo2):\n",
    "    \"\"\" Функція знаходить вістань в кілометрах між двома географічними точками. \"\"\"\n",
    "    \n",
    "    # знаходимо правильно назву для географічних точок\n",
    "    if geo1.startswith(\"+\"):\n",
    "        geo11 = geo1[1:]\n",
    "        location1 = geolocator.geocode(f'{geo11}, Україна')\n",
    "    else:\n",
    "        location1 = geolocator.geocode(f'{geo1}, Одеська область, Україна')\n",
    "\n",
    "    if geo2.startswith(\"+\"):\n",
    "        geo2 = geo2[1:]\n",
    "        location2 = geolocator.geocode(f'{geo2}, Україна')\n",
    "    else:\n",
    "        location2 = geolocator.geocode(f'{geo2}, Одеська область, Україна')\n",
    "\n",
    "    # отримати координати для географічних точок\n",
    "    coords1 = (location1.latitude, location1.longitude)\n",
    "    coords2 = (location2.latitude, location2.longitude)\n",
    "\n",
    "    # обчислити відстань між ними\n",
    "    return round(geodesic(coords1, coords2).kilometers, 1)\n",
    "\n",
    "\n",
    "# порожня матриця відстаней між містами\n",
    "distances = [[0 for i in range(len(full_geo_names))] for j in range(len(full_geo_names))]\n",
    "\n",
    "# для відслідковування прогресу виведемо progress bar\n",
    "# total = половина елементів матриці мінус елементи які належать головній діагоналі\n",
    "with tqdm(total = (len(full_geo_names) ** 2)/2 - len(full_geo_names)/2) as pbar:\n",
    "    for i in range(len(full_geo_names)):\n",
    "        # перше гео\n",
    "        geo1 = full_geo_names[i]\n",
    "        for j in range(i+1, len(full_geo_names)):\n",
    "            # друге гео\n",
    "            geo2 = full_geo_names[j]\n",
    "            \n",
    "            try:\n",
    "                # обчислити відстань між містами\n",
    "                distances[i][j] = get_distance_between_geos(geo1, geo2)\n",
    "            except (AdapterHTTPError, GeocoderServiceError, GeocoderUnavailable):\n",
    "                # якщо сталась помилка з'єднання, то спробуємо ще раз трохи пізніше\n",
    "                time.sleep(30)\n",
    "                distances[i][j] = get_distance_between_geos(geo1, geo2)\n",
    "                \n",
    "            # оновити progress bar\n",
    "            pbar.update(1)\n",
    "\n",
    "        # записати проміжні результати в файл\n",
    "        with open(\"distances.txt\", 'a') as file:\n",
    "            file.write(\" \".join(map(str, distances[i])) + \"\\n\")"
   ]
  },
  {
   "cell_type": "code",
   "execution_count": 45,
   "id": "b3414676",
   "metadata": {
    "id": "b3414676",
    "outputId": "1afd34b3-18b7-4eaf-de44-c37266769b1c"
   },
   "outputs": [
    {
     "name": "stdout",
     "output_type": "stream",
     "text": [
      "[[0.0, 37.4, 147.0, 147.0, 12.1, 105.4, 10.4, 179.4, 37.4, 29.7, 17.7, 84.3, 84.3, 178.1, 47.0, 37.4, 36.2, 29.7, 14.1, 143.1, 346.4, 133.7, 133.7, 346.4, 13.8, 29.4, 13.8, 28.1, 12.8, 46.2, 47.0, 138.9, 185.8, 36.8, 36.8, 155.0, 71.5, 50.3, 18.2, 64.4, 155.0, 71.5, 71.5, 11.6, 113.9, 113.9, 79.8, 79.8, 10.4, 14.6, 153.7, 153.7, 26.7, 119.5, 7.7, 119.5, 9.2, 9.2, 147.2, 147.2, 73.2, 73.2, 59.8, 134.6, 9.6, 9.6, 72.4, 18.2, 131.5, 131.5, 59.5, 213.3, 58.9, 59.5, 58.9, 26.2, 88.6, 52.7, 52.7, 184.5, 11.9, 104.2, 11.9, 6.0, 21.7, 2.2, 9.2, 27.6, 19.0, 54.6, 19.0, 106.5, 10.0, 10.0, 40.9, 156.4, 156.4, 58.0, 185.8], [37.4, 0.0, 172.0, 172.0, 41.7, 73.9, 31.9, 201.7, 0.0, 32.5, 42.4, 120.3, 120.3, 146.0, 16.2, 0.0, 71.3, 32.5, 24.8, 105.8, 366.3, 170.6, 170.6, 366.3, 51.1, 17.0, 51.1, 14.8, 45.7, 83.6, 16.3, 104.6, 150.0, 14.8, 14.8, 118.3, 100.0, 84.4, 55.1, 28.6, 118.3, 100.0, 100.0, 45.1, 132.8, 132.8, 42.9, 42.9, 33.9, 51.5, 182.5, 182.5, 25.7, 153.5, 42.4, 153.5, 44.1, 44.1, 161.0, 161.0, 103.6, 103.6, 24.6, 153.7, 46.0, 46.0, 92.6, 55.1, 94.2, 94.2, 76.7, 180.2, 90.8, 76.7, 90.8, 20.8, 55.9, 18.3, 18.3, 203.3, 30.6, 68.6, 30.6, 42.2, 57.7, 37.5, 44.1, 62.9, 26.7, 74.9, 26.7, 133.2, 37.0, 37.0, 75.2, 192.3, 192.3, 88.4, 150.0], [147.0, 172.0, 0.0, 0.0, 155.1, 195.5, 157.3, 35.4, 172.0, 139.8, 132.5, 91.4, 91.4, 249.0, 187.3, 172.0, 146.0, 139.8, 159.2, 258.8, 201.6, 104.3, 104.3, 201.6, 138.3, 173.7, 138.3, 171.3, 134.2, 124.2, 187.4, 274.2, 276.8, 179.7, 179.7, 258.5, 176.2, 150.5, 141.3, 199.5, 258.5, 176.2, 176.2, 150.8, 46.5, 46.5, 210.2, 210.2, 157.2, 142.6, 25.4, 25.4, 146.4, 174.1, 149.4, 174.1, 148.9, 148.9, 55.7, 55.7, 171.4, 171.4, 180.5, 33.5, 145.8, 145.8, 79.8, 141.3, 245.7, 245.7, 96.1, 282.5, 161.0, 96.1, 161.0, 171.8, 189.7, 190.3, 190.3, 50.3, 158.8, 210.3, 158.8, 141.1, 144.3, 145.2, 148.9, 145.7, 165.7, 97.2, 165.7, 40.6, 155.9, 155.9, 149.0, 91.9, 91.9, 89.9, 276.8], [147.0, 172.0, 0.0, 0.0, 155.1, 195.5, 157.3, 35.4, 172.0, 139.8, 132.5, 91.4, 91.4, 249.0, 187.3, 172.0, 146.0, 139.8, 159.2, 258.8, 201.6, 104.3, 104.3, 201.6, 138.3, 173.7, 138.3, 171.3, 134.2, 124.2, 187.4, 274.2, 276.8, 179.7, 179.7, 258.5, 176.2, 150.5, 141.3, 199.5, 258.5, 176.2, 176.2, 150.8, 46.5, 46.5, 210.2, 210.2, 157.2, 142.6, 25.4, 25.4, 146.4, 174.1, 149.4, 174.1, 148.9, 148.9, 55.7, 55.7, 171.4, 171.4, 180.5, 33.5, 145.8, 145.8, 79.8, 141.3, 245.7, 245.7, 96.1, 282.5, 161.0, 96.1, 161.0, 171.8, 189.7, 190.3, 190.3, 50.3, 158.8, 210.3, 158.8, 141.1, 144.3, 145.2, 148.9, 145.7, 165.7, 97.2, 165.7, 40.6, 155.9, 155.9, 149.0, 91.9, 91.9, 89.9, 276.8], [12.1, 41.7, 155.1, 155.1, 0.0, 113.4, 9.8, 188.2, 41.7, 41.2, 29.5, 86.3, 86.3, 186.1, 47.4, 41.7, 29.7, 41.2, 17.1, 146.4, 355.5, 133.6, 133.6, 355.5, 16.9, 29.1, 16.9, 29.0, 23.0, 45.3, 47.4, 137.8, 191.7, 36.6, 36.6, 159.9, 61.1, 42.8, 16.4, 65.8, 159.9, 61.1, 61.1, 4.8, 124.0, 124.0, 81.9, 81.9, 7.8, 13.7, 160.3, 160.3, 37.4, 112.0, 5.9, 112.0, 6.2, 6.2, 158.0, 158.0, 63.5, 63.5, 65.8, 144.4, 9.4, 9.4, 82.8, 16.4, 135.3, 135.3, 70.7, 220.9, 49.9, 70.7, 49.9, 24.8, 96.0, 54.0, 54.0, 194.2, 11.1, 110.2, 11.1, 15.8, 17.1, 14.2, 6.2, 21.6, 16.6, 65.3, 16.6, 114.5, 4.7, 4.7, 33.5, 158.0, 158.0, 65.3, 191.7], [105.4, 73.9, 195.5, 195.5, 113.4, 0.0, 103.7, 216.2, 73.9, 81.0, 99.8, 175.4, 175.4, 72.8, 79.2, 73.9, 141.5, 81.0, 96.6, 67.0, 367.0, 227.2, 227.2, 367.0, 117.4, 90.7, 117.4, 88.7, 107.6, 147.9, 79.2, 102.0, 85.4, 86.3, 86.3, 63.1, 173.6, 155.5, 123.3, 67.2, 63.1, 173.6, 173.6, 115.8, 149.3, 149.3, 58.8, 58.8, 105.8, 119.8, 213.5, 213.5, 80.1, 224.9, 112.3, 224.9, 114.1, 114.1, 162.9, 162.9, 176.7, 176.7, 49.8, 167.3, 114.9, 114.9, 121.8, 123.3, 54.6, 54.6, 107.3, 108.0, 163.3, 107.3, 163.3, 94.7, 18.3, 73.0, 73.0, 210.2, 102.8, 22.5, 102.8, 107.9, 127.1, 104.5, 114.1, 132.9, 100.3, 110.7, 100.3, 164.8, 108.7, 108.7, 146.1, 242.9, 242.9, 135.2, 85.4], [10.4, 31.9, 157.3, 157.3, 9.8, 103.7, 0.0, 189.7, 31.9, 34.3, 26.9, 93.1, 93.1, 176.4, 38.7, 31.9, 39.4, 34.3, 7.2, 137.0, 356.7, 141.6, 141.6, 356.7, 22.1, 20.5, 22.1, 19.9, 23.2, 53.4, 38.7, 130.1, 181.9, 28.1, 28.1, 150.2, 70.3, 52.6, 24.2, 56.9, 150.2, 70.3, 70.3, 13.3, 123.9, 123.9, 72.7, 72.7, 2.1, 20.8, 163.9, 163.9, 29.5, 121.9, 11.2, 121.9, 12.8, 12.8, 156.7, 156.7, 73.1, 73.1, 56.0, 144.6, 15.4, 15.4, 82.4, 24.2, 125.8, 125.8, 69.0, 211.1, 59.6, 69.0, 59.6, 16.7, 86.3, 45.0, 45.0, 194.6, 1.7, 100.4, 1.7, 16.3, 26.1, 12.2, 12.8, 31.1, 8.9, 64.4, 8.9, 116.9, 5.1, 5.1, 43.3, 165.2, 165.2, 68.3, 181.9], [179.4, 201.7, 35.4, 35.4, 188.2, 216.2, 189.7, 0.0, 201.7, 169.2, 164.0, 126.6, 126.6, 262.6, 217.4, 201.7, 180.8, 169.2, 190.9, 281.6, 167.4, 134.7, 134.7, 167.4, 171.7, 205.0, 171.7, 202.4, 166.5, 159.3, 217.5, 301.4, 293.6, 210.5, 210.5, 278.7, 211.6, 185.7, 175.1, 228.2, 278.7, 211.6, 211.6, 184.1, 69.6, 69.6, 237.7, 237.7, 189.7, 176.1, 48.8, 48.8, 176.0, 208.3, 182.4, 208.3, 182.0, 182.0, 57.5, 57.5, 206.8, 206.8, 207.5, 49.5, 178.9, 178.9, 109.1, 175.1, 268.6, 268.6, 124.9, 294.3, 196.3, 124.9, 196.3, 203.3, 212.8, 219.7, 219.7, 21.8, 191.1, 233.1, 191.1, 173.7, 178.4, 177.5, 182.0, 180.0, 197.8, 127.2, 197.8, 74.7, 188.7, 188.7, 183.9, 117.1, 117.1, 123.5, 293.6], [37.4, 0.0, 172.0, 172.0, 41.7, 73.9, 31.9, 201.7, 0.0, 32.5, 42.4, 120.3, 120.3, 146.0, 16.2, 0.0, 71.3, 32.5, 24.8, 105.8, 366.3, 170.6, 170.6, 366.3, 51.1, 17.0, 51.1, 14.8, 45.7, 83.6, 16.3, 104.6, 150.0, 14.8, 14.8, 118.3, 100.0, 84.4, 55.1, 28.6, 118.3, 100.0, 100.0, 45.1, 132.8, 132.8, 42.9, 42.9, 33.9, 51.5, 182.5, 182.5, 25.7, 153.5, 42.4, 153.5, 44.1, 44.1, 161.0, 161.0, 103.6, 103.6, 24.6, 153.7, 46.0, 46.0, 92.6, 55.1, 94.2, 94.2, 76.7, 180.2, 90.8, 76.7, 90.8, 20.8, 55.9, 18.3, 18.3, 203.3, 30.6, 68.6, 30.6, 42.2, 57.7, 37.5, 44.1, 62.9, 26.7, 74.9, 26.7, 133.2, 37.0, 37.0, 75.2, 192.3, 192.3, 88.4, 150.0], [29.7, 32.5, 139.8, 139.8, 41.2, 81.0, 34.3, 169.2, 32.5, 0.0, 18.9, 96.4, 96.4, 152.8, 48.4, 32.5, 63.9, 0.0, 30.2, 128.8, 334.0, 148.1, 148.1, 334.0, 38.4, 39.1, 38.4, 36.0, 27.3, 67.1, 48.4, 135.2, 164.8, 42.9, 42.9, 136.6, 101.0, 78.2, 45.0, 59.7, 136.6, 101.0, 101.0, 41.3, 100.3, 100.3, 71.6, 71.6, 36.0, 42.0, 151.2, 151.2, 7.1, 146.3, 37.4, 146.3, 38.8, 38.8, 129.4, 129.4, 102.4, 102.4, 43.9, 121.3, 38.4, 38.4, 60.2, 45.0, 116.2, 116.2, 44.3, 188.5, 87.8, 44.3, 87.8, 39.3, 66.1, 50.6, 50.6, 171.0, 34.6, 84.5, 34.6, 29.7, 49.6, 28.0, 38.8, 55.6, 37.8, 42.7, 37.8, 101.6, 37.6, 37.6, 69.0, 166.8, 166.8, 59.6, 164.8], [17.7, 42.4, 132.5, 132.5, 29.5, 99.8, 26.9, 164.0, 42.4, 18.9, 0.0, 79.4, 79.4, 171.7, 56.0, 42.4, 46.5, 18.9, 27.0, 145.1, 330.6, 130.7, 130.7, 330.6, 20.9, 41.2, 20.9, 38.9, 9.1, 48.2, 56.0, 147.0, 183.2, 47.5, 47.5, 154.3, 85.0, 60.5, 27.9, 71.0, 154.3, 85.0, 85.0, 27.7, 97.3, 97.3, 84.8, 84.8, 27.6, 25.4, 141.1, 141.1, 20.6, 127.8, 24.2, 127.8, 25.0, 25.0, 129.8, 129.8, 85.6, 85.6, 59.9, 118.1, 23.3, 23.3, 55.8, 27.9, 132.8, 132.8, 42.1, 207.4, 70.8, 42.1, 70.8, 39.4, 84.6, 60.2, 60.2, 168.2, 28.0, 102.4, 28.0, 14.3, 32.8, 15.5, 25.0, 38.6, 34.1, 37.6, 34.1, 92.6, 27.7, 27.7, 51.7, 150.8, 150.8, 46.2, 183.2], [84.3, 120.3, 91.4, 91.4, 86.3, 175.4, 93.1, 126.6, 120.3, 96.4, 79.4, 0.0, 0.0, 244.5, 131.2, 120.3, 65.0, 96.4, 98.4, 224.5, 289.6, 51.9, 51.9, 289.6, 71.0, 113.5, 71.0, 112.3, 74.7, 42.6, 131.2, 223.1, 260.4, 121.0, 121.0, 233.1, 86.9, 64.3, 69.9, 148.4, 233.1, 86.9, 86.9, 81.6, 86.9, 86.9, 163.2, 163.2, 92.0, 72.8, 85.6, 85.6, 99.8, 86.1, 82.2, 86.1, 80.9, 80.9, 122.9, 122.9, 81.3, 81.3, 139.2, 99.4, 78.0, 78.0, 67.9, 69.9, 212.2, 212.2, 74.4, 280.5, 73.0, 74.4, 73.0, 109.9, 162.1, 136.8, 136.8, 140.4, 94.8, 180.9, 94.8, 78.7, 70.3, 83.5, 80.9, 68.6, 101.9, 68.5, 101.9, 58.1, 89.4, 89.4, 66.0, 72.2, 72.2, 41.7, 260.4], [84.3, 120.3, 91.4, 91.4, 86.3, 175.4, 93.1, 126.6, 120.3, 96.4, 79.4, 0.0, 0.0, 244.5, 131.2, 120.3, 65.0, 96.4, 98.4, 224.5, 289.6, 51.9, 51.9, 289.6, 71.0, 113.5, 71.0, 112.3, 74.7, 42.6, 131.2, 223.1, 260.4, 121.0, 121.0, 233.1, 86.9, 64.3, 69.9, 148.4, 233.1, 86.9, 86.9, 81.6, 86.9, 86.9, 163.2, 163.2, 92.0, 72.8, 85.6, 85.6, 99.8, 86.1, 82.2, 86.1, 80.9, 80.9, 122.9, 122.9, 81.3, 81.3, 139.2, 99.4, 78.0, 78.0, 67.9, 69.9, 212.2, 212.2, 74.4, 280.5, 73.0, 74.4, 73.0, 109.9, 162.1, 136.8, 136.8, 140.4, 94.8, 180.9, 94.8, 78.7, 70.3, 83.5, 80.9, 68.6, 101.9, 68.5, 101.9, 58.1, 89.4, 89.4, 66.0, 72.2, 72.2, 41.7, 260.4], [178.1, 146.0, 249.0, 249.0, 186.1, 72.8, 176.4, 262.6, 146.0, 152.8, 171.7, 244.5, 244.5, 0.0, 148.9, 146.0, 214.3, 152.8, 169.2, 81.7, 395.3, 295.9, 295.9, 395.3, 190.0, 162.4, 190.0, 160.7, 179.9, 219.9, 148.9, 132.9, 40.3, 157.2, 157.2, 57.3, 246.0, 228.3, 195.9, 133.8, 57.3, 246.0, 246.0, 188.5, 203.0, 203.0, 120.8, 120.8, 178.5, 192.5, 270.3, 270.3, 152.6, 297.6, 185.1, 297.6, 186.8, 186.8, 205.5, 205.5, 249.3, 249.3, 121.4, 217.2, 187.7, 187.7, 184.6, 195.9, 79.2, 79.2, 172.5, 35.9, 236.0, 172.5, 236.0, 166.5, 90.2, 142.1, 142.1, 251.7, 175.4, 80.1, 175.4, 180.6, 199.8, 177.2, 186.8, 205.7, 172.6, 177.1, 172.6, 224.9, 181.4, 181.4, 218.9, 308.8, 308.8, 203.2, 40.3], [47.0, 16.2, 187.3, 187.3, 47.4, 79.2, 38.7, 217.4, 16.2, 48.4, 56.0, 131.2, 131.2, 148.9, 0.0, 16.2, 76.5, 48.4, 32.9, 99.8, 382.4, 180.3, 180.3, 382.4, 60.4, 18.3, 60.4, 18.9, 57.5, 92.1, 0.0, 92.0, 148.6, 10.8, 10.8, 115.3, 99.7, 88.4, 62.9, 18.7, 115.3, 99.7, 99.7, 51.7, 148.7, 148.7, 34.9, 34.9, 40.3, 59.6, 197.0, 197.0, 41.4, 155.9, 49.9, 155.9, 51.5, 51.5, 177.2, 177.2, 104.2, 104.2, 30.3, 169.7, 54.0, 54.0, 108.3, 62.9, 89.4, 89.4, 92.6, 181.9, 92.9, 92.6, 92.9, 22.6, 61.0, 7.2, 7.2, 219.4, 37.1, 69.3, 37.1, 52.6, 64.4, 47.8, 51.5, 68.8, 30.8, 90.3, 30.8, 148.1, 43.2, 43.2, 79.7, 203.4, 203.4, 102.1, 148.6], [37.4, 0.0, 172.0, 172.0, 41.7, 73.9, 31.9, 201.7, 0.0, 32.5, 42.4, 120.3, 120.3, 146.0, 16.2, 0.0, 71.3, 32.5, 24.8, 105.8, 366.3, 170.6, 170.6, 366.3, 51.1, 17.0, 51.1, 14.8, 45.7, 83.6, 16.3, 104.6, 150.0, 14.8, 14.8, 118.3, 100.0, 84.4, 55.1, 28.6, 118.3, 100.0, 100.0, 45.1, 132.8, 132.8, 42.9, 42.9, 33.9, 51.5, 182.5, 182.5, 25.7, 153.5, 42.4, 153.5, 44.1, 44.1, 161.0, 161.0, 103.6, 103.6, 24.6, 153.7, 46.0, 46.0, 92.6, 55.1, 94.2, 94.2, 76.7, 180.2, 90.8, 76.7, 90.8, 20.8, 55.9, 18.3, 18.3, 203.3, 30.6, 68.6, 30.6, 42.2, 57.7, 37.5, 44.1, 62.9, 26.7, 74.9, 26.7, 133.2, 37.0, 37.0, 75.2, 192.3, 192.3, 88.4, 150.0], [36.2, 71.3, 146.0, 146.0, 29.7, 141.5, 39.4, 180.8, 71.3, 63.9, 46.5, 65.0, 65.0, 214.3, 76.5, 71.3, 0.0, 63.9, 46.5, 175.9, 347.6, 107.6, 107.6, 347.6, 25.6, 58.4, 25.6, 58.6, 37.4, 22.9, 76.5, 165.0, 221.1, 65.7, 65.7, 189.6, 39.6, 14.2, 18.9, 95.1, 189.6, 39.6, 39.6, 26.2, 123.1, 123.1, 111.3, 111.3, 37.4, 22.1, 146.6, 146.6, 62.4, 83.3, 29.4, 83.3, 27.6, 27.6, 159.4, 159.4, 39.4, 39.4, 95.1, 141.9, 26.6, 26.6, 85.0, 18.9, 165.0, 165.0, 77.8, 249.4, 24.5, 77.8, 24.5, 54.0, 124.6, 83.4, 83.4, 190.0, 40.7, 139.6, 40.7, 34.4, 14.5, 37.2, 27.6, 8.6, 46.0, 71.0, 46.0, 106.1, 34.3, 34.3, 5.2, 134.1, 134.1, 59.0, 221.1], [29.7, 32.5, 139.8, 139.8, 41.2, 81.0, 34.3, 169.2, 32.5, 0.0, 18.9, 96.4, 96.4, 152.8, 48.4, 32.5, 63.9, 0.0, 30.2, 128.8, 334.0, 148.1, 148.1, 334.0, 38.4, 39.1, 38.4, 36.0, 27.3, 67.1, 48.4, 135.2, 164.8, 42.9, 42.9, 136.6, 101.0, 78.2, 45.0, 59.7, 136.6, 101.0, 101.0, 41.3, 100.3, 100.3, 71.6, 71.6, 36.0, 42.0, 151.2, 151.2, 7.1, 146.3, 37.4, 146.3, 38.8, 38.8, 129.4, 129.4, 102.4, 102.4, 43.9, 121.3, 38.4, 38.4, 60.2, 45.0, 116.2, 116.2, 44.3, 188.5, 87.8, 44.3, 87.8, 39.3, 66.1, 50.6, 50.6, 171.0, 34.6, 84.5, 34.6, 29.7, 49.6, 28.0, 38.8, 55.6, 37.8, 42.7, 37.8, 101.6, 37.6, 37.6, 69.0, 166.8, 166.8, 59.6, 164.8], [14.1, 24.8, 159.2, 159.2, 17.1, 96.6, 7.2, 190.9, 24.8, 30.2, 27.0, 98.4, 98.4, 169.2, 32.9, 24.8, 46.5, 30.2, 0.0, 130.2, 357.5, 147.5, 147.5, 357.5, 27.5, 15.4, 27.5, 14.0, 25.7, 59.6, 32.9, 124.8, 174.7, 22.7, 22.7, 143.1, 77.3, 59.8, 30.6, 50.6, 143.1, 77.3, 77.3, 20.3, 124.2, 124.2, 66.2, 66.2, 9.3, 27.2, 166.8, 166.8, 24.4, 129.1, 17.7, 129.1, 19.5, 19.5, 156.0, 156.0, 80.2, 80.2, 48.7, 145.0, 21.6, 21.6, 82.7, 30.6, 118.9, 118.9, 68.4, 203.9, 66.8, 68.4, 66.8, 12.6, 79.1, 38.8, 38.8, 195.1, 6.2, 93.2, 6.2, 19.9, 33.0, 15.2, 19.5, 38.1, 7.8, 64.5, 7.8, 119.1, 12.3, 12.3, 50.6, 170.5, 170.5, 71.2, 174.7], [143.1, 105.8, 258.8, 258.8, 146.4, 67.0, 137.0, 281.6, 105.8, 128.8, 145.1, 224.5, 224.5, 81.7, 99.8, 105.8, 175.9, 128.8, 130.2, 0.0, 433.9, 275.6, 275.6, 433.9, 156.8, 117.6, 156.8, 117.4, 150.4, 189.3, 99.8, 51.3, 58.8, 110.4, 110.4, 25.2, 198.0, 188.1, 160.8, 81.1, 25.2, 198.0, 198.0, 150.3, 213.4, 213.4, 64.9, 64.9, 138.8, 157.2, 274.8, 274.8, 124.8, 255.3, 147.9, 255.3, 149.6, 149.6, 229.4, 229.4, 203.0, 203.0, 85.3, 232.3, 151.7, 151.7, 181.5, 160.8, 13.1, 13.1, 165.7, 102.2, 192.4, 165.7, 192.4, 122.0, 69.1, 92.7, 92.7, 276.6, 135.5, 48.6, 135.5, 147.8, 163.1, 143.2, 149.6, 167.9, 130.0, 167.3, 130.0, 225.1, 141.9, 141.9, 179.3, 295.6, 295.6, 188.2, 58.8], [346.4, 366.3, 201.6, 201.6, 355.5, 367.0, 356.7, 167.4, 366.3, 334.0, 330.6, 289.6, 289.6, 395.3, 382.4, 366.3, 347.6, 334.0, 357.5, 433.9, 0.0, 281.5, 281.5, 0.0, 339.0, 371.1, 339.0, 368.4, 333.6, 325.6, 382.4, 461.2, 432.4, 376.3, 376.3, 425.8, 376.2, 351.5, 342.5, 391.4, 425.8, 376.2, 376.2, 351.5, 233.8, 233.8, 398.9, 398.9, 356.8, 343.5, 204.2, 204.2, 341.0, 363.1, 349.7, 363.1, 349.3, 349.3, 207.1, 207.1, 370.9, 370.9, 368.8, 212.8, 346.3, 346.3, 275.0, 342.5, 421.5, 421.5, 290.1, 420.1, 361.6, 290.1, 361.6, 369.8, 368.0, 383.9, 383.9, 163.0, 358.0, 386.9, 358.0, 340.8, 345.7, 344.5, 349.3, 347.2, 364.6, 293.2, 364.6, 241.9, 355.9, 355.9, 350.5, 254.1, 254.1, 290.9, 432.4], [133.7, 170.6, 104.3, 104.3, 133.6, 227.2, 141.6, 134.7, 170.6, 148.1, 130.7, 51.9, 51.9, 295.9, 180.3, 170.6, 107.6, 148.1, 147.5, 275.6, 281.5, 0.0, 0.0, 281.5, 120.0, 162.1, 120.0, 161.3, 125.3, 88.3, 180.3, 271.4, 312.3, 169.7, 169.7, 284.8, 114.2, 101.2, 117.5, 198.0, 284.8, 114.2, 114.2, 129.0, 120.9, 120.9, 213.4, 213.4, 140.1, 120.7, 86.0, 86.0, 151.2, 82.6, 130.4, 82.6, 128.9, 128.9, 151.6, 151.6, 107.2, 107.2, 190.5, 126.0, 126.2, 126.2, 114.9, 117.5, 263.5, 263.5, 124.3, 331.8, 105.4, 124.3, 105.4, 158.2, 213.9, 186.3, 186.3, 153.6, 143.2, 232.7, 143.2, 128.5, 116.7, 133.2, 128.9, 113.4, 150.0, 119.0, 150.0, 88.6, 137.3, 137.3, 106.6, 30.8, 30.8, 92.6, 312.3], [133.7, 170.6, 104.3, 104.3, 133.6, 227.2, 141.6, 134.7, 170.6, 148.1, 130.7, 51.9, 51.9, 295.9, 180.3, 170.6, 107.6, 148.1, 147.5, 275.6, 281.5, 0.0, 0.0, 281.5, 120.0, 162.1, 120.0, 161.3, 125.3, 88.3, 180.3, 271.4, 312.3, 169.7, 169.7, 284.8, 114.2, 101.2, 117.5, 198.0, 284.8, 114.2, 114.2, 129.0, 120.9, 120.9, 213.4, 213.4, 140.1, 120.7, 86.0, 86.0, 151.2, 82.6, 130.4, 82.6, 128.9, 128.9, 151.6, 151.6, 107.2, 107.2, 190.5, 126.0, 126.2, 126.2, 114.9, 117.5, 263.5, 263.5, 124.3, 331.8, 105.4, 124.3, 105.4, 158.2, 213.9, 186.3, 186.3, 153.6, 143.2, 232.7, 143.2, 128.5, 116.7, 133.2, 128.9, 113.4, 150.0, 119.0, 150.0, 88.6, 137.3, 137.3, 106.6, 30.8, 30.8, 92.6, 312.3], [346.4, 366.3, 201.6, 201.6, 355.5, 367.0, 356.7, 167.4, 366.3, 334.0, 330.6, 289.6, 289.6, 395.3, 382.4, 366.3, 347.6, 334.0, 357.5, 433.9, 0.0, 281.5, 281.5, 0.0, 339.0, 371.1, 339.0, 368.4, 333.6, 325.6, 382.4, 461.2, 432.4, 376.3, 376.3, 425.8, 376.2, 351.5, 342.5, 391.4, 425.8, 376.2, 376.2, 351.5, 233.8, 233.8, 398.9, 398.9, 356.8, 343.5, 204.2, 204.2, 341.0, 363.1, 349.7, 363.1, 349.3, 349.3, 207.1, 207.1, 370.9, 370.9, 368.8, 212.8, 346.3, 346.3, 275.0, 342.5, 421.5, 421.5, 290.1, 420.1, 361.6, 290.1, 361.6, 369.8, 368.0, 383.9, 383.9, 163.0, 358.0, 386.9, 358.0, 340.8, 345.7, 344.5, 349.3, 347.2, 364.6, 293.2, 364.6, 241.9, 355.9, 355.9, 350.5, 254.1, 254.1, 290.9, 432.4], [13.8, 51.1, 138.3, 138.3, 16.9, 117.4, 22.1, 171.7, 51.1, 38.4, 20.9, 71.0, 71.0, 190.0, 60.4, 51.1, 25.6, 38.4, 27.5, 156.8, 339.0, 120.0, 120.0, 339.0, 0.0, 42.5, 0.0, 41.4, 11.9, 32.5, 60.4, 152.1, 198.9, 50.0, 50.0, 168.5, 64.1, 39.8, 6.9, 78.1, 168.5, 64.1, 64.1, 12.5, 108.5, 108.5, 93.5, 93.5, 21.1, 5.2, 143.4, 143.4, 37.4, 108.0, 11.7, 108.0, 10.7, 10.7, 143.3, 143.3, 64.7, 64.7, 73.2, 128.6, 7.6, 7.6, 67.8, 6.9, 145.2, 145.2, 57.2, 225.4, 49.9, 57.2, 49.9, 38.9, 101.1, 66.3, 66.3, 178.2, 23.8, 117.3, 23.8, 9.5, 11.9, 13.7, 10.7, 17.7, 31.0, 51.2, 31.0, 97.7, 18.8, 18.8, 30.8, 143.1, 143.1, 48.5, 198.9], [29.4, 17.0, 173.7, 173.7, 29.1, 90.7, 20.5, 205.0, 17.0, 39.1, 41.2, 113.5, 113.5, 162.4, 18.3, 17.0, 58.4, 39.1, 15.4, 117.6, 371.1, 162.1, 162.1, 371.1, 42.5, 0.0, 42.5, 3.2, 41.0, 73.9, 18.3, 109.7, 164.8, 7.6, 7.6, 132.2, 84.0, 70.6, 44.7, 36.8, 132.2, 84.0, 84.0, 33.4, 137.4, 137.4, 52.9, 52.9, 22.0, 41.4, 182.0, 182.0, 32.1, 138.8, 31.7, 138.8, 33.3, 33.3, 168.1, 168.1, 87.9, 87.9, 41.0, 158.4, 35.9, 35.9, 96.1, 44.7, 106.9, 106.9, 81.2, 196.3, 75.8, 81.2, 75.8, 4.4, 72.6, 25.0, 25.0, 208.4, 18.9, 84.1, 18.9, 35.3, 46.1, 30.6, 33.3, 50.6, 12.5, 77.9, 12.5, 133.8, 24.9, 24.9, 61.7, 185.6, 185.6, 86.4, 164.8], [13.8, 51.1, 138.3, 138.3, 16.9, 117.4, 22.1, 171.7, 51.1, 38.4, 20.9, 71.0, 71.0, 190.0, 60.4, 51.1, 25.6, 38.4, 27.5, 156.8, 339.0, 120.0, 120.0, 339.0, 0.0, 42.5, 0.0, 41.4, 11.9, 32.5, 60.4, 152.1, 198.9, 50.0, 50.0, 168.5, 64.1, 39.8, 6.9, 78.1, 168.5, 64.1, 64.1, 12.5, 108.5, 108.5, 93.5, 93.5, 21.1, 5.2, 143.4, 143.4, 37.4, 108.0, 11.7, 108.0, 10.7, 10.7, 143.3, 143.3, 64.7, 64.7, 73.2, 128.6, 7.6, 7.6, 67.8, 6.9, 145.2, 145.2, 57.2, 225.4, 49.9, 57.2, 49.9, 38.9, 101.1, 66.3, 66.3, 178.2, 23.8, 117.3, 23.8, 9.5, 11.9, 13.7, 10.7, 17.7, 31.0, 51.2, 31.0, 97.7, 18.8, 18.8, 30.8, 143.1, 143.1, 48.5, 198.9], [28.1, 14.8, 171.3, 171.3, 29.0, 88.7, 19.9, 202.4, 14.8, 36.0, 38.9, 112.3, 112.3, 160.7, 18.9, 14.8, 58.6, 36.0, 14.0, 117.4, 368.4, 161.3, 161.3, 368.4, 41.4, 3.2, 41.4, 0.0, 39.2, 73.2, 19.0, 110.8, 163.7, 8.8, 8.8, 131.4, 85.4, 71.1, 44.1, 37.0, 131.4, 85.4, 85.4, 33.1, 134.6, 134.6, 52.9, 52.9, 21.6, 40.7, 179.8, 179.8, 29.0, 139.7, 31.1, 139.7, 32.7, 32.7, 165.1, 165.1, 89.2, 89.2, 39.2, 155.6, 35.2, 35.2, 93.4, 44.1, 106.4, 106.4, 78.4, 194.8, 76.8, 78.4, 76.8, 6.0, 70.7, 25.1, 25.1, 205.6, 18.3, 82.7, 18.3, 33.8, 45.9, 29.0, 32.7, 50.6, 12.7, 75.2, 12.7, 131.5, 24.6, 24.6, 62.1, 184.5, 184.5, 84.4, 163.7], [12.8, 45.7, 134.2, 134.2, 23.0, 107.6, 23.2, 166.5, 45.7, 27.3, 9.1, 74.7, 74.7, 179.9, 57.5, 45.7, 37.4, 27.3, 25.7, 150.4, 333.6, 125.3, 125.3, 333.6, 11.9, 41.0, 11.9, 39.2, 0.0, 40.5, 57.5, 149.4, 190.2, 48.0, 48.0, 160.7, 75.9, 51.4, 18.8, 73.9, 160.7, 75.9, 75.9, 20.2, 101.3, 101.3, 88.6, 88.6, 23.2, 16.5, 141.2, 141.2, 27.5, 119.0, 17.2, 119.0, 17.5, 17.5, 135.0, 135.0, 76.5, 76.5, 65.6, 121.9, 15.3, 15.3, 59.9, 18.8, 138.4, 138.4, 47.8, 215.4, 61.7, 47.8, 61.7, 38.3, 91.9, 62.6, 62.6, 171.8, 24.7, 109.0, 24.7, 7.3, 23.8, 11.0, 17.5, 29.5, 31.6, 42.4, 31.6, 93.8, 22.4, 22.4, 42.5, 146.6, 146.6, 45.5, 190.2], [46.2, 83.6, 124.2, 124.2, 45.3, 147.9, 53.4, 159.3, 83.6, 67.1, 48.2, 42.6, 42.6, 219.9, 92.1, 83.6, 22.9, 67.1, 59.6, 189.3, 325.6, 88.3, 88.3, 325.6, 32.5, 73.9, 32.5, 73.2, 40.5, 0.0, 92.1, 183.1, 230.6, 81.5, 81.5, 200.7, 54.4, 26.8, 29.2, 110.1, 200.7, 54.4, 54.4, 40.7, 104.7, 104.7, 125.8, 125.8, 51.9, 32.5, 123.9, 123.9, 68.0, 81.9, 42.2, 81.9, 40.6, 40.6, 141.7, 141.7, 51.4, 51.4, 105.4, 122.5, 38.1, 38.1, 70.0, 29.2, 177.6, 177.6, 66.6, 255.6, 38.3, 66.6, 38.3, 69.9, 132.3, 98.3, 98.3, 169.4, 55.0, 149.3, 55.0, 41.7, 28.5, 46.1, 40.6, 26.1, 61.6, 59.5, 61.6, 85.0, 49.0, 49.0, 24.9, 113.1, 113.1, 40.8, 230.6], [47.0, 16.3, 187.4, 187.4, 47.4, 79.2, 38.7, 217.5, 16.3, 48.4, 56.0, 131.2, 131.2, 148.9, 0.0, 16.3, 76.5, 48.4, 32.9, 99.8, 382.4, 180.3, 180.3, 382.4, 60.4, 18.3, 60.4, 19.0, 57.5, 92.1, 0.0, 92.0, 148.6, 10.8, 10.8, 115.3, 99.7, 88.4, 62.9, 18.6, 115.3, 99.7, 99.7, 51.7, 148.8, 148.8, 34.9, 34.9, 40.3, 59.6, 197.1, 197.1, 41.5, 155.9, 49.9, 155.9, 51.5, 51.5, 177.3, 177.3, 104.2, 104.2, 30.4, 169.7, 54.1, 54.1, 108.3, 62.9, 89.4, 89.4, 92.6, 181.9, 92.9, 92.6, 92.9, 22.6, 61.0, 7.2, 7.2, 219.4, 37.1, 69.3, 37.1, 52.6, 64.4, 47.8, 51.5, 68.8, 30.8, 90.4, 30.8, 148.1, 43.2, 43.2, 79.7, 203.4, 203.4, 102.1, 148.6], [138.9, 104.6, 274.2, 274.2, 137.8, 102.0, 130.1, 301.4, 104.6, 135.2, 147.0, 223.1, 223.1, 132.9, 92.0, 104.6, 165.0, 135.2, 124.8, 51.3, 461.2, 271.4, 271.4, 461.2, 152.1, 109.7, 152.1, 110.8, 149.4, 183.1, 92.0, 0.0, 107.8, 102.2, 102.2, 76.4, 177.4, 174.7, 154.0, 76.0, 76.4, 177.4, 177.4, 142.4, 231.8, 231.8, 64.0, 64.0, 131.5, 150.8, 286.5, 286.5, 129.3, 236.1, 141.2, 236.1, 142.7, 142.7, 254.2, 254.2, 183.5, 183.5, 93.9, 252.1, 145.5, 145.5, 194.4, 154.0, 55.4, 55.4, 178.1, 152.4, 175.9, 178.1, 175.9, 113.4, 95.0, 86.9, 86.9, 299.9, 128.4, 79.5, 128.4, 144.6, 154.8, 139.8, 142.7, 158.3, 121.6, 177.6, 121.6, 236.7, 134.2, 134.2, 167.1, 295.3, 295.3, 193.1, 107.8], [185.8, 150.0, 276.8, 276.8, 191.7, 85.4, 181.9, 293.6, 150.0, 164.8, 183.2, 260.4, 260.4, 40.3, 148.6, 150.0, 221.1, 164.8, 174.7, 58.8, 432.4, 312.3, 312.3, 432.4, 198.9, 164.8, 198.9, 163.7, 190.2, 230.6, 148.6, 107.8, 0.0, 158.4, 158.4, 35.1, 248.2, 234.4, 204.0, 131.0, 35.1, 248.2, 248.2, 194.9, 230.3, 230.3, 115.6, 115.6, 183.9, 200.4, 296.4, 296.4, 162.8, 303.4, 191.9, 303.4, 193.6, 193.6, 237.4, 237.4, 252.5, 252.5, 126.0, 246.4, 195.1, 195.1, 206.4, 204.0, 62.9, 62.9, 192.5, 45.1, 240.5, 192.5, 240.5, 169.2, 98.6, 141.3, 141.3, 284.4, 180.6, 81.6, 180.6, 189.4, 207.2, 185.4, 193.6, 212.7, 176.4, 196.0, 176.4, 248.8, 187.0, 187.0, 225.2, 328.3, 328.3, 220.6, 0.0], [36.8, 14.8, 179.7, 179.7, 36.6, 86.3, 28.1, 210.5, 14.8, 42.9, 47.5, 121.0, 121.0, 157.2, 10.8, 14.8, 65.7, 42.9, 22.7, 110.4, 376.3, 169.7, 169.7, 376.3, 50.0, 7.6, 50.0, 8.8, 48.0, 81.5, 10.8, 102.2, 158.4, 0.0, 0.0, 125.5, 90.0, 77.7, 52.3, 29.4, 125.5, 90.0, 90.0, 40.9, 142.5, 142.5, 45.6, 45.6, 29.6, 48.9, 188.5, 188.5, 35.8, 145.6, 39.3, 145.6, 40.9, 40.9, 172.3, 172.3, 94.2, 94.2, 36.4, 163.5, 43.5, 43.5, 101.5, 52.3, 99.8, 99.8, 86.2, 190.7, 82.5, 86.2, 82.5, 11.8, 68.0, 17.7, 17.7, 213.4, 26.4, 78.2, 26.4, 42.6, 53.7, 37.8, 40.9, 58.0, 20.0, 83.3, 20.0, 140.1, 32.5, 32.5, 69.0, 193.1, 193.1, 93.1, 158.4], [36.8, 14.8, 179.7, 179.7, 36.6, 86.3, 28.1, 210.5, 14.8, 42.9, 47.5, 121.0, 121.0, 157.2, 10.8, 14.8, 65.7, 42.9, 22.7, 110.4, 376.3, 169.7, 169.7, 376.3, 50.0, 7.6, 50.0, 8.8, 48.0, 81.5, 10.8, 102.2, 158.4, 0.0, 0.0, 125.5, 90.0, 77.7, 52.3, 29.4, 125.5, 90.0, 90.0, 40.9, 142.5, 142.5, 45.6, 45.6, 29.6, 48.9, 188.5, 188.5, 35.8, 145.6, 39.3, 145.6, 40.9, 40.9, 172.3, 172.3, 94.2, 94.2, 36.4, 163.5, 43.5, 43.5, 101.5, 52.3, 99.8, 99.8, 86.2, 190.7, 82.5, 86.2, 82.5, 11.8, 68.0, 17.7, 17.7, 213.4, 26.4, 78.2, 26.4, 42.6, 53.7, 37.8, 40.9, 58.0, 20.0, 83.3, 20.0, 140.1, 32.5, 32.5, 69.0, 193.1, 193.1, 93.1, 158.4], [155.0, 118.3, 258.5, 258.5, 159.9, 63.1, 150.2, 278.7, 118.3, 136.6, 154.3, 233.1, 233.1, 57.3, 115.3, 118.3, 189.6, 136.6, 143.1, 25.2, 425.8, 284.8, 284.8, 425.8, 168.5, 132.2, 168.5, 131.4, 160.7, 200.7, 115.3, 76.4, 35.1, 125.5, 125.5, 0.0, 214.9, 202.5, 173.1, 97.2, 0.0, 214.9, 214.9, 163.5, 212.3, 212.3, 81.5, 81.5, 152.2, 169.6, 276.4, 276.4, 133.8, 271.0, 160.6, 271.0, 162.4, 162.4, 224.4, 224.4, 219.5, 219.5, 95.3, 230.1, 164.1, 164.1, 184.0, 173.1, 27.9, 27.9, 169.0, 77.2, 207.9, 169.0, 207.9, 136.6, 71.7, 108.1, 108.1, 271.9, 148.9, 52.1, 148.9, 159.1, 176.0, 154.8, 162.4, 181.3, 144.1, 171.6, 144.1, 227.4, 155.3, 155.3, 193.4, 302.7, 302.7, 194.7, 35.1], [71.5, 100.0, 176.2, 176.2, 61.1, 173.6, 70.3, 211.6, 100.0, 101.0, 85.0, 86.9, 86.9, 246.0, 99.7, 100.0, 39.6, 101.0, 77.3, 198.0, 376.2, 114.2, 114.2, 376.2, 64.1, 84.0, 64.1, 85.4, 75.9, 54.4, 99.7, 177.4, 248.2, 90.0, 90.0, 214.9, 0.0, 28.1, 57.2, 117.7, 214.9, 0.0, 0.0, 59.9, 159.2, 159.2, 133.7, 133.7, 68.2, 59.6, 172.4, 172.4, 98.1, 58.8, 63.7, 58.8, 62.2, 62.2, 196.1, 196.1, 7.2, 7.2, 124.6, 176.8, 62.6, 62.6, 123.3, 57.2, 188.5, 188.5, 117.2, 280.2, 16.2, 117.2, 16.2, 79.7, 155.8, 106.9, 106.9, 223.0, 71.1, 168.0, 71.1, 71.5, 52.2, 73.0, 62.2, 46.5, 73.4, 110.2, 73.4, 138.3, 65.6, 65.6, 34.5, 144.2, 144.2, 95.1, 248.2], [50.3, 84.4, 150.5, 150.5, 42.8, 155.5, 52.6, 185.7, 84.4, 78.2, 60.5, 64.3, 64.3, 228.3, 88.4, 84.4, 14.2, 78.2, 59.8, 188.1, 351.5, 101.2, 101.2, 351.5, 39.8, 70.6, 39.8, 71.1, 51.4, 26.8, 88.4, 174.7, 234.4, 77.7, 77.7, 202.5, 28.1, 0.0, 33.1, 107.0, 202.5, 28.1, 28.1, 39.8, 131.4, 131.4, 123.3, 123.3, 50.5, 36.3, 148.7, 148.7, 76.6, 69.4, 43.2, 69.4, 41.5, 41.5, 168.2, 168.2, 26.3, 26.3, 108.6, 149.3, 40.7, 40.7, 95.2, 33.1, 177.5, 177.5, 89.5, 263.3, 11.9, 89.5, 11.9, 66.2, 138.5, 95.4, 95.4, 196.2, 53.8, 153.0, 53.8, 48.6, 28.7, 51.3, 41.5, 22.7, 58.4, 82.5, 58.4, 111.6, 47.5, 47.5, 9.4, 129.3, 129.3, 67.2, 234.4], [18.2, 55.1, 141.3, 141.3, 16.4, 123.3, 24.2, 175.1, 55.1, 45.0, 27.9, 69.9, 69.9, 195.9, 62.9, 55.1, 18.9, 45.0, 30.6, 160.8, 342.5, 117.5, 117.5, 342.5, 6.9, 44.7, 6.9, 44.1, 18.8, 29.2, 62.9, 154.0, 204.0, 52.3, 52.3, 173.1, 57.2, 33.1, 0.0, 81.1, 173.1, 57.2, 57.2, 11.7, 113.1, 113.1, 96.8, 96.8, 22.7, 3.6, 145.2, 145.2, 43.6, 101.8, 13.0, 101.8, 11.4, 11.4, 148.4, 148.4, 57.8, 57.8, 78.0, 133.0, 9.1, 9.1, 72.9, 0.0, 149.3, 149.3, 63.2, 231.2, 43.0, 63.2, 43.0, 40.7, 106.6, 69.2, 69.2, 182.3, 25.8, 122.4, 25.8, 15.5, 5.1, 18.8, 11.4, 10.8, 32.5, 56.9, 32.5, 100.7, 19.9, 19.9, 24.0, 141.6, 141.6, 51.6, 204.0], [64.4, 28.6, 199.5, 199.5, 65.8, 67.2, 56.9, 228.2, 28.6, 59.7, 71.0, 148.4, 148.4, 133.8, 18.7, 28.6, 95.1, 59.7, 50.6, 81.1, 391.4, 198.0, 198.0, 391.4, 78.1, 36.8, 78.1, 37.0, 73.9, 110.1, 18.6, 76.0, 131.0, 29.4, 29.4, 97.2, 117.7, 107.0, 81.1, 0.0, 97.2, 117.7, 117.7, 70.0, 158.8, 158.8, 16.2, 16.2, 58.6, 77.6, 210.8, 210.8, 53.5, 174.4, 68.0, 174.4, 69.7, 69.7, 184.8, 184.8, 122.4, 122.4, 25.3, 179.6, 72.1, 72.1, 119.8, 81.1, 70.9, 70.9, 103.6, 165.8, 111.4, 103.6, 111.4, 41.1, 49.7, 11.8, 11.8, 228.6, 55.3, 53.7, 55.3, 69.7, 82.8, 64.9, 69.7, 87.3, 49.2, 102.4, 49.2, 161.2, 61.5, 61.5, 98.3, 220.5, 220.5, 117.0, 131.0], [155.0, 118.3, 258.5, 258.5, 159.9, 63.1, 150.2, 278.7, 118.3, 136.6, 154.3, 233.1, 233.1, 57.3, 115.3, 118.3, 189.6, 136.6, 143.1, 25.2, 425.8, 284.8, 284.8, 425.8, 168.5, 132.2, 168.5, 131.4, 160.7, 200.7, 115.3, 76.4, 35.1, 125.5, 125.5, 0.0, 214.9, 202.5, 173.1, 97.2, 0.0, 214.9, 214.9, 163.5, 212.3, 212.3, 81.5, 81.5, 152.2, 169.6, 276.4, 276.4, 133.8, 271.0, 160.6, 271.0, 162.4, 162.4, 224.4, 224.4, 219.5, 219.5, 95.3, 230.1, 164.1, 164.1, 184.0, 173.1, 27.9, 27.9, 169.0, 77.2, 207.9, 169.0, 207.9, 136.6, 71.7, 108.1, 108.1, 271.9, 148.9, 52.1, 148.9, 159.1, 176.0, 154.8, 162.4, 181.3, 144.1, 171.6, 144.1, 227.4, 155.3, 155.3, 193.4, 302.7, 302.7, 194.7, 35.1], [71.5, 100.0, 176.2, 176.2, 61.1, 173.6, 70.3, 211.6, 100.0, 101.0, 85.0, 86.9, 86.9, 246.0, 99.7, 100.0, 39.6, 101.0, 77.3, 198.0, 376.2, 114.2, 114.2, 376.2, 64.1, 84.0, 64.1, 85.4, 75.9, 54.4, 99.7, 177.4, 248.2, 90.0, 90.0, 214.9, 0.0, 28.1, 57.2, 117.7, 214.9, 0.0, 0.0, 59.9, 159.2, 159.2, 133.7, 133.7, 68.2, 59.6, 172.4, 172.4, 98.1, 58.8, 63.7, 58.8, 62.2, 62.2, 196.1, 196.1, 7.2, 7.2, 124.6, 176.8, 62.6, 62.6, 123.3, 57.2, 188.5, 188.5, 117.2, 280.2, 16.2, 117.2, 16.2, 79.7, 155.8, 106.9, 106.9, 223.0, 71.1, 168.0, 71.1, 71.5, 52.2, 73.0, 62.2, 46.5, 73.4, 110.2, 73.4, 138.3, 65.6, 65.6, 34.5, 144.2, 144.2, 95.1, 248.2], [71.5, 100.0, 176.2, 176.2, 61.1, 173.6, 70.3, 211.6, 100.0, 101.0, 85.0, 86.9, 86.9, 246.0, 99.7, 100.0, 39.6, 101.0, 77.3, 198.0, 376.2, 114.2, 114.2, 376.2, 64.1, 84.0, 64.1, 85.4, 75.9, 54.4, 99.7, 177.4, 248.2, 90.0, 90.0, 214.9, 0.0, 28.1, 57.2, 117.7, 214.9, 0.0, 0.0, 59.9, 159.2, 159.2, 133.7, 133.7, 68.2, 59.6, 172.4, 172.4, 98.1, 58.8, 63.7, 58.8, 62.2, 62.2, 196.1, 196.1, 7.2, 7.2, 124.6, 176.8, 62.6, 62.6, 123.3, 57.2, 188.5, 188.5, 117.2, 280.2, 16.2, 117.2, 16.2, 79.7, 155.8, 106.9, 106.9, 223.0, 71.1, 168.0, 71.1, 71.5, 52.2, 73.0, 62.2, 46.5, 73.4, 110.2, 73.4, 138.3, 65.6, 65.6, 34.5, 144.2, 144.2, 95.1, 248.2], [11.6, 45.1, 150.8, 150.8, 4.8, 115.8, 13.3, 184.1, 45.1, 41.3, 27.7, 81.6, 81.6, 188.5, 51.7, 45.1, 26.2, 41.3, 20.3, 150.3, 351.5, 129.0, 129.0, 351.5, 12.5, 33.4, 12.5, 33.1, 20.2, 40.7, 51.7, 142.4, 194.9, 40.9, 40.9, 163.5, 59.9, 39.8, 11.7, 70.0, 163.5, 59.9, 59.9, 0.0, 120.5, 120.5, 86.0, 86.0, 11.5, 8.9, 155.7, 155.7, 38.2, 109.2, 3.9, 109.2, 2.7, 2.7, 154.8, 154.8, 61.8, 61.8, 68.9, 140.8, 5.3, 5.3, 79.4, 11.7, 139.1, 139.1, 67.9, 223.5, 47.7, 67.9, 47.7, 29.3, 98.6, 58.2, 58.2, 190.4, 14.8, 113.4, 14.8, 13.4, 12.8, 13.4, 2.7, 17.8, 21.0, 62.3, 21.0, 110.2, 8.5, 8.5, 30.5, 153.3, 153.3, 61.0, 194.9], [113.9, 132.8, 46.5, 46.5, 124.0, 149.3, 123.9, 69.6, 132.8, 100.3, 97.3, 86.9, 86.9, 203.0, 148.7, 132.8, 123.1, 100.3, 124.2, 213.4, 233.8, 120.9, 120.9, 233.8, 108.5, 137.4, 108.5, 134.6, 101.3, 104.7, 148.8, 231.8, 230.3, 142.5, 142.5, 212.3, 159.2, 131.4, 113.1, 158.8, 212.3, 159.2, 159.2, 120.5, 0.0, 0.0, 168.0, 168.0, 124.3, 113.4, 67.6, 67.6, 107.3, 172.7, 118.1, 172.7, 118.1, 118.1, 37.2, 37.2, 155.9, 155.9, 137.9, 21.0, 115.2, 115.2, 41.6, 113.1, 200.3, 200.3, 56.3, 236.9, 143.0, 56.3, 143.0, 136.2, 144.4, 150.7, 150.7, 71.0, 125.2, 164.8, 125.2, 108.6, 117.2, 111.9, 118.1, 120.2, 131.4, 59.7, 131.4, 32.3, 123.7, 123.7, 127.1, 119.7, 119.7, 64.3, 230.3], [113.9, 132.8, 46.5, 46.5, 124.0, 149.3, 123.9, 69.6, 132.8, 100.3, 97.3, 86.9, 86.9, 203.0, 148.7, 132.8, 123.1, 100.3, 124.2, 213.4, 233.8, 120.9, 120.9, 233.8, 108.5, 137.4, 108.5, 134.6, 101.3, 104.7, 148.8, 231.8, 230.3, 142.5, 142.5, 212.3, 159.2, 131.4, 113.1, 158.8, 212.3, 159.2, 159.2, 120.5, 0.0, 0.0, 168.0, 168.0, 124.3, 113.4, 67.6, 67.6, 107.3, 172.7, 118.1, 172.7, 118.1, 118.1, 37.2, 37.2, 155.9, 155.9, 137.9, 21.0, 115.2, 115.2, 41.6, 113.1, 200.3, 200.3, 56.3, 236.9, 143.0, 56.3, 143.0, 136.2, 144.4, 150.7, 150.7, 71.0, 125.2, 164.8, 125.2, 108.6, 117.2, 111.9, 118.1, 120.2, 131.4, 59.7, 131.4, 32.3, 123.7, 123.7, 127.1, 119.7, 119.7, 64.3, 230.3], [79.8, 42.9, 210.2, 210.2, 81.9, 58.8, 72.7, 237.7, 42.9, 71.6, 84.8, 163.2, 163.2, 120.8, 34.9, 42.9, 111.3, 71.6, 66.2, 64.9, 398.9, 213.4, 213.4, 398.9, 93.5, 52.9, 93.5, 52.9, 88.6, 125.8, 34.9, 64.0, 115.6, 45.6, 45.6, 81.5, 133.7, 123.3, 96.8, 16.2, 81.5, 133.7, 133.7, 86.0, 168.0, 168.0, 0.0, 0.0, 74.5, 93.4, 222.7, 222.7, 66.0, 190.6, 83.8, 190.6, 85.5, 85.5, 191.9, 191.9, 138.5, 138.5, 30.2, 188.6, 87.8, 87.8, 130.4, 96.8, 54.8, 54.8, 114.1, 151.8, 127.6, 114.1, 127.6, 57.3, 43.4, 27.9, 27.9, 236.8, 71.2, 41.6, 71.2, 84.9, 98.8, 80.2, 85.5, 103.4, 65.3, 113.7, 65.3, 172.9, 77.5, 77.5, 114.5, 235.2, 235.2, 130.4, 115.6], [79.8, 42.9, 210.2, 210.2, 81.9, 58.8, 72.7, 237.7, 42.9, 71.6, 84.8, 163.2, 163.2, 120.8, 34.9, 42.9, 111.3, 71.6, 66.2, 64.9, 398.9, 213.4, 213.4, 398.9, 93.5, 52.9, 93.5, 52.9, 88.6, 125.8, 34.9, 64.0, 115.6, 45.6, 45.6, 81.5, 133.7, 123.3, 96.8, 16.2, 81.5, 133.7, 133.7, 86.0, 168.0, 168.0, 0.0, 0.0, 74.5, 93.4, 222.7, 222.7, 66.0, 190.6, 83.8, 190.6, 85.5, 85.5, 191.9, 191.9, 138.5, 138.5, 30.2, 188.6, 87.8, 87.8, 130.4, 96.8, 54.8, 54.8, 114.1, 151.8, 127.6, 114.1, 127.6, 57.3, 43.4, 27.9, 27.9, 236.8, 71.2, 41.6, 71.2, 84.9, 98.8, 80.2, 85.5, 103.4, 65.3, 113.7, 65.3, 172.9, 77.5, 77.5, 114.5, 235.2, 235.2, 130.4, 115.6], [10.4, 33.9, 157.2, 157.2, 7.8, 105.8, 2.1, 189.7, 33.9, 36.0, 27.6, 92.0, 92.0, 178.5, 40.3, 33.9, 37.4, 36.0, 9.3, 138.8, 356.8, 140.1, 140.1, 356.8, 21.1, 22.0, 21.1, 21.6, 23.2, 51.9, 40.3, 131.5, 183.9, 29.6, 29.6, 152.2, 68.2, 50.5, 22.7, 58.6, 152.2, 68.2, 68.2, 11.5, 124.3, 124.3, 74.5, 74.5, 0.0, 19.4, 163.5, 163.5, 31.3, 119.8, 9.8, 119.8, 11.3, 11.3, 157.4, 157.4, 71.0, 71.0, 58.1, 145.0, 14.0, 14.0, 82.8, 22.7, 127.7, 127.7, 69.6, 213.2, 57.5, 69.6, 57.5, 18.0, 88.4, 46.7, 46.7, 194.9, 3.3, 102.4, 3.3, 16.1, 24.3, 12.4, 11.3, 29.1, 9.9, 64.9, 9.9, 116.8, 3.1, 3.1, 41.3, 163.9, 163.9, 68.0, 183.9], [14.6, 51.5, 142.6, 142.6, 13.7, 119.8, 20.8, 176.1, 51.5, 42.0, 25.4, 72.8, 72.8, 192.5, 59.6, 51.5, 22.1, 42.0, 27.2, 157.2, 343.5, 120.7, 120.7, 343.5, 5.2, 41.4, 5.2, 40.7, 16.5, 32.5, 59.6, 150.8, 200.4, 48.9, 48.9, 169.6, 59.6, 36.3, 3.6, 77.6, 169.6, 59.6, 59.6, 8.9, 113.4, 113.4, 93.4, 93.4, 19.4, 0.0, 147.0, 147.0, 40.3, 105.2, 9.7, 105.2, 8.2, 8.2, 148.3, 148.3, 60.5, 60.5, 74.4, 133.4, 5.6, 5.6, 72.8, 3.6, 145.8, 145.8, 62.4, 227.8, 45.8, 62.4, 45.8, 37.4, 103.1, 65.8, 65.8, 182.9, 22.5, 118.8, 22.5, 12.3, 7.7, 15.3, 8.2, 13.7, 29.3, 56.3, 29.3, 101.9, 16.7, 16.7, 27.0, 144.6, 144.6, 52.7, 200.4], [153.7, 182.5, 25.4, 25.4, 160.3, 213.5, 163.9, 48.8, 182.5, 151.2, 141.1, 85.6, 85.6, 270.3, 197.0, 182.5, 146.6, 151.2, 166.8, 274.8, 204.2, 86.0, 86.0, 204.2, 143.4, 182.0, 143.4, 179.8, 141.2, 123.9, 197.1, 286.5, 296.4, 188.5, 188.5, 276.4, 172.4, 148.7, 145.2, 210.8, 276.4, 172.4, 172.4, 155.7, 67.6, 67.6, 222.7, 222.7, 163.5, 147.0, 0.0, 0.0, 157.3, 162.0, 154.9, 162.0, 154.1, 154.1, 81.1, 81.1, 166.8, 166.8, 193.8, 58.3, 150.9, 150.9, 93.5, 145.2, 261.8, 261.8, 109.5, 304.4, 158.2, 109.5, 158.2, 179.5, 206.1, 200.7, 200.7, 68.7, 165.5, 226.7, 165.5, 147.7, 147.5, 152.1, 154.1, 147.8, 172.7, 109.0, 172.7, 50.0, 161.8, 161.8, 148.8, 69.1, 69.1, 95.7, 296.4], [153.7, 182.5, 25.4, 25.4, 160.3, 213.5, 163.9, 48.8, 182.5, 151.2, 141.1, 85.6, 85.6, 270.3, 197.0, 182.5, 146.6, 151.2, 166.8, 274.8, 204.2, 86.0, 86.0, 204.2, 143.4, 182.0, 143.4, 179.8, 141.2, 123.9, 197.1, 286.5, 296.4, 188.5, 188.5, 276.4, 172.4, 148.7, 145.2, 210.8, 276.4, 172.4, 172.4, 155.7, 67.6, 67.6, 222.7, 222.7, 163.5, 147.0, 0.0, 0.0, 157.3, 162.0, 154.9, 162.0, 154.1, 154.1, 81.1, 81.1, 166.8, 166.8, 193.8, 58.3, 150.9, 150.9, 93.5, 145.2, 261.8, 261.8, 109.5, 304.4, 158.2, 109.5, 158.2, 179.5, 206.1, 200.7, 200.7, 68.7, 165.5, 226.7, 165.5, 147.7, 147.5, 152.1, 154.1, 147.8, 172.7, 109.0, 172.7, 50.0, 161.8, 161.8, 148.8, 69.1, 69.1, 95.7, 296.4], [26.7, 25.7, 146.4, 146.4, 37.4, 80.1, 29.5, 176.0, 25.7, 7.1, 20.6, 99.8, 99.8, 152.6, 41.4, 25.7, 62.4, 7.1, 24.4, 124.8, 341.0, 151.2, 151.2, 341.0, 37.4, 32.1, 37.4, 29.0, 27.5, 68.0, 41.5, 129.3, 162.8, 35.8, 35.8, 133.8, 98.1, 76.6, 43.6, 53.5, 133.8, 98.1, 98.1, 38.2, 107.3, 107.3, 66.0, 66.0, 31.3, 40.3, 157.3, 157.3, 0.0, 145.4, 34.4, 145.4, 35.9, 35.9, 136.5, 136.5, 99.9, 99.9, 39.5, 128.3, 36.0, 36.0, 67.0, 43.6, 112.4, 112.4, 51.1, 188.1, 85.6, 51.1, 85.6, 32.6, 64.3, 43.9, 43.9, 178.0, 29.5, 81.8, 29.5, 28.1, 47.9, 25.4, 35.9, 53.9, 31.8, 49.2, 31.8, 107.8, 33.3, 33.3, 67.3, 170.9, 170.9, 64.5, 162.8], [119.5, 153.5, 174.1, 174.1, 112.0, 224.9, 121.9, 208.3, 153.5, 146.3, 127.8, 86.1, 86.1, 297.6, 155.9, 153.5, 83.3, 146.3, 129.1, 255.3, 363.1, 82.6, 82.6, 363.1, 108.0, 138.8, 108.0, 139.7, 119.0, 81.9, 155.9, 236.1, 303.4, 145.6, 145.6, 271.0, 58.8, 69.4, 101.8, 174.4, 271.0, 58.8, 58.8, 109.2, 172.7, 172.7, 190.6, 190.6, 119.8, 105.2, 162.0, 162.0, 145.4, 0.0, 112.6, 0.0, 110.8, 110.8, 209.0, 209.0, 52.8, 52.8, 177.8, 185.5, 109.9, 109.9, 146.9, 101.8, 245.3, 245.3, 147.1, 332.7, 63.1, 147.1, 63.1, 134.4, 207.9, 163.1, 163.1, 224.2, 123.0, 222.2, 123.0, 117.3, 97.8, 120.4, 110.8, 91.9, 127.1, 140.0, 127.1, 144.1, 116.8, 116.8, 78.8, 112.6, 112.6, 116.5, 303.4], [7.7, 42.4, 149.4, 149.4, 5.9, 112.3, 11.2, 182.4, 42.4, 37.4, 24.2, 82.2, 82.2, 185.1, 49.9, 42.4, 29.4, 37.4, 17.7, 147.9, 349.7, 130.4, 130.4, 349.7, 11.7, 31.7, 11.7, 31.1, 17.2, 42.2, 49.9, 141.2, 191.9, 39.3, 39.3, 160.6, 63.7, 43.2, 13.0, 68.0, 160.6, 63.7, 63.7, 3.9, 118.1, 118.1, 83.8, 83.8, 9.8, 9.7, 154.9, 154.9, 34.4, 112.6, 0.0, 112.6, 1.8, 1.8, 152.1, 152.1, 65.6, 65.6, 65.8, 138.6, 4.3, 4.3, 76.9, 13.0, 136.5, 136.5, 64.9, 220.1, 51.4, 64.9, 51.4, 27.8, 95.3, 56.2, 56.2, 188.4, 12.8, 110.3, 12.8, 10.1, 15.4, 9.5, 1.8, 20.8, 19.7, 59.5, 19.7, 108.8, 7.2, 7.2, 33.8, 154.2, 154.2, 59.7, 191.9], [119.5, 153.5, 174.1, 174.1, 112.0, 224.9, 121.9, 208.3, 153.5, 146.3, 127.8, 86.1, 86.1, 297.6, 155.9, 153.5, 83.3, 146.3, 129.1, 255.3, 363.1, 82.6, 82.6, 363.1, 108.0, 138.8, 108.0, 139.7, 119.0, 81.9, 155.9, 236.1, 303.4, 145.6, 145.6, 271.0, 58.8, 69.4, 101.8, 174.4, 271.0, 58.8, 58.8, 109.2, 172.7, 172.7, 190.6, 190.6, 119.8, 105.2, 162.0, 162.0, 145.4, 0.0, 112.6, 0.0, 110.8, 110.8, 209.0, 209.0, 52.8, 52.8, 177.8, 185.5, 109.9, 109.9, 146.9, 101.8, 245.3, 245.3, 147.1, 332.7, 63.1, 147.1, 63.1, 134.4, 207.9, 163.1, 163.1, 224.2, 123.0, 222.2, 123.0, 117.3, 97.8, 120.4, 110.8, 91.9, 127.1, 140.0, 127.1, 144.1, 116.8, 116.8, 78.8, 112.6, 112.6, 116.5, 303.4], [9.2, 44.1, 148.9, 148.9, 6.2, 114.1, 12.8, 182.0, 44.1, 38.8, 25.0, 80.9, 80.9, 186.8, 51.5, 44.1, 27.6, 38.8, 19.5, 149.6, 349.3, 128.9, 128.9, 349.3, 10.7, 33.3, 10.7, 32.7, 17.5, 40.6, 51.5, 142.7, 193.6, 40.9, 40.9, 162.4, 62.2, 41.5, 11.4, 69.7, 162.4, 62.2, 62.2, 2.7, 118.1, 118.1, 85.5, 85.5, 11.3, 8.2, 154.1, 154.1, 35.9, 110.8, 1.8, 110.8, 0.0, 0.0, 152.2, 152.2, 64.0, 64.0, 67.6, 138.4, 3.2, 3.2, 76.9, 11.4, 138.3, 138.3, 65.2, 221.9, 49.8, 65.2, 49.8, 29.3, 97.0, 57.8, 57.8, 188.1, 14.4, 112.1, 14.4, 10.7, 13.6, 10.8, 0.0, 19.1, 21.1, 59.7, 21.1, 108.3, 8.6, 8.6, 32.1, 152.8, 152.8, 59.1, 193.6], [9.2, 44.1, 148.9, 148.9, 6.2, 114.1, 12.8, 182.0, 44.1, 38.8, 25.0, 80.9, 80.9, 186.8, 51.5, 44.1, 27.6, 38.8, 19.5, 149.6, 349.3, 128.9, 128.9, 349.3, 10.7, 33.3, 10.7, 32.7, 17.5, 40.6, 51.5, 142.7, 193.6, 40.9, 40.9, 162.4, 62.2, 41.5, 11.4, 69.7, 162.4, 62.2, 62.2, 2.7, 118.1, 118.1, 85.5, 85.5, 11.3, 8.2, 154.1, 154.1, 35.9, 110.8, 1.8, 110.8, 0.0, 0.0, 152.2, 152.2, 64.0, 64.0, 67.6, 138.4, 3.2, 3.2, 76.9, 11.4, 138.3, 138.3, 65.2, 221.9, 49.8, 65.2, 49.8, 29.3, 97.0, 57.8, 57.8, 188.1, 14.4, 112.1, 14.4, 10.7, 13.6, 10.8, 0.0, 19.1, 21.1, 59.7, 21.1, 108.3, 8.6, 8.6, 32.1, 152.8, 152.8, 59.1, 193.6], [147.2, 161.0, 55.7, 55.7, 158.0, 162.9, 156.7, 57.5, 161.0, 129.4, 129.8, 122.9, 122.9, 205.5, 177.2, 161.0, 159.4, 129.4, 156.0, 229.4, 207.1, 151.6, 151.6, 207.1, 143.3, 168.1, 143.3, 165.1, 135.0, 141.7, 177.3, 254.2, 237.4, 172.3, 172.3, 224.4, 196.1, 168.2, 148.4, 184.8, 224.4, 196.1, 196.1, 154.8, 37.2, 37.2, 191.9, 191.9, 157.4, 148.3, 81.1, 81.1, 136.5, 209.0, 152.1, 209.0, 152.2, 152.2, 0.0, 0.0, 193.0, 193.0, 161.8, 25.7, 149.6, 149.6, 75.5, 148.4, 216.6, 216.6, 87.8, 236.9, 179.9, 87.8, 179.9, 167.5, 161.9, 178.1, 178.1, 47.4, 157.8, 181.4, 157.8, 142.3, 152.7, 145.0, 152.2, 156.1, 163.6, 92.7, 163.6, 65.6, 157.1, 157.1, 163.7, 144.9, 144.9, 101.0, 237.4], [147.2, 161.0, 55.7, 55.7, 158.0, 162.9, 156.7, 57.5, 161.0, 129.4, 129.8, 122.9, 122.9, 205.5, 177.2, 161.0, 159.4, 129.4, 156.0, 229.4, 207.1, 151.6, 151.6, 207.1, 143.3, 168.1, 143.3, 165.1, 135.0, 141.7, 177.3, 254.2, 237.4, 172.3, 172.3, 224.4, 196.1, 168.2, 148.4, 184.8, 224.4, 196.1, 196.1, 154.8, 37.2, 37.2, 191.9, 191.9, 157.4, 148.3, 81.1, 81.1, 136.5, 209.0, 152.1, 209.0, 152.2, 152.2, 0.0, 0.0, 193.0, 193.0, 161.8, 25.7, 149.6, 149.6, 75.5, 148.4, 216.6, 216.6, 87.8, 236.9, 179.9, 87.8, 179.9, 167.5, 161.9, 178.1, 178.1, 47.4, 157.8, 181.4, 157.8, 142.3, 152.7, 145.0, 152.2, 156.1, 163.6, 92.7, 163.6, 65.6, 157.1, 157.1, 163.7, 144.9, 144.9, 101.0, 237.4], [73.2, 103.6, 171.4, 171.4, 63.5, 176.7, 73.1, 206.8, 103.6, 102.4, 85.6, 81.3, 81.3, 249.3, 104.2, 103.6, 39.4, 102.4, 80.2, 203.0, 370.9, 107.2, 107.2, 370.9, 64.7, 87.9, 64.7, 89.2, 76.5, 51.4, 104.2, 183.5, 252.5, 94.2, 94.2, 219.5, 7.2, 26.3, 57.8, 122.4, 219.5, 7.2, 7.2, 61.8, 155.9, 155.9, 138.5, 138.5, 71.0, 60.5, 166.8, 166.8, 99.9, 52.8, 65.6, 52.8, 64.0, 64.0, 193.0, 193.0, 0.0, 0.0, 128.1, 173.0, 64.0, 64.0, 121.0, 57.8, 193.3, 193.3, 115.8, 283.8, 14.9, 115.8, 14.9, 83.5, 159.1, 111.4, 111.4, 218.7, 73.9, 171.9, 73.9, 72.7, 52.9, 74.6, 64.0, 47.0, 76.8, 108.8, 76.8, 134.0, 68.2, 68.2, 34.2, 137.3, 137.3, 92.2, 252.5], [73.2, 103.6, 171.4, 171.4, 63.5, 176.7, 73.1, 206.8, 103.6, 102.4, 85.6, 81.3, 81.3, 249.3, 104.2, 103.6, 39.4, 102.4, 80.2, 203.0, 370.9, 107.2, 107.2, 370.9, 64.7, 87.9, 64.7, 89.2, 76.5, 51.4, 104.2, 183.5, 252.5, 94.2, 94.2, 219.5, 7.2, 26.3, 57.8, 122.4, 219.5, 7.2, 7.2, 61.8, 155.9, 155.9, 138.5, 138.5, 71.0, 60.5, 166.8, 166.8, 99.9, 52.8, 65.6, 52.8, 64.0, 64.0, 193.0, 193.0, 0.0, 0.0, 128.1, 173.0, 64.0, 64.0, 121.0, 57.8, 193.3, 193.3, 115.8, 283.8, 14.9, 115.8, 14.9, 83.5, 159.1, 111.4, 111.4, 218.7, 73.9, 171.9, 73.9, 72.7, 52.9, 74.6, 64.0, 47.0, 76.8, 108.8, 76.8, 134.0, 68.2, 68.2, 34.2, 137.3, 137.3, 92.2, 252.5], [59.8, 24.6, 180.5, 180.5, 65.8, 49.8, 56.0, 207.5, 24.6, 43.9, 59.9, 139.2, 139.2, 121.4, 30.3, 24.6, 95.1, 43.9, 48.7, 85.3, 368.8, 190.5, 190.5, 368.8, 73.2, 41.0, 73.2, 39.2, 65.6, 105.4, 30.4, 93.9, 126.0, 36.4, 36.4, 95.3, 124.6, 108.6, 78.0, 25.3, 95.3, 124.6, 124.6, 68.9, 137.9, 137.9, 30.2, 30.2, 58.1, 74.4, 193.8, 193.8, 39.5, 177.8, 65.8, 177.8, 67.6, 67.6, 161.8, 161.8, 128.1, 128.1, 0.0, 158.4, 69.1, 69.1, 100.9, 78.0, 73.0, 73.0, 84.6, 155.6, 115.3, 84.6, 115.3, 45.1, 31.6, 25.3, 25.3, 206.6, 54.8, 44.5, 54.8, 63.8, 81.1, 59.5, 67.6, 86.6, 51.3, 84.8, 51.3, 143.8, 61.1, 61.1, 99.3, 210.4, 210.4, 103.5, 126.0], [134.6, 153.7, 33.5, 33.5, 144.4, 167.3, 144.6, 49.5, 153.7, 121.3, 118.1, 99.4, 99.4, 217.2, 169.7, 153.7, 141.9, 121.3, 145.0, 232.3, 212.8, 126.0, 126.0, 212.8, 128.6, 158.4, 128.6, 155.6, 121.9, 122.5, 169.7, 252.1, 246.4, 163.5, 163.5, 230.1, 176.8, 149.3, 133.0, 179.6, 230.1, 176.8, 176.8, 140.8, 21.0, 21.0, 188.6, 188.6, 145.0, 133.4, 58.3, 58.3, 128.3, 185.5, 138.6, 185.5, 138.4, 138.4, 25.7, 25.7, 173.0, 173.0, 158.4, 0.0, 135.5, 135.5, 62.4, 133.0, 219.3, 219.3, 77.3, 250.2, 160.7, 77.3, 160.7, 157.1, 163.4, 171.6, 171.6, 50.1, 145.9, 183.7, 145.9, 129.2, 136.9, 132.5, 138.4, 139.6, 152.3, 80.6, 152.3, 41.4, 144.3, 144.3, 145.7, 119.6, 119.6, 82.9, 246.4], [9.6, 46.0, 145.8, 145.8, 9.4, 114.9, 15.4, 178.9, 46.0, 38.4, 23.3, 78.0, 78.0, 187.7, 54.0, 46.0, 26.6, 38.4, 21.6, 151.7, 346.3, 126.2, 126.2, 346.3, 7.6, 35.9, 7.6, 35.2, 15.3, 38.1, 54.1, 145.5, 195.1, 43.5, 43.5, 164.1, 62.6, 40.7, 9.1, 72.1, 164.1, 62.6, 62.6, 5.3, 115.2, 115.2, 87.8, 87.8, 14.0, 5.6, 150.9, 150.9, 36.0, 109.9, 4.3, 109.9, 3.2, 3.2, 149.6, 149.6, 64.0, 64.0, 69.1, 135.5, 0.0, 0.0, 74.2, 9.1, 140.3, 140.3, 62.8, 222.8, 49.6, 62.8, 49.6, 32.0, 98.1, 60.3, 60.3, 185.2, 17.0, 113.5, 17.0, 9.1, 12.2, 10.7, 3.2, 18.0, 23.9, 57.1, 23.9, 105.1, 11.5, 11.5, 31.3, 149.9, 149.9, 56.0, 195.1], [9.6, 46.0, 145.8, 145.8, 9.4, 114.9, 15.4, 178.9, 46.0, 38.4, 23.3, 78.0, 78.0, 187.7, 54.0, 46.0, 26.6, 38.4, 21.6, 151.7, 346.3, 126.2, 126.2, 346.3, 7.6, 35.9, 7.6, 35.2, 15.3, 38.1, 54.1, 145.5, 195.1, 43.5, 43.5, 164.1, 62.6, 40.7, 9.1, 72.1, 164.1, 62.6, 62.6, 5.3, 115.2, 115.2, 87.8, 87.8, 14.0, 5.6, 150.9, 150.9, 36.0, 109.9, 4.3, 109.9, 3.2, 3.2, 149.6, 149.6, 64.0, 64.0, 69.1, 135.5, 0.0, 0.0, 74.2, 9.1, 140.3, 140.3, 62.8, 222.8, 49.6, 62.8, 49.6, 32.0, 98.1, 60.3, 60.3, 185.2, 17.0, 113.5, 17.0, 9.1, 12.2, 10.7, 3.2, 18.0, 23.9, 57.1, 23.9, 105.1, 11.5, 11.5, 31.3, 149.9, 149.9, 56.0, 195.1], [72.4, 92.6, 79.8, 79.8, 82.8, 121.8, 82.4, 109.1, 92.6, 60.2, 55.8, 67.9, 67.9, 184.6, 108.3, 92.6, 85.0, 60.2, 82.7, 181.5, 275.0, 114.9, 114.9, 275.0, 67.8, 96.1, 67.8, 93.4, 59.9, 70.0, 108.3, 194.4, 206.4, 101.5, 101.5, 184.0, 123.3, 95.2, 72.9, 119.8, 184.0, 123.3, 123.3, 79.4, 41.6, 41.6, 130.4, 130.4, 82.8, 72.8, 93.5, 93.5, 67.0, 146.9, 76.9, 146.9, 76.9, 76.9, 75.5, 75.5, 121.0, 121.0, 100.9, 62.4, 74.2, 74.2, 0.0, 72.9, 168.4, 168.4, 16.3, 220.1, 107.1, 16.3, 107.1, 94.8, 113.1, 110.8, 110.8, 112.4, 83.6, 133.6, 83.6, 67.2, 77.3, 70.4, 76.9, 81.0, 89.9, 18.2, 89.9, 43.7, 82.3, 82.3, 89.6, 124.3, 124.3, 30.5, 206.4], [18.2, 55.1, 141.3, 141.3, 16.4, 123.3, 24.2, 175.1, 55.1, 45.0, 27.9, 69.9, 69.9, 195.9, 62.9, 55.1, 18.9, 45.0, 30.6, 160.8, 342.5, 117.5, 117.5, 342.5, 6.9, 44.7, 6.9, 44.1, 18.8, 29.2, 62.9, 154.0, 204.0, 52.3, 52.3, 173.1, 57.2, 33.1, 0.0, 81.1, 173.1, 57.2, 57.2, 11.7, 113.1, 113.1, 96.8, 96.8, 22.7, 3.6, 145.2, 145.2, 43.6, 101.8, 13.0, 101.8, 11.4, 11.4, 148.4, 148.4, 57.8, 57.8, 78.0, 133.0, 9.1, 9.1, 72.9, 0.0, 149.3, 149.3, 63.2, 231.2, 43.0, 63.2, 43.0, 40.7, 106.6, 69.2, 69.2, 182.3, 25.8, 122.4, 25.8, 15.5, 5.1, 18.8, 11.4, 10.8, 32.5, 56.9, 32.5, 100.7, 19.9, 19.9, 24.0, 141.6, 141.6, 51.6, 204.0], [131.5, 94.2, 245.7, 245.7, 135.3, 54.6, 125.8, 268.6, 94.2, 116.2, 132.8, 212.2, 212.2, 79.2, 89.4, 94.2, 165.0, 116.2, 118.9, 13.1, 421.5, 263.5, 263.5, 421.5, 145.2, 106.9, 145.2, 106.4, 138.4, 177.6, 89.4, 55.4, 62.9, 99.8, 99.8, 27.9, 188.5, 177.5, 149.3, 70.9, 27.9, 188.5, 188.5, 139.1, 200.3, 200.3, 54.8, 54.8, 127.7, 145.8, 261.8, 261.8, 112.4, 245.3, 136.5, 245.3, 138.3, 138.3, 216.6, 216.6, 193.3, 193.3, 73.0, 219.3, 140.3, 140.3, 168.4, 149.3, 0.0, 0.0, 152.7, 103.8, 182.2, 152.7, 182.2, 111.3, 56.0, 82.2, 82.2, 263.8, 124.4, 35.6, 124.4, 136.0, 151.8, 131.5, 138.3, 156.8, 119.1, 154.3, 119.1, 212.1, 130.8, 130.8, 168.5, 283.1, 283.1, 175.5, 62.9], [131.5, 94.2, 245.7, 245.7, 135.3, 54.6, 125.8, 268.6, 94.2, 116.2, 132.8, 212.2, 212.2, 79.2, 89.4, 94.2, 165.0, 116.2, 118.9, 13.1, 421.5, 263.5, 263.5, 421.5, 145.2, 106.9, 145.2, 106.4, 138.4, 177.6, 89.4, 55.4, 62.9, 99.8, 99.8, 27.9, 188.5, 177.5, 149.3, 70.9, 27.9, 188.5, 188.5, 139.1, 200.3, 200.3, 54.8, 54.8, 127.7, 145.8, 261.8, 261.8, 112.4, 245.3, 136.5, 245.3, 138.3, 138.3, 216.6, 216.6, 193.3, 193.3, 73.0, 219.3, 140.3, 140.3, 168.4, 149.3, 0.0, 0.0, 152.7, 103.8, 182.2, 152.7, 182.2, 111.3, 56.0, 82.2, 82.2, 263.8, 124.4, 35.6, 124.4, 136.0, 151.8, 131.5, 138.3, 156.8, 119.1, 154.3, 119.1, 212.1, 130.8, 130.8, 168.5, 283.1, 283.1, 175.5, 62.9], [59.5, 76.7, 96.1, 96.1, 70.7, 107.3, 69.0, 124.9, 76.7, 44.3, 42.1, 74.4, 74.4, 172.5, 92.6, 76.7, 77.8, 44.3, 68.4, 165.7, 290.1, 124.3, 124.3, 290.1, 57.2, 81.2, 57.2, 78.4, 47.8, 66.6, 92.6, 178.1, 192.5, 86.2, 86.2, 169.0, 117.2, 89.5, 63.2, 103.6, 169.0, 117.2, 117.2, 67.9, 56.3, 56.3, 114.1, 114.1, 69.6, 62.4, 109.5, 109.5, 51.1, 147.1, 64.9, 147.1, 65.2, 65.2, 87.8, 87.8, 115.8, 115.8, 84.6, 77.3, 62.8, 62.8, 16.3, 63.2, 152.7, 152.7, 0.0, 208.2, 101.3, 0.0, 101.3, 80.2, 97.7, 94.8, 94.8, 127.2, 70.1, 118.1, 70.1, 54.9, 68.0, 57.4, 65.2, 72.4, 75.9, 7.2, 75.9, 59.6, 69.5, 69.5, 82.7, 136.5, 136.5, 33.0, 192.5], [213.3, 180.2, 282.5, 282.5, 220.9, 108.0, 211.1, 294.3, 180.2, 188.5, 207.4, 280.5, 280.5, 35.9, 181.9, 180.2, 249.4, 188.5, 203.9, 102.2, 420.1, 331.8, 331.8, 420.1, 225.4, 196.3, 225.4, 194.8, 215.4, 255.6, 181.9, 152.4, 45.1, 190.7, 190.7, 77.2, 280.2, 263.3, 231.2, 165.8, 77.2, 280.2, 280.2, 223.5, 236.9, 236.9, 151.8, 151.8, 213.2, 227.8, 304.4, 304.4, 188.1, 332.7, 220.1, 332.7, 221.9, 221.9, 236.9, 236.9, 283.8, 283.8, 155.6, 250.2, 222.8, 222.8, 220.1, 231.2, 103.8, 103.8, 208.2, 0.0, 270.7, 208.2, 270.7, 200.5, 124.9, 174.9, 174.9, 282.1, 210.1, 112.7, 210.1, 215.9, 235.0, 212.5, 221.9, 240.8, 206.9, 212.9, 206.9, 259.9, 216.2, 216.2, 253.9, 344.4, 344.4, 239.1, 45.1], [58.9, 90.8, 161.0, 161.0, 49.9, 163.3, 59.6, 196.3, 90.8, 87.8, 70.8, 73.0, 73.0, 236.0, 92.9, 90.8, 24.5, 87.8, 66.8, 192.4, 361.6, 105.4, 105.4, 361.6, 49.9, 75.8, 49.9, 76.8, 61.7, 38.3, 92.9, 175.9, 240.5, 82.5, 82.5, 207.9, 16.2, 11.9, 43.0, 111.4, 207.9, 16.2, 16.2, 47.7, 143.0, 143.0, 127.6, 127.6, 57.5, 45.8, 158.2, 158.2, 85.6, 63.1, 51.4, 63.1, 49.8, 49.8, 179.9, 179.9, 14.9, 14.9, 115.3, 160.7, 49.6, 49.6, 107.1, 43.0, 182.2, 182.2, 101.3, 270.7, 0.0, 101.3, 0.0, 71.4, 145.9, 100.0, 100.0, 207.3, 60.6, 159.4, 60.6, 58.1, 38.2, 60.2, 49.8, 32.2, 64.2, 94.3, 64.2, 122.6, 54.6, 54.6, 19.3, 134.6, 134.6, 78.9, 240.5], [59.5, 76.7, 96.1, 96.1, 70.7, 107.3, 69.0, 124.9, 76.7, 44.3, 42.1, 74.4, 74.4, 172.5, 92.6, 76.7, 77.8, 44.3, 68.4, 165.7, 290.1, 124.3, 124.3, 290.1, 57.2, 81.2, 57.2, 78.4, 47.8, 66.6, 92.6, 178.1, 192.5, 86.2, 86.2, 169.0, 117.2, 89.5, 63.2, 103.6, 169.0, 117.2, 117.2, 67.9, 56.3, 56.3, 114.1, 114.1, 69.6, 62.4, 109.5, 109.5, 51.1, 147.1, 64.9, 147.1, 65.2, 65.2, 87.8, 87.8, 115.8, 115.8, 84.6, 77.3, 62.8, 62.8, 16.3, 63.2, 152.7, 152.7, 0.0, 208.2, 101.3, 0.0, 101.3, 80.2, 97.7, 94.8, 94.8, 127.2, 70.1, 118.1, 70.1, 54.9, 68.0, 57.4, 65.2, 72.4, 75.9, 7.2, 75.9, 59.6, 69.5, 69.5, 82.7, 136.5, 136.5, 33.0, 192.5], [58.9, 90.8, 161.0, 161.0, 49.9, 163.3, 59.6, 196.3, 90.8, 87.8, 70.8, 73.0, 73.0, 236.0, 92.9, 90.8, 24.5, 87.8, 66.8, 192.4, 361.6, 105.4, 105.4, 361.6, 49.9, 75.8, 49.9, 76.8, 61.7, 38.3, 92.9, 175.9, 240.5, 82.5, 82.5, 207.9, 16.2, 11.9, 43.0, 111.4, 207.9, 16.2, 16.2, 47.7, 143.0, 143.0, 127.6, 127.6, 57.5, 45.8, 158.2, 158.2, 85.6, 63.1, 51.4, 63.1, 49.8, 49.8, 179.9, 179.9, 14.9, 14.9, 115.3, 160.7, 49.6, 49.6, 107.1, 43.0, 182.2, 182.2, 101.3, 270.7, 0.0, 101.3, 0.0, 71.4, 145.9, 100.0, 100.0, 207.3, 60.6, 159.4, 60.6, 58.1, 38.2, 60.2, 49.8, 32.2, 64.2, 94.3, 64.2, 122.6, 54.6, 54.6, 19.3, 134.6, 134.6, 78.9, 240.5], [26.2, 20.8, 171.8, 171.8, 24.8, 94.7, 16.7, 203.3, 20.8, 39.3, 39.4, 109.9, 109.9, 166.5, 22.6, 20.8, 54.0, 39.3, 12.6, 122.0, 369.8, 158.2, 158.2, 369.8, 38.9, 4.4, 38.9, 6.0, 38.3, 69.9, 22.6, 113.4, 169.2, 11.8, 11.8, 136.6, 79.7, 66.2, 40.7, 41.1, 136.6, 79.7, 79.7, 29.3, 136.2, 136.2, 57.3, 57.3, 18.0, 37.4, 179.5, 179.5, 32.6, 134.4, 27.8, 134.4, 29.3, 29.3, 167.5, 167.5, 83.5, 83.5, 45.1, 157.1, 32.0, 32.0, 94.8, 40.7, 111.3, 111.3, 80.2, 200.5, 71.4, 80.2, 71.4, 0.0, 76.6, 29.4, 29.4, 207.2, 15.1, 88.4, 15.1, 32.2, 41.9, 27.5, 29.3, 46.3, 8.2, 76.6, 8.2, 131.7, 20.8, 20.8, 57.3, 181.9, 181.9, 83.8, 169.2], [88.6, 55.9, 189.7, 189.7, 96.0, 18.3, 86.3, 212.8, 55.9, 66.1, 84.6, 162.1, 162.1, 90.2, 61.0, 55.9, 124.6, 66.1, 79.1, 69.1, 368.0, 213.9, 213.9, 368.0, 101.1, 72.6, 101.1, 70.7, 91.9, 132.3, 61.0, 95.0, 98.6, 68.0, 68.0, 71.7, 155.8, 138.5, 106.6, 49.7, 71.7, 155.8, 155.8, 98.6, 144.4, 144.4, 43.4, 43.4, 88.4, 103.1, 206.1, 206.1, 64.3, 207.9, 95.3, 207.9, 97.0, 97.0, 161.9, 161.9, 159.1, 159.1, 31.6, 163.4, 98.1, 98.1, 113.1, 106.6, 56.0, 56.0, 97.7, 124.9, 145.9, 97.7, 145.9, 76.6, 0.0, 54.8, 54.8, 208.7, 85.3, 20.6, 85.3, 91.6, 110.3, 87.9, 97.0, 116.0, 82.5, 100.0, 82.5, 156.7, 91.3, 91.3, 129.1, 231.1, 231.1, 123.1, 98.6], [52.7, 18.3, 190.3, 190.3, 54.0, 73.0, 45.0, 219.7, 18.3, 50.6, 60.2, 136.8, 136.8, 142.1, 7.2, 18.3, 83.4, 50.6, 38.8, 92.7, 383.9, 186.3, 186.3, 383.9, 66.3, 25.0, 66.3, 25.1, 62.6, 98.3, 7.2, 86.9, 141.3, 17.7, 17.7, 108.1, 106.9, 95.4, 69.2, 11.8, 108.1, 106.9, 106.9, 58.2, 150.7, 150.7, 27.9, 27.9, 46.7, 65.8, 200.7, 200.7, 43.9, 163.1, 56.2, 163.1, 57.8, 57.8, 178.1, 178.1, 111.4, 111.4, 25.3, 171.6, 60.3, 60.3, 110.8, 69.2, 82.2, 82.2, 94.8, 174.9, 100.0, 94.8, 100.0, 29.4, 54.8, 0.0, 0.0, 221.0, 43.4, 62.2, 43.4, 58.1, 71.0, 53.3, 57.8, 75.5, 37.4, 93.1, 37.4, 151.5, 49.7, 49.7, 86.6, 209.0, 209.0, 106.4, 141.3], [52.7, 18.3, 190.3, 190.3, 54.0, 73.0, 45.0, 219.7, 18.3, 50.6, 60.2, 136.8, 136.8, 142.1, 7.2, 18.3, 83.4, 50.6, 38.8, 92.7, 383.9, 186.3, 186.3, 383.9, 66.3, 25.0, 66.3, 25.1, 62.6, 98.3, 7.2, 86.9, 141.3, 17.7, 17.7, 108.1, 106.9, 95.4, 69.2, 11.8, 108.1, 106.9, 106.9, 58.2, 150.7, 150.7, 27.9, 27.9, 46.7, 65.8, 200.7, 200.7, 43.9, 163.1, 56.2, 163.1, 57.8, 57.8, 178.1, 178.1, 111.4, 111.4, 25.3, 171.6, 60.3, 60.3, 110.8, 69.2, 82.2, 82.2, 94.8, 174.9, 100.0, 94.8, 100.0, 29.4, 54.8, 0.0, 0.0, 221.0, 43.4, 62.2, 43.4, 58.1, 71.0, 53.3, 57.8, 75.5, 37.4, 93.1, 37.4, 151.5, 49.7, 49.7, 86.6, 209.0, 209.0, 106.4, 141.3], [184.5, 203.3, 50.3, 50.3, 194.2, 210.2, 194.6, 21.8, 203.3, 171.0, 168.2, 140.4, 140.4, 251.7, 219.4, 203.3, 190.0, 171.0, 195.1, 276.6, 163.0, 153.6, 153.6, 163.0, 178.2, 208.4, 178.2, 205.6, 171.8, 169.4, 219.4, 299.9, 284.4, 213.4, 213.4, 271.9, 223.0, 196.2, 182.3, 228.6, 271.9, 223.0, 223.0, 190.4, 71.0, 71.0, 236.8, 236.8, 194.9, 182.9, 68.7, 68.7, 178.0, 224.2, 188.4, 224.2, 188.1, 188.1, 47.4, 47.4, 218.7, 218.7, 206.6, 50.1, 185.2, 185.2, 112.4, 182.3, 263.8, 263.8, 127.2, 282.1, 207.3, 127.2, 207.3, 207.2, 208.7, 221.0, 221.0, 0.0, 195.9, 228.4, 195.9, 179.1, 186.0, 182.5, 188.1, 188.3, 202.3, 130.6, 202.3, 84.7, 194.2, 194.2, 193.5, 137.7, 137.7, 131.3, 284.4], [11.9, 30.6, 158.8, 158.8, 11.1, 102.8, 1.7, 191.1, 30.6, 34.6, 28.0, 94.8, 94.8, 175.4, 37.1, 30.6, 40.7, 34.6, 6.2, 135.5, 358.0, 143.2, 143.2, 358.0, 23.8, 18.9, 23.8, 18.3, 24.7, 55.0, 37.1, 128.4, 180.6, 26.4, 26.4, 148.9, 71.1, 53.8, 25.8, 55.3, 148.9, 71.1, 71.1, 14.8, 125.2, 125.2, 71.2, 71.2, 3.3, 22.5, 165.5, 165.5, 29.5, 123.0, 12.8, 123.0, 14.4, 14.4, 157.8, 157.8, 73.9, 73.9, 54.8, 145.9, 17.0, 17.0, 83.6, 25.8, 124.4, 124.4, 70.1, 210.1, 60.6, 70.1, 60.6, 15.1, 85.3, 43.4, 43.4, 195.9, 0.0, 99.2, 0.0, 17.9, 27.6, 13.7, 14.4, 32.5, 7.2, 65.6, 7.2, 118.4, 6.4, 6.4, 44.6, 166.9, 166.9, 69.9, 180.6], [104.2, 68.6, 210.3, 210.3, 110.2, 22.5, 100.4, 233.1, 68.6, 84.5, 102.4, 180.9, 180.9, 80.1, 69.3, 68.6, 139.6, 84.5, 93.2, 48.6, 386.9, 232.7, 232.7, 386.9, 117.3, 84.1, 117.3, 82.7, 109.0, 149.3, 69.3, 79.5, 81.6, 78.2, 78.2, 52.1, 168.0, 153.0, 122.4, 53.7, 52.1, 168.0, 168.0, 113.4, 164.8, 164.8, 41.6, 41.6, 102.4, 118.8, 226.7, 226.7, 81.8, 222.2, 110.3, 222.2, 112.1, 112.1, 181.4, 181.4, 171.9, 171.9, 44.5, 183.7, 113.5, 113.5, 133.6, 122.4, 35.6, 35.6, 118.1, 112.7, 159.4, 118.1, 159.4, 88.4, 20.6, 62.2, 62.2, 228.4, 99.2, 0.0, 99.2, 107.9, 125.6, 103.8, 112.1, 131.1, 95.3, 120.2, 95.3, 177.2, 105.5, 105.5, 143.7, 250.7, 250.7, 142.7, 81.6], [11.9, 30.6, 158.8, 158.8, 11.1, 102.8, 1.7, 191.1, 30.6, 34.6, 28.0, 94.8, 94.8, 175.4, 37.1, 30.6, 40.7, 34.6, 6.2, 135.5, 358.0, 143.2, 143.2, 358.0, 23.8, 18.9, 23.8, 18.3, 24.7, 55.0, 37.1, 128.4, 180.6, 26.4, 26.4, 148.9, 71.1, 53.8, 25.8, 55.3, 148.9, 71.1, 71.1, 14.8, 125.2, 125.2, 71.2, 71.2, 3.3, 22.5, 165.5, 165.5, 29.5, 123.0, 12.8, 123.0, 14.4, 14.4, 157.8, 157.8, 73.9, 73.9, 54.8, 145.9, 17.0, 17.0, 83.6, 25.8, 124.4, 124.4, 70.1, 210.1, 60.6, 70.1, 60.6, 15.1, 85.3, 43.4, 43.4, 195.9, 0.0, 99.2, 0.0, 17.9, 27.6, 13.7, 14.4, 32.5, 7.2, 65.6, 7.2, 118.4, 6.4, 6.4, 44.6, 166.9, 166.9, 69.9, 180.6], [6.0, 42.2, 141.1, 141.1, 15.8, 107.9, 16.3, 173.7, 42.2, 29.7, 14.3, 78.7, 78.7, 180.6, 52.6, 42.2, 34.4, 29.7, 19.9, 147.8, 340.8, 128.5, 128.5, 340.8, 9.5, 35.3, 9.5, 33.8, 7.3, 41.7, 52.6, 144.6, 189.4, 42.6, 42.6, 159.1, 71.5, 48.6, 15.5, 69.7, 159.1, 71.5, 71.5, 13.4, 108.6, 108.6, 84.9, 84.9, 16.1, 12.3, 147.7, 147.7, 28.1, 117.3, 10.1, 117.3, 10.7, 10.7, 142.3, 142.3, 72.7, 72.7, 63.8, 129.2, 9.1, 9.1, 67.2, 15.5, 136.0, 136.0, 54.9, 215.9, 58.1, 54.9, 58.1, 32.2, 91.6, 58.1, 58.1, 179.1, 17.9, 107.9, 17.9, 0.0, 20.0, 4.8, 10.7, 26.0, 25.0, 49.6, 25.0, 100.7, 15.1, 15.1, 39.4, 150.8, 150.8, 52.0, 189.4], [21.7, 57.7, 144.3, 144.3, 17.1, 127.1, 26.1, 178.4, 57.7, 49.6, 32.8, 70.3, 70.3, 199.8, 64.4, 57.7, 14.5, 49.6, 33.0, 163.1, 345.7, 116.7, 116.7, 345.7, 11.9, 46.1, 11.9, 45.9, 23.8, 28.5, 64.4, 154.8, 207.2, 53.7, 53.7, 176.0, 52.2, 28.7, 5.1, 82.8, 176.0, 52.2, 52.2, 12.8, 117.2, 117.2, 98.8, 98.8, 24.3, 7.7, 147.5, 147.5, 47.9, 97.8, 15.4, 97.8, 13.6, 13.6, 152.7, 152.7, 52.9, 52.9, 81.1, 136.9, 12.2, 12.2, 77.3, 5.1, 151.8, 151.8, 68.0, 235.0, 38.2, 68.0, 38.2, 41.9, 110.3, 71.0, 71.0, 186.0, 27.6, 125.6, 27.6, 20.0, 0.0, 22.7, 13.6, 6.0, 33.7, 61.6, 33.7, 103.8, 21.3, 21.3, 19.4, 141.5, 141.5, 54.9, 207.2], [2.2, 37.5, 145.2, 145.2, 14.2, 104.5, 12.2, 177.5, 37.5, 28.0, 15.5, 83.5, 83.5, 177.2, 47.8, 37.5, 37.2, 28.0, 15.2, 143.2, 344.5, 133.2, 133.2, 344.5, 13.7, 30.6, 13.7, 29.0, 11.0, 46.1, 47.8, 139.8, 185.4, 37.8, 37.8, 154.8, 73.0, 51.3, 18.8, 64.9, 154.8, 73.0, 73.0, 13.4, 111.9, 111.9, 80.2, 80.2, 12.4, 15.3, 152.1, 152.1, 25.4, 120.4, 9.5, 120.4, 10.8, 10.8, 145.0, 145.0, 74.6, 74.6, 59.5, 132.5, 10.7, 10.7, 70.4, 18.8, 131.5, 131.5, 57.4, 212.5, 60.2, 57.4, 60.2, 27.5, 87.9, 53.3, 53.3, 182.5, 13.7, 103.8, 13.7, 4.8, 22.7, 0.0, 10.8, 28.6, 20.7, 52.5, 20.7, 104.8, 12.2, 12.2, 42.0, 155.6, 155.6, 56.4, 185.4], [9.2, 44.1, 148.9, 148.9, 6.2, 114.1, 12.8, 182.0, 44.1, 38.8, 25.0, 80.9, 80.9, 186.8, 51.5, 44.1, 27.6, 38.8, 19.5, 149.6, 349.3, 128.9, 128.9, 349.3, 10.7, 33.3, 10.7, 32.7, 17.5, 40.6, 51.5, 142.7, 193.6, 40.9, 40.9, 162.4, 62.2, 41.5, 11.4, 69.7, 162.4, 62.2, 62.2, 2.7, 118.1, 118.1, 85.5, 85.5, 11.3, 8.2, 154.1, 154.1, 35.9, 110.8, 1.8, 110.8, 0.0, 0.0, 152.2, 152.2, 64.0, 64.0, 67.6, 138.4, 3.2, 3.2, 76.9, 11.4, 138.3, 138.3, 65.2, 221.9, 49.8, 65.2, 49.8, 29.3, 97.0, 57.8, 57.8, 188.1, 14.4, 112.1, 14.4, 10.7, 13.6, 10.8, 0.0, 19.1, 21.1, 59.7, 21.1, 108.3, 8.6, 8.6, 32.1, 152.8, 152.8, 59.1, 193.6], [27.6, 62.9, 145.7, 145.7, 21.6, 132.9, 31.1, 180.0, 62.9, 55.6, 38.6, 68.6, 68.6, 205.7, 68.8, 62.9, 8.6, 55.6, 38.1, 167.9, 347.2, 113.4, 113.4, 347.2, 17.7, 50.6, 17.7, 50.6, 29.5, 26.1, 68.8, 158.3, 212.7, 58.0, 58.0, 181.3, 46.5, 22.7, 10.8, 87.3, 181.3, 46.5, 46.5, 17.8, 120.2, 120.2, 103.4, 103.4, 29.1, 13.7, 147.8, 147.8, 53.9, 91.9, 20.8, 91.9, 19.1, 19.1, 156.1, 156.1, 47.0, 47.0, 86.6, 139.6, 18.0, 18.0, 81.0, 10.8, 156.8, 156.8, 72.4, 240.8, 32.2, 72.4, 32.2, 46.3, 116.0, 75.5, 75.5, 188.3, 32.5, 131.1, 32.5, 26.0, 6.0, 28.6, 19.1, 0.0, 38.1, 65.9, 38.1, 105.4, 26.1, 26.1, 13.4, 139.0, 139.0, 57.0, 212.7], [19.0, 26.7, 165.7, 165.7, 16.6, 100.3, 8.9, 197.8, 26.7, 37.8, 34.1, 101.9, 101.9, 172.6, 30.8, 26.7, 46.0, 37.8, 7.8, 130.0, 364.6, 150.0, 150.0, 364.6, 31.0, 12.5, 31.0, 12.7, 31.6, 61.6, 30.8, 121.6, 176.4, 20.0, 20.0, 144.1, 73.4, 58.4, 32.5, 49.2, 144.1, 73.4, 73.4, 21.0, 131.4, 131.4, 65.3, 65.3, 9.9, 29.3, 172.7, 172.7, 31.8, 127.1, 19.7, 127.1, 21.1, 21.1, 163.6, 163.6, 76.8, 76.8, 51.3, 152.3, 23.9, 23.9, 89.9, 32.5, 119.1, 119.1, 75.9, 206.9, 64.2, 75.9, 64.2, 8.2, 82.5, 37.4, 37.4, 202.3, 7.2, 95.3, 7.2, 25.0, 33.7, 20.7, 21.1, 38.1, 0.0, 71.8, 0.0, 125.4, 12.6, 12.6, 49.4, 173.9, 173.9, 77.0, 176.4], [54.6, 74.9, 97.2, 97.2, 65.3, 110.7, 64.4, 127.2, 74.9, 42.7, 37.6, 68.5, 68.5, 177.1, 90.3, 74.9, 71.0, 42.7, 64.5, 167.3, 293.2, 119.0, 119.0, 293.2, 51.2, 77.9, 51.2, 75.2, 42.4, 59.5, 90.4, 177.6, 196.0, 83.3, 83.3, 171.6, 110.2, 82.5, 56.9, 102.4, 171.6, 110.2, 110.2, 62.3, 59.7, 59.7, 113.7, 113.7, 64.9, 56.3, 109.0, 109.0, 49.2, 140.0, 59.5, 140.0, 59.7, 59.7, 92.7, 92.7, 108.8, 108.8, 84.8, 80.6, 57.1, 57.1, 18.2, 56.9, 154.3, 154.3, 7.2, 212.9, 94.3, 7.2, 94.3, 76.6, 100.0, 93.1, 93.1, 130.6, 65.6, 120.2, 65.6, 49.6, 61.6, 52.5, 59.7, 65.9, 71.8, 0.0, 71.8, 59.1, 64.5, 64.5, 75.9, 132.4, 132.4, 26.9, 196.0], [19.0, 26.7, 165.7, 165.7, 16.6, 100.3, 8.9, 197.8, 26.7, 37.8, 34.1, 101.9, 101.9, 172.6, 30.8, 26.7, 46.0, 37.8, 7.8, 130.0, 364.6, 150.0, 150.0, 364.6, 31.0, 12.5, 31.0, 12.7, 31.6, 61.6, 30.8, 121.6, 176.4, 20.0, 20.0, 144.1, 73.4, 58.4, 32.5, 49.2, 144.1, 73.4, 73.4, 21.0, 131.4, 131.4, 65.3, 65.3, 9.9, 29.3, 172.7, 172.7, 31.8, 127.1, 19.7, 127.1, 21.1, 21.1, 163.6, 163.6, 76.8, 76.8, 51.3, 152.3, 23.9, 23.9, 89.9, 32.5, 119.1, 119.1, 75.9, 206.9, 64.2, 75.9, 64.2, 8.2, 82.5, 37.4, 37.4, 202.3, 7.2, 95.3, 7.2, 25.0, 33.7, 20.7, 21.1, 38.1, 0.0, 71.8, 0.0, 125.4, 12.6, 12.6, 49.4, 173.9, 173.9, 77.0, 176.4], [106.5, 133.2, 40.6, 40.6, 114.5, 164.8, 116.9, 74.7, 133.2, 101.6, 92.6, 58.1, 58.1, 224.9, 148.1, 133.2, 106.1, 101.6, 119.1, 225.1, 241.9, 88.6, 88.6, 241.9, 97.7, 133.8, 97.7, 131.5, 93.8, 85.0, 148.1, 236.7, 248.8, 140.1, 140.1, 227.4, 138.3, 111.6, 100.7, 161.2, 227.4, 138.3, 138.3, 110.2, 32.3, 32.3, 172.9, 172.9, 116.8, 101.9, 50.0, 50.0, 107.8, 144.1, 108.8, 144.1, 108.3, 108.3, 65.6, 65.6, 134.0, 134.0, 143.8, 41.4, 105.1, 105.1, 43.7, 100.7, 212.1, 212.1, 59.6, 259.9, 122.6, 59.6, 122.6, 131.7, 156.7, 151.5, 151.5, 84.7, 118.4, 177.2, 118.4, 100.7, 103.8, 104.8, 108.3, 105.4, 125.4, 59.1, 125.4, 0.0, 115.4, 115.4, 109.4, 89.0, 89.0, 49.3, 248.8], [10.0, 37.0, 155.9, 155.9, 4.7, 108.7, 5.1, 188.7, 37.0, 37.6, 27.7, 89.4, 89.4, 181.4, 43.2, 37.0, 34.3, 37.6, 12.3, 141.9, 355.9, 137.3, 137.3, 355.9, 18.8, 24.9, 18.8, 24.6, 22.4, 49.0, 43.2, 134.2, 187.0, 32.5, 32.5, 155.3, 65.6, 47.5, 19.9, 61.5, 155.3, 65.6, 65.6, 8.5, 123.7, 123.7, 77.5, 77.5, 3.1, 16.7, 161.8, 161.8, 33.3, 116.8, 7.2, 116.8, 8.6, 8.6, 157.1, 157.1, 68.2, 68.2, 61.1, 144.3, 11.5, 11.5, 82.3, 19.9, 130.8, 130.8, 69.5, 216.2, 54.6, 69.5, 54.6, 20.8, 91.3, 49.7, 49.7, 194.2, 6.4, 105.5, 6.4, 15.1, 21.3, 12.2, 8.6, 26.1, 12.6, 64.5, 12.6, 115.4, 0.0, 0.0, 38.3, 161.3, 161.3, 66.5, 187.0], [10.0, 37.0, 155.9, 155.9, 4.7, 108.7, 5.1, 188.7, 37.0, 37.6, 27.7, 89.4, 89.4, 181.4, 43.2, 37.0, 34.3, 37.6, 12.3, 141.9, 355.9, 137.3, 137.3, 355.9, 18.8, 24.9, 18.8, 24.6, 22.4, 49.0, 43.2, 134.2, 187.0, 32.5, 32.5, 155.3, 65.6, 47.5, 19.9, 61.5, 155.3, 65.6, 65.6, 8.5, 123.7, 123.7, 77.5, 77.5, 3.1, 16.7, 161.8, 161.8, 33.3, 116.8, 7.2, 116.8, 8.6, 8.6, 157.1, 157.1, 68.2, 68.2, 61.1, 144.3, 11.5, 11.5, 82.3, 19.9, 130.8, 130.8, 69.5, 216.2, 54.6, 69.5, 54.6, 20.8, 91.3, 49.7, 49.7, 194.2, 6.4, 105.5, 6.4, 15.1, 21.3, 12.2, 8.6, 26.1, 12.6, 64.5, 12.6, 115.4, 0.0, 0.0, 38.3, 161.3, 161.3, 66.5, 187.0], [40.9, 75.2, 149.0, 149.0, 33.5, 146.1, 43.3, 183.9, 75.2, 69.0, 51.7, 66.0, 66.0, 218.9, 79.7, 75.2, 5.2, 69.0, 50.6, 179.3, 350.5, 106.6, 106.6, 350.5, 30.8, 61.7, 30.8, 62.1, 42.5, 24.9, 79.7, 167.1, 225.2, 69.0, 69.0, 193.4, 34.5, 9.4, 24.0, 98.3, 193.4, 34.5, 34.5, 30.5, 127.1, 127.1, 114.5, 114.5, 41.3, 27.0, 148.8, 148.8, 67.3, 78.8, 33.8, 78.8, 32.1, 32.1, 163.7, 163.7, 34.2, 34.2, 99.3, 145.7, 31.3, 31.3, 89.6, 24.0, 168.5, 168.5, 82.7, 253.9, 19.3, 82.7, 19.3, 57.3, 129.1, 86.6, 86.6, 193.5, 44.6, 143.7, 44.6, 39.4, 19.4, 42.0, 32.1, 13.4, 49.4, 75.9, 49.4, 109.4, 38.3, 38.3, 0.0, 133.7, 133.7, 63.0, 225.2], [156.4, 192.3, 91.9, 91.9, 158.0, 242.9, 165.2, 117.1, 192.3, 166.8, 150.8, 72.2, 72.2, 308.8, 203.4, 192.3, 134.1, 166.8, 170.5, 295.6, 254.1, 30.8, 30.8, 254.1, 143.1, 185.6, 143.1, 184.5, 146.6, 113.1, 203.4, 295.3, 328.3, 193.1, 193.1, 302.7, 144.2, 129.3, 141.6, 220.5, 302.7, 144.2, 144.2, 153.3, 119.7, 119.7, 235.2, 235.2, 163.9, 144.6, 69.1, 69.1, 170.9, 112.6, 154.2, 112.6, 152.8, 152.8, 144.9, 144.9, 137.3, 137.3, 210.4, 119.6, 149.9, 149.9, 124.3, 141.6, 283.1, 283.1, 136.5, 344.4, 134.6, 136.5, 134.6, 181.9, 231.1, 209.0, 209.0, 137.7, 166.9, 250.7, 166.9, 150.8, 141.5, 155.6, 152.8, 139.0, 173.9, 132.4, 173.9, 89.0, 161.3, 161.3, 133.7, 0.0, 0.0, 108.1, 328.3], [156.4, 192.3, 91.9, 91.9, 158.0, 242.9, 165.2, 117.1, 192.3, 166.8, 150.8, 72.2, 72.2, 308.8, 203.4, 192.3, 134.1, 166.8, 170.5, 295.6, 254.1, 30.8, 30.8, 254.1, 143.1, 185.6, 143.1, 184.5, 146.6, 113.1, 203.4, 295.3, 328.3, 193.1, 193.1, 302.7, 144.2, 129.3, 141.6, 220.5, 302.7, 144.2, 144.2, 153.3, 119.7, 119.7, 235.2, 235.2, 163.9, 144.6, 69.1, 69.1, 170.9, 112.6, 154.2, 112.6, 152.8, 152.8, 144.9, 144.9, 137.3, 137.3, 210.4, 119.6, 149.9, 149.9, 124.3, 141.6, 283.1, 283.1, 136.5, 344.4, 134.6, 136.5, 134.6, 181.9, 231.1, 209.0, 209.0, 137.7, 166.9, 250.7, 166.9, 150.8, 141.5, 155.6, 152.8, 139.0, 173.9, 132.4, 173.9, 89.0, 161.3, 161.3, 133.7, 0.0, 0.0, 108.1, 328.3], [58.0, 88.4, 89.9, 89.9, 65.3, 135.2, 68.3, 123.5, 88.4, 59.6, 46.2, 41.7, 41.7, 203.2, 102.1, 88.4, 59.0, 59.6, 71.2, 188.2, 290.9, 92.6, 92.6, 290.9, 48.5, 86.4, 48.5, 84.4, 45.5, 40.8, 102.1, 193.1, 220.6, 93.1, 93.1, 194.7, 95.1, 67.2, 51.6, 117.0, 194.7, 95.1, 95.1, 61.0, 64.3, 64.3, 130.4, 130.4, 68.0, 52.7, 95.7, 95.7, 64.5, 116.5, 59.7, 116.5, 59.1, 59.1, 101.0, 101.0, 92.2, 92.2, 103.5, 82.9, 56.0, 56.0, 30.5, 51.6, 175.5, 175.5, 33.0, 239.1, 78.9, 33.0, 78.9, 83.8, 123.1, 106.4, 106.4, 131.3, 69.9, 142.7, 69.9, 52.0, 54.9, 56.4, 59.1, 57.0, 77.0, 26.9, 77.0, 49.3, 66.5, 66.5, 63.0, 108.1, 108.1, 0.0, 220.6], [185.8, 150.0, 276.8, 276.8, 191.7, 85.4, 181.9, 293.6, 150.0, 164.8, 183.2, 260.4, 260.4, 40.3, 148.6, 150.0, 221.1, 164.8, 174.7, 58.8, 432.4, 312.3, 312.3, 432.4, 198.9, 164.8, 198.9, 163.7, 190.2, 230.6, 148.6, 107.8, 0.0, 158.4, 158.4, 35.1, 248.2, 234.4, 204.0, 131.0, 35.1, 248.2, 248.2, 194.9, 230.3, 230.3, 115.6, 115.6, 183.9, 200.4, 296.4, 296.4, 162.8, 303.4, 191.9, 303.4, 193.6, 193.6, 237.4, 237.4, 252.5, 252.5, 126.0, 246.4, 195.1, 195.1, 206.4, 204.0, 62.9, 62.9, 192.5, 45.1, 240.5, 192.5, 240.5, 169.2, 98.6, 141.3, 141.3, 284.4, 180.6, 81.6, 180.6, 189.4, 207.2, 185.4, 193.6, 212.7, 176.4, 196.0, 176.4, 248.8, 187.0, 187.0, 225.2, 328.3, 328.3, 220.6, 0.0]]\n"
     ]
    }
   ],
   "source": [
    "# матриця відстаней між містами\n",
    "distances = []\n",
    "\n",
    "# прочитати збережені значення матриці\n",
    "with open(\"distances.txt\", 'r') as file:\n",
    "    for row in file.readlines():\n",
    "        distances.append(list(map(float, row.split())))\n",
    "\n",
    "# заповнити половину матриці, яка під головною діагоналлю\n",
    "for i in range(len(distances)):\n",
    "    for j in range(i):\n",
    "        distances[i][j] = distances[j][i]\n",
    "\n",
    "# подивитись як виглядає матриця відстаней\n",
    "print(distances)"
   ]
  },
  {
   "cell_type": "code",
   "execution_count": 46,
   "id": "88ef3111",
   "metadata": {
    "id": "88ef3111",
    "outputId": "7e981748-d953-4f79-9b0d-e8ef7c415b34",
    "scrolled": false
   },
   "outputs": [
    {
     "name": "stdout",
     "output_type": "stream",
     "text": [
      "Всього 3 ітерацій\n",
      "\n",
      "Балта\n",
      "['ананьев', 'ананьев', 'балт', 'винниц', 'винниц', 'латовк', 'латовк', 'любашевк', 'любашевк', 'орловк', 'орловк', 'первомайськ', 'слободк', 'южноукраинск', 'южноукраинск']\n",
      "\n",
      "+Миколаїв\n",
      "['березовк', 'березовк', 'вознесенск', 'вознесенск', 'кинбурнск', 'кинбурнск', 'кинбурнск', 'миколаїв', 'миколаїв', 'очаков', 'очаков', 'рибаківк', 'рибаківк', 'ширяєв']\n",
      "\n",
      "Одеса\n",
      "['авангард', 'аркад', 'балк', 'беляевк', 'березан', 'біляр', 'беляевк', 'великодолинськ', 'гидропорт', 'гидропорт', 'дачн', 'доброслав', 'коблев', 'котовськог', 'ланжерон', 'лиманк', 'лузанівк', 'маяк', 'молдаванк', 'одес', 'одес', 'пересип', 'пересип', 'першотравнев', 'котовськог', 'раздельн', 'раздельн', 'санжейк', 'таиров', 'таиров', 'усатов', 'фонтанк', 'хлібодарськ', 'одес', 'чабанк', 'черноморск', 'черьомушк', 'черноморск', 'школьн', 'школьн', 'южн', 'іванівк']\n",
      "\n",
      "Затока\n",
      "['аккерман', 'арциз', 'аккерман', 'бугаз', 'аккерман', 'грибовк', 'дальник', 'заток', 'каролин', 'каролин', 'курортн', 'лебедевк', 'лебедевк', 'паланк', 'сарат', 'сергеевк', 'сергеевк', 'татарбунар']\n",
      "\n",
      "Ізмаїл\n",
      "['болград', 'вилков', 'зміїн', 'измаил', 'кил', 'кил', 'приморск', 'приморск', 'рен', 'измаил']\n",
      "\n"
     ]
    }
   ],
   "source": [
    "def evklid_dist(x, y):\n",
    "    \"\"\" Функція обчислює евклідову відань між точками x та y. \"\"\"\n",
    "    return sqrt(sum([(x[i] - y[i]) ** 2 for i in range(len(x))]))\n",
    "\n",
    "\n",
    "# гео які використовуватимемо як початкові центроїди\n",
    "first_centroid_cities = [\"балт\", \"миколаїв\", \"одесс\", \"заток\", \"измаил\"]\n",
    "\n",
    "# координати поточних центроїдів\n",
    "current_centroid_coords = [distances[actual_geo.index(geo)] for geo in first_centroid_cities]\n",
    "\n",
    "# координати центроїдів з попередньої ітерації\n",
    "previous_centroid_coords = [[0 for i in range(len(coord))] for coord in current_centroid_coords]\n",
    "\n",
    "# лічильник ітерацій\n",
    "cnt = 0\n",
    "\n",
    "# повторюємо ітерації, поки координати центроїдів не перестануть змінюватись\n",
    "while any([current_centroid_coords[i] != previous_centroid_coords[i] for i in range(len(first_centroid_cities))]):\n",
    "   \n",
    "    # запам'ятати координати центроїдів з попередньої ітерації\n",
    "    previous_centroid_coords = [coord.copy() for coord in current_centroid_coords]\n",
    "\n",
    "    # очистити значення поточних координат центроїдів та склади кластерів, щоб заповнити їх новими\n",
    "    current_centroid_coords = []\n",
    "    \n",
    "    # кластери - набори міст, найближчих до кожного центроїда\n",
    "    clusters = [[] for i in range(len(first_centroid_cities))]\n",
    "\n",
    "    for i in range(len(actual_geo)):\n",
    "        # координати поточного гео\n",
    "        current_town = distances[i]\n",
    "\n",
    "        # відстань від поточного гео до центроїдів\n",
    "        distance_to_centroids = [evklid_dist(current_town, centroid) for centroid in previous_centroid_coords]\n",
    "\n",
    "        # визначити до якого центроїда дане місто найближче, в той кластер його додаємо\n",
    "        M = min(distance_to_centroids)\n",
    "        centroid_idx = distance_to_centroids.index(M)\n",
    "        clusters[centroid_idx].append(current_town)\n",
    "\n",
    "    # обчислити нові координати центроїдів = середнє арифметичне координат міст які належать кластеру\n",
    "    current_centroid_coords = [[sum([cluster[j][i] for j in range(len(cluster))]) / len(cluster) for i in range(len(cluster[0]))] for cluster in clusters]\n",
    "    cnt += 1\n",
    "\n",
    "\n",
    "# подивитись результати\n",
    "print(f\"Всього {cnt} ітерацій\\n\")\n",
    "for i in range(len(first_centroid_cities)):\n",
    "    print(full_geo_names[actual_geo.index(first_centroid_cities[i])])\n",
    "    print([actual_geo[distances.index(t)] for t in clusters[i]])\n",
    "    print()"
   ]
  },
  {
   "cell_type": "markdown",
   "id": "02a0d748",
   "metadata": {
    "id": "02a0d748"
   },
   "source": [
    "Було б добре візуалізувати міста як точки на графіку і явно побачити кластери.  \n",
    "Наші \"точки\" мають 99-вимірні координати, тому зобразити їх на пласкому графіку ми не зможемо.  \n",
    "Скористаємось методом **MDS** (Multi-Dimensional Scaling), щоб зменшити розмірність наших даних до 2-вимірних.  \n",
    "Основна ідея полягає в тому, щоб знайти наближені координати в просторі меншої розмірності для кожного об'єкта так, щоб вони якомога краще відображали відстані між об'єктами у вихідному просторі вищої розмірності."
   ]
  },
  {
   "cell_type": "code",
   "execution_count": 47,
   "id": "d3eac2bd",
   "metadata": {
    "id": "d3eac2bd",
    "outputId": "4d818776-7fea-4294-ac4b-31708c6e30fb"
   },
   "outputs": [
    {
     "data": {
      "image/png": "[encoded data removed]",
      "text/plain": [
       "<Figure size 800x600 with 1 Axes>"
      ]
     },
     "metadata": {},
     "output_type": "display_data"
    }
   ],
   "source": [
    "# створити об'єкт MDS\n",
    "mds = MDS(n_components=2, dissimilarity='precomputed', normalized_stress='auto')\n",
    "\n",
    "# зменшити розмірність координат\n",
    "coordinates = mds.fit_transform(distances)\n",
    "\n",
    "# створити графік\n",
    "plt.figure(figsize=(8, 6))\n",
    "\n",
    "# набір кольорів для різних кластерів\n",
    "colors = [\"red\", \"green\", \"blue\", \"orange\", \"purple\", \"yellow\", \"black\",\"pink\", \"brown\"]\n",
    "\n",
    "for i in range(len(clusters)):\n",
    "    # поточний кластер\n",
    "    cluster = clusters[i]\n",
    "\n",
    "    # знайти 2-вимірні координати поточного кластера\n",
    "    two_dim_cluster = [coordinates[distances.index(cluster[j])] for j in range(len(cluster))]\n",
    "\n",
    "    # зобразити на графіку точки, які належать поточному кластеру\n",
    "    plt.scatter([x[0] for x in two_dim_cluster], [x[1] for x in two_dim_cluster], c=colors[i % len(clusters)], s=50, alpha=0.5)\n",
    "\n",
    "\n",
    "# додати назви центроїдів на графік\n",
    "for i in range(len(first_centroid_cities)):\n",
    "    # 2-вимірні координати поточного центроїда\n",
    "    centr_coords = coordinates[actual_geo.index(first_centroid_cities[i])]\n",
    "\n",
    "    # знайти повну назву поточного центроїда\n",
    "    label = full_geo_names[actual_geo.index(first_centroid_cities[i])]\n",
    "\n",
    "    # додати назву поточного центроїда на графік\n",
    "    plt.text(centr_coords[0], centr_coords[1], label, fontsize=10)\n",
    "\n",
    "\n",
    "# додати сітку\n",
    "plt.grid(True)\n",
    "plt.show()"
   ]
  },
  {
   "cell_type": "markdown",
   "id": "5fd249f1",
   "metadata": {
    "id": "5fd249f1"
   },
   "source": [
    "Подивимось наскільки розподіл міст за методом K-середніх відрізняється від того як я розподілив вручну."
   ]
  },
  {
   "cell_type": "code",
   "execution_count": 48,
   "id": "aa78bdff",
   "metadata": {
    "id": "aa78bdff"
   },
   "outputs": [],
   "source": [
    "# список виписаних раніше гео\n",
    "geo_north_lst = list(set([remove_endings(geo) for geo in geo_north.split() if remove_endings(geo) in actual_geo]))\n",
    "geo_above_odesa_lst = list(set([remove_endings(geo) for geo in geo_above_odesa.split() if remove_endings(geo) in actual_geo]))\n",
    "geo_odesa_lst = list(set([remove_endings(geo) for geo in geo_odesa.split() if remove_endings(geo) in actual_geo]))\n",
    "geo_behind_odesa_lst = list(set([remove_endings(geo) for geo in geo_behind_odesa.split() if remove_endings(geo) in actual_geo]))\n",
    "geo_south_lst = list(set([remove_endings(geo) for geo in geo_south.split() if remove_endings(geo) in actual_geo]))"
   ]
  },
  {
   "cell_type": "code",
   "execution_count": 49,
   "id": "322dfc7d",
   "metadata": {
    "id": "322dfc7d",
    "outputId": "5c3b8638-ee15-4219-bf38-1f9f18c52dd7"
   },
   "outputs": [
    {
     "name": "stdout",
     "output_type": "stream",
     "text": [
      "Співпадіння:\n",
      "Північ - 35.0 %\n",
      "Вище Одеси - 30.77 %\n",
      "Одеса - 65.71 %\n",
      "Нижче Одеси - 50.0 %\n",
      "Південь - 41.18 %\n"
     ]
    }
   ],
   "source": [
    "# знайдені раніше кластери, у вигляді назв гео, а не координат\n",
    "clusters_names = [[actual_geo[distances.index(cluster[i])] for i in range(len(cluster))] for cluster in clusters]\n",
    "\n",
    "# для кожного регіону шукаємо долю співпадінь в поділі на регіони вручну та методом K-середніх\n",
    "print(\"Співпадіння:\")\n",
    "print(\"Північ -\", str(round(len(set(geo_north_lst).intersection(set(clusters_names[0]))) / len(geo_north_lst) * 100, 2)) + \" %\")\n",
    "print(\"Вище Одеси -\", str(round(len(set(geo_above_odesa_lst).intersection(set(clusters_names[1]))) / len(geo_above_odesa_lst) * 100, 2)) + \" %\")\n",
    "print(\"Одеса -\", str(round(len(set(geo_odesa_lst).intersection(set(clusters_names[2]))) / len(geo_odesa_lst) * 100, 2)) + \" %\")\n",
    "print(\"Нижче Одеси -\", str(round(len(set(geo_behind_odesa_lst).intersection(set(clusters_names[3]))) / len(geo_behind_odesa_lst) * 100, 2)) + \" %\")\n",
    "print(\"Південь -\", str(round(len(set(geo_south_lst).intersection(set(clusters_names[4]))) / len(geo_south_lst) * 100, 2)) + \" %\")"
   ]
  },
  {
   "cell_type": "markdown",
   "id": "034c0ab0",
   "metadata": {
    "id": "034c0ab0"
   },
   "source": [
    "Результат методу K-середніх досить переконливий, але я все ж працюватиму далі зі своїм початковим розбиттям."
   ]
  },
  {
   "cell_type": "markdown",
   "id": "d570edc9",
   "metadata": {
    "id": "d570edc9"
   },
   "source": [
    "Я не маю даних скільки саме шахедів в якому напрямку летіло.  \n",
    "Замість цього використаємо \"гібридну\" змінну: припустимо, що кількість згадок в межах даної тривоги гео які належать до даного регіону прямо пропорційна ступеню небезпеки для даного регіону.  \n",
    "Вважатимемо, що основною ціллю кожної атаки є один конкретний регіон."
   ]
  },
  {
   "cell_type": "code",
   "execution_count": 50,
   "id": "13540e60",
   "metadata": {
    "id": "13540e60",
    "outputId": "258fb6d1-69be-4632-bc1e-98a4621e2444"
   },
   "outputs": [
    {
     "data": {
      "text/html": [
       "<div>\n",
       "<style scoped>\n",
       "    .dataframe tbody tr th:only-of-type {\n",
       "        vertical-align: middle;\n",
       "    }\n",
       "\n",
       "    .dataframe tbody tr th {\n",
       "        vertical-align: top;\n",
       "    }\n",
       "\n",
       "    .dataframe thead th {\n",
       "        text-align: right;\n",
       "    }\n",
       "</style>\n",
       "<table border=\"1\" class=\"dataframe\">\n",
       "  <thead>\n",
       "    <tr style=\"text-align: right;\">\n",
       "      <th></th>\n",
       "      <th>Початок тривоги</th>\n",
       "      <th>Тривалість тривоги</th>\n",
       "      <th>Регіон атаки</th>\n",
       "    </tr>\n",
       "  </thead>\n",
       "  <tbody>\n",
       "    <tr>\n",
       "      <th>0</th>\n",
       "      <td>2023-03-21 17:32:08+00:00</td>\n",
       "      <td>43</td>\n",
       "      <td>odesa</td>\n",
       "    </tr>\n",
       "    <tr>\n",
       "      <th>1</th>\n",
       "      <td>2023-04-03 22:23:20+00:00</td>\n",
       "      <td>111</td>\n",
       "      <td>above_odesa</td>\n",
       "    </tr>\n",
       "    <tr>\n",
       "      <th>2</th>\n",
       "      <td>2023-04-04 09:41:29+00:00</td>\n",
       "      <td>122</td>\n",
       "      <td>odesa</td>\n",
       "    </tr>\n",
       "    <tr>\n",
       "      <th>3</th>\n",
       "      <td>2023-04-18 22:47:37+00:00</td>\n",
       "      <td>72</td>\n",
       "      <td>odesa</td>\n",
       "    </tr>\n",
       "    <tr>\n",
       "      <th>4</th>\n",
       "      <td>2023-05-03 23:36:26+00:00</td>\n",
       "      <td>115</td>\n",
       "      <td>odesa</td>\n",
       "    </tr>\n",
       "  </tbody>\n",
       "</table>\n",
       "</div>"
      ],
      "text/plain": [
       "             Початок тривоги  Тривалість тривоги Регіон атаки\n",
       "0  2023-03-21 17:32:08+00:00                  43        odesa\n",
       "1  2023-04-03 22:23:20+00:00                 111  above_odesa\n",
       "2  2023-04-04 09:41:29+00:00                 122        odesa\n",
       "3  2023-04-18 22:47:37+00:00                  72        odesa\n",
       "4  2023-05-03 23:36:26+00:00                 115        odesa"
      ]
     },
     "execution_count": 50,
     "metadata": {},
     "output_type": "execute_result"
    }
   ],
   "source": [
    "# додати колонку\n",
    "if 'Регіон атаки' not in df3.columns:\n",
    "    df3['Регіон атаки'] = pd.NA\n",
    "\n",
    "\n",
    "for i in range(len(df3)):\n",
    "    # лічильник згадок кожного регіону\n",
    "    regions = {\n",
    "        \"north\": 0,\n",
    "        \"above_odesa\": 0,\n",
    "        \"odesa\": 0,\n",
    "        \"behind_odesa\": 0,\n",
    "        \"south\": 0\n",
    "    }\n",
    "\n",
    "    # список поточних гео\n",
    "    geo = df3.at[i, 'Гео']\n",
    "\n",
    "    for g in geo:\n",
    "        if g in geo_north_lst: regions[\"north\"] += 1\n",
    "        elif g in geo_above_odesa_lst: regions[\"above_odesa\"] += 1\n",
    "        elif g in geo_odesa_lst: regions[\"odesa\"] += 1\n",
    "        elif g in geo_behind_odesa_lst: regions[\"behind_odesa\"] += 1\n",
    "        elif g in geo_south_lst: regions[\"south\"] += 1\n",
    "\n",
    "    # ціль атаки = регіон, який згадувався найчастіше\n",
    "    df3.at[i, 'Регіон атаки'] = [k for k in regions.keys() if regions[k] == max(regions.values())][0]\n",
    "\n",
    "\n",
    "# колонка з набором гео нам більше не потрібна\n",
    "df3 = df3.drop(columns=['Гео'])\n",
    "\n",
    "# подивитись як виглядає датафрейм\n",
    "df3.head()"
   ]
  },
  {
   "cell_type": "markdown",
   "id": "90fcf62b",
   "metadata": {
    "id": "90fcf62b"
   },
   "source": [
    "Сам по собі час початку тривоги для аналізу не дуже зручний. Нас скоріше цікавить скільки часу пройшло між тривогами."
   ]
  },
  {
   "cell_type": "code",
   "execution_count": 51,
   "id": "33919d97",
   "metadata": {
    "id": "33919d97",
    "outputId": "45121b5e-539c-473f-be7b-268584c604f3"
   },
   "outputs": [
    {
     "data": {
      "text/html": [
       "<div>\n",
       "<style scoped>\n",
       "    .dataframe tbody tr th:only-of-type {\n",
       "        vertical-align: middle;\n",
       "    }\n",
       "\n",
       "    .dataframe tbody tr th {\n",
       "        vertical-align: top;\n",
       "    }\n",
       "\n",
       "    .dataframe thead th {\n",
       "        text-align: right;\n",
       "    }\n",
       "</style>\n",
       "<table border=\"1\" class=\"dataframe\">\n",
       "  <thead>\n",
       "    <tr style=\"text-align: right;\">\n",
       "      <th></th>\n",
       "      <th>Початок тривоги</th>\n",
       "      <th>Тривалість тривоги</th>\n",
       "      <th>Регіон атаки</th>\n",
       "      <th>Наступна тривога</th>\n",
       "    </tr>\n",
       "  </thead>\n",
       "  <tbody>\n",
       "    <tr>\n",
       "      <th>0</th>\n",
       "      <td>2023-03-21 17:32:08+00:00</td>\n",
       "      <td>43</td>\n",
       "      <td>odesa</td>\n",
       "      <td>2023-04-03 22:23:20+00:00</td>\n",
       "    </tr>\n",
       "    <tr>\n",
       "      <th>1</th>\n",
       "      <td>2023-04-03 22:23:20+00:00</td>\n",
       "      <td>111</td>\n",
       "      <td>above_odesa</td>\n",
       "      <td>2023-04-04 09:41:29+00:00</td>\n",
       "    </tr>\n",
       "    <tr>\n",
       "      <th>2</th>\n",
       "      <td>2023-04-04 09:41:29+00:00</td>\n",
       "      <td>122</td>\n",
       "      <td>odesa</td>\n",
       "      <td>2023-04-18 22:47:37+00:00</td>\n",
       "    </tr>\n",
       "    <tr>\n",
       "      <th>3</th>\n",
       "      <td>2023-04-18 22:47:37+00:00</td>\n",
       "      <td>72</td>\n",
       "      <td>odesa</td>\n",
       "      <td>2023-05-03 23:36:26+00:00</td>\n",
       "    </tr>\n",
       "    <tr>\n",
       "      <th>4</th>\n",
       "      <td>2023-05-03 23:36:26+00:00</td>\n",
       "      <td>115</td>\n",
       "      <td>odesa</td>\n",
       "      <td>2023-05-06 19:37:42+00:00</td>\n",
       "    </tr>\n",
       "  </tbody>\n",
       "</table>\n",
       "</div>"
      ],
      "text/plain": [
       "             Початок тривоги  Тривалість тривоги Регіон атаки   \n",
       "0  2023-03-21 17:32:08+00:00                  43        odesa  \\\n",
       "1  2023-04-03 22:23:20+00:00                 111  above_odesa   \n",
       "2  2023-04-04 09:41:29+00:00                 122        odesa   \n",
       "3  2023-04-18 22:47:37+00:00                  72        odesa   \n",
       "4  2023-05-03 23:36:26+00:00                 115        odesa   \n",
       "\n",
       "            Наступна тривога  \n",
       "0  2023-04-03 22:23:20+00:00  \n",
       "1  2023-04-04 09:41:29+00:00  \n",
       "2  2023-04-18 22:47:37+00:00  \n",
       "3  2023-05-03 23:36:26+00:00  \n",
       "4  2023-05-06 19:37:42+00:00  "
      ]
     },
     "execution_count": 51,
     "metadata": {},
     "output_type": "execute_result"
    }
   ],
   "source": [
    "# час початку наступної тривоги = час початку поточної з лагом 1\n",
    "df3['Наступна тривога'] = df3['Початок тривоги'].shift(-1)\n",
    "\n",
    "# подивитись як виглядає датафрейм\n",
    "df3.head()"
   ]
  },
  {
   "cell_type": "code",
   "execution_count": 52,
   "id": "58cc877a",
   "metadata": {
    "id": "58cc877a",
    "outputId": "a69364eb-bba6-4251-a961-93d32d259b5b"
   },
   "outputs": [
    {
     "data": {
      "text/html": [
       "<div>\n",
       "<style scoped>\n",
       "    .dataframe tbody tr th:only-of-type {\n",
       "        vertical-align: middle;\n",
       "    }\n",
       "\n",
       "    .dataframe tbody tr th {\n",
       "        vertical-align: top;\n",
       "    }\n",
       "\n",
       "    .dataframe thead th {\n",
       "        text-align: right;\n",
       "    }\n",
       "</style>\n",
       "<table border=\"1\" class=\"dataframe\">\n",
       "  <thead>\n",
       "    <tr style=\"text-align: right;\">\n",
       "      <th></th>\n",
       "      <th>Початок тривоги</th>\n",
       "      <th>Тривалість тривоги</th>\n",
       "      <th>Регіон атаки</th>\n",
       "      <th>Наступна тривога</th>\n",
       "      <th>Час до наступної тривоги</th>\n",
       "    </tr>\n",
       "  </thead>\n",
       "  <tbody>\n",
       "    <tr>\n",
       "      <th>0</th>\n",
       "      <td>2023-03-21 17:32:08+00:00</td>\n",
       "      <td>43</td>\n",
       "      <td>odesa</td>\n",
       "      <td>2023-04-03 22:23:20+00:00</td>\n",
       "      <td>633</td>\n",
       "    </tr>\n",
       "    <tr>\n",
       "      <th>1</th>\n",
       "      <td>2023-04-03 22:23:20+00:00</td>\n",
       "      <td>111</td>\n",
       "      <td>above_odesa</td>\n",
       "      <td>2023-04-04 09:41:29+00:00</td>\n",
       "      <td>22</td>\n",
       "    </tr>\n",
       "    <tr>\n",
       "      <th>2</th>\n",
       "      <td>2023-04-04 09:41:29+00:00</td>\n",
       "      <td>122</td>\n",
       "      <td>odesa</td>\n",
       "      <td>2023-04-18 22:47:37+00:00</td>\n",
       "      <td>698</td>\n",
       "    </tr>\n",
       "    <tr>\n",
       "      <th>3</th>\n",
       "      <td>2023-04-18 22:47:37+00:00</td>\n",
       "      <td>72</td>\n",
       "      <td>odesa</td>\n",
       "      <td>2023-05-03 23:36:26+00:00</td>\n",
       "      <td>721</td>\n",
       "    </tr>\n",
       "    <tr>\n",
       "      <th>4</th>\n",
       "      <td>2023-05-03 23:36:26+00:00</td>\n",
       "      <td>115</td>\n",
       "      <td>odesa</td>\n",
       "      <td>2023-05-06 19:37:42+00:00</td>\n",
       "      <td>136</td>\n",
       "    </tr>\n",
       "  </tbody>\n",
       "</table>\n",
       "</div>"
      ],
      "text/plain": [
       "             Початок тривоги  Тривалість тривоги Регіон атаки   \n",
       "0  2023-03-21 17:32:08+00:00                  43        odesa  \\\n",
       "1  2023-04-03 22:23:20+00:00                 111  above_odesa   \n",
       "2  2023-04-04 09:41:29+00:00                 122        odesa   \n",
       "3  2023-04-18 22:47:37+00:00                  72        odesa   \n",
       "4  2023-05-03 23:36:26+00:00                 115        odesa   \n",
       "\n",
       "            Наступна тривога  Час до наступної тривоги  \n",
       "0  2023-04-03 22:23:20+00:00                       633  \n",
       "1  2023-04-04 09:41:29+00:00                        22  \n",
       "2  2023-04-18 22:47:37+00:00                       698  \n",
       "3  2023-05-03 23:36:26+00:00                       721  \n",
       "4  2023-05-06 19:37:42+00:00                       136  "
      ]
     },
     "execution_count": 52,
     "metadata": {},
     "output_type": "execute_result"
    }
   ],
   "source": [
    "# видалити останній запис з датафрейму (бо там None)\n",
    "df3 = df3.drop(df3.index[-1])\n",
    "\n",
    "# обчислити різницю часу (з точністю до півгодини)\n",
    "df3['Час до наступної тривоги'] = (pd.to_datetime(df3['Наступна тривога']) - pd.to_datetime(df3['Початок тривоги'])).apply(lambda x: int(x.total_seconds() / (30 * 60)))\n",
    "\n",
    "# подивитись як виглядає датафрейм\n",
    "df3.head()"
   ]
  },
  {
   "cell_type": "code",
   "execution_count": 53,
   "id": "6e0b0999",
   "metadata": {
    "id": "6e0b0999",
    "outputId": "4539eeda-9c15-4203-cdf2-922d735785a4"
   },
   "outputs": [
    {
     "data": {
      "text/html": [
       "<div>\n",
       "<style scoped>\n",
       "    .dataframe tbody tr th:only-of-type {\n",
       "        vertical-align: middle;\n",
       "    }\n",
       "\n",
       "    .dataframe tbody tr th {\n",
       "        vertical-align: top;\n",
       "    }\n",
       "\n",
       "    .dataframe thead th {\n",
       "        text-align: right;\n",
       "    }\n",
       "</style>\n",
       "<table border=\"1\" class=\"dataframe\">\n",
       "  <thead>\n",
       "    <tr style=\"text-align: right;\">\n",
       "      <th></th>\n",
       "      <th>Тривалість тривоги</th>\n",
       "      <th>Регіон атаки</th>\n",
       "      <th>Час до наступної тривоги</th>\n",
       "    </tr>\n",
       "  </thead>\n",
       "  <tbody>\n",
       "    <tr>\n",
       "      <th>0</th>\n",
       "      <td>43</td>\n",
       "      <td>odesa</td>\n",
       "      <td>633</td>\n",
       "    </tr>\n",
       "    <tr>\n",
       "      <th>1</th>\n",
       "      <td>111</td>\n",
       "      <td>above_odesa</td>\n",
       "      <td>22</td>\n",
       "    </tr>\n",
       "    <tr>\n",
       "      <th>2</th>\n",
       "      <td>122</td>\n",
       "      <td>odesa</td>\n",
       "      <td>698</td>\n",
       "    </tr>\n",
       "    <tr>\n",
       "      <th>3</th>\n",
       "      <td>72</td>\n",
       "      <td>odesa</td>\n",
       "      <td>721</td>\n",
       "    </tr>\n",
       "    <tr>\n",
       "      <th>4</th>\n",
       "      <td>115</td>\n",
       "      <td>odesa</td>\n",
       "      <td>136</td>\n",
       "    </tr>\n",
       "  </tbody>\n",
       "</table>\n",
       "</div>"
      ],
      "text/plain": [
       "   Тривалість тривоги Регіон атаки  Час до наступної тривоги\n",
       "0                  43        odesa                       633\n",
       "1                 111  above_odesa                        22\n",
       "2                 122        odesa                       698\n",
       "3                  72        odesa                       721\n",
       "4                 115        odesa                       136"
      ]
     },
     "execution_count": 53,
     "metadata": {},
     "output_type": "execute_result"
    }
   ],
   "source": [
    "# колонки з точним часом нам більше не потрібні\n",
    "df3 = df3.drop(columns=['Початок тривоги', 'Наступна тривога'])\n",
    "\n",
    "# подивитись як виглядає датафрейм\n",
    "df3.head()"
   ]
  },
  {
   "cell_type": "markdown",
   "id": "2ade95c2",
   "metadata": {
    "id": "2ade95c2"
   },
   "source": [
    "Такий датасет вже підходить для аналізу."
   ]
  },
  {
   "cell_type": "code",
   "execution_count": 54,
   "id": "c086c0af",
   "metadata": {
    "id": "c086c0af"
   },
   "outputs": [],
   "source": [
    "# збірігаємо підготовлений датасет\n",
    "df3.to_csv(\"preprocessed_data_2.csv\", index=False)"
   ]
  },
  {
   "cell_type": "markdown",
   "id": "4d83791a",
   "metadata": {
    "id": "4d83791a"
   },
   "source": [
    "# Додаткова підготовка даних"
   ]
  },
  {
   "cell_type": "markdown",
   "id": "ce464236",
   "metadata": {},
   "source": [
    "Перед тим як передавати дані на вхід моделям машинного навчання вони потребують ще певної обробки."
   ]
  },
  {
   "cell_type": "code",
   "execution_count": 55,
   "id": "ce46f772",
   "metadata": {
    "id": "ce46f772"
   },
   "outputs": [],
   "source": [
    "from sklearn.preprocessing import StandardScaler"
   ]
  },
  {
   "cell_type": "code",
   "execution_count": 56,
   "id": "d6302757",
   "metadata": {
    "id": "d6302757",
    "outputId": "79b989f4-5660-4f71-be00-c44b70383711"
   },
   "outputs": [
    {
     "data": {
      "text/html": [
       "<div>\n",
       "<style scoped>\n",
       "    .dataframe tbody tr th:only-of-type {\n",
       "        vertical-align: middle;\n",
       "    }\n",
       "\n",
       "    .dataframe tbody tr th {\n",
       "        vertical-align: top;\n",
       "    }\n",
       "\n",
       "    .dataframe thead th {\n",
       "        text-align: right;\n",
       "    }\n",
       "</style>\n",
       "<table border=\"1\" class=\"dataframe\">\n",
       "  <thead>\n",
       "    <tr style=\"text-align: right;\">\n",
       "      <th></th>\n",
       "      <th>Тривалість тривоги</th>\n",
       "      <th>Регіон атаки</th>\n",
       "      <th>Час до наступної тривоги</th>\n",
       "    </tr>\n",
       "  </thead>\n",
       "  <tbody>\n",
       "    <tr>\n",
       "      <th>0</th>\n",
       "      <td>43</td>\n",
       "      <td>odesa</td>\n",
       "      <td>633</td>\n",
       "    </tr>\n",
       "    <tr>\n",
       "      <th>1</th>\n",
       "      <td>111</td>\n",
       "      <td>above_odesa</td>\n",
       "      <td>22</td>\n",
       "    </tr>\n",
       "    <tr>\n",
       "      <th>2</th>\n",
       "      <td>122</td>\n",
       "      <td>odesa</td>\n",
       "      <td>698</td>\n",
       "    </tr>\n",
       "    <tr>\n",
       "      <th>3</th>\n",
       "      <td>72</td>\n",
       "      <td>odesa</td>\n",
       "      <td>721</td>\n",
       "    </tr>\n",
       "    <tr>\n",
       "      <th>4</th>\n",
       "      <td>115</td>\n",
       "      <td>odesa</td>\n",
       "      <td>136</td>\n",
       "    </tr>\n",
       "  </tbody>\n",
       "</table>\n",
       "</div>"
      ],
      "text/plain": [
       "   Тривалість тривоги Регіон атаки  Час до наступної тривоги\n",
       "0                  43        odesa                       633\n",
       "1                 111  above_odesa                        22\n",
       "2                 122        odesa                       698\n",
       "3                  72        odesa                       721\n",
       "4                 115        odesa                       136"
      ]
     },
     "execution_count": 56,
     "metadata": {},
     "output_type": "execute_result"
    }
   ],
   "source": [
    "# зчитати підготовлені дані\n",
    "df4 = pd.read_csv(\"preprocessed_data_2.csv\")\n",
    "\n",
    "# подивитись як виглядає датафрейм\n",
    "df4.head()"
   ]
  },
  {
   "cell_type": "markdown",
   "id": "7873af75",
   "metadata": {
    "id": "7873af75"
   },
   "source": [
    "Числові змінні можуть мати різну дисперсію. Чим більше розкид значень певної змінної тим більшу \"вагу\" вона матиме в кінцевій моделі.  \n",
    "Для уникнення небажаного впливу дисперсії на результат стандартизуємо числові змінні шляхом Z-нормалізації (значення будуть відображатися у вигляді стандартних відхилень від середнього, а не в їхніх початкових одиницях вимірювання)."
   ]
  },
  {
   "cell_type": "code",
   "execution_count": 57,
   "id": "abe6172d",
   "metadata": {
    "id": "abe6172d",
    "outputId": "0bea1394-264e-4dd5-e4ef-e630a6ff8186"
   },
   "outputs": [
    {
     "data": {
      "text/html": [
       "<div>\n",
       "<style scoped>\n",
       "    .dataframe tbody tr th:only-of-type {\n",
       "        vertical-align: middle;\n",
       "    }\n",
       "\n",
       "    .dataframe tbody tr th {\n",
       "        vertical-align: top;\n",
       "    }\n",
       "\n",
       "    .dataframe thead th {\n",
       "        text-align: right;\n",
       "    }\n",
       "</style>\n",
       "<table border=\"1\" class=\"dataframe\">\n",
       "  <thead>\n",
       "    <tr style=\"text-align: right;\">\n",
       "      <th></th>\n",
       "      <th>Тривалість тривоги</th>\n",
       "      <th>Регіон атаки</th>\n",
       "      <th>Час до наступної тривоги</th>\n",
       "    </tr>\n",
       "  </thead>\n",
       "  <tbody>\n",
       "    <tr>\n",
       "      <th>0</th>\n",
       "      <td>-0.951464</td>\n",
       "      <td>odesa</td>\n",
       "      <td>4.118155</td>\n",
       "    </tr>\n",
       "    <tr>\n",
       "      <th>1</th>\n",
       "      <td>-0.050314</td>\n",
       "      <td>above_odesa</td>\n",
       "      <td>-0.676244</td>\n",
       "    </tr>\n",
       "    <tr>\n",
       "      <th>2</th>\n",
       "      <td>0.095461</td>\n",
       "      <td>odesa</td>\n",
       "      <td>4.628197</td>\n",
       "    </tr>\n",
       "    <tr>\n",
       "      <th>3</th>\n",
       "      <td>-0.567150</td>\n",
       "      <td>odesa</td>\n",
       "      <td>4.808674</td>\n",
       "    </tr>\n",
       "    <tr>\n",
       "      <th>4</th>\n",
       "      <td>0.002695</td>\n",
       "      <td>odesa</td>\n",
       "      <td>0.218292</td>\n",
       "    </tr>\n",
       "  </tbody>\n",
       "</table>\n",
       "</div>"
      ],
      "text/plain": [
       "   Тривалість тривоги Регіон атаки  Час до наступної тривоги\n",
       "0           -0.951464        odesa                  4.118155\n",
       "1           -0.050314  above_odesa                 -0.676244\n",
       "2            0.095461        odesa                  4.628197\n",
       "3           -0.567150        odesa                  4.808674\n",
       "4            0.002695        odesa                  0.218292"
      ]
     },
     "execution_count": 57,
     "metadata": {},
     "output_type": "execute_result"
    }
   ],
   "source": [
    "# створити об'єкт StandardScaler для змінної \"Тривалість тривоги\"\n",
    "scaler_duration = StandardScaler()\n",
    "\n",
    "# стандартизувати значення змінної \"Тривалість тривоги\"\n",
    "df4['Тривалість тривоги'] = scaler_duration.fit_transform(df4['Тривалість тривоги'].values.reshape(-1, 1))\n",
    "\n",
    "# створити об'єкт StandardScaler для змінної \"Час до наступної тривоги\"\n",
    "scaler_time = StandardScaler()\n",
    "\n",
    "# стандартизувати значення змінної \"Час до наступної тривоги\"\n",
    "df4['Час до наступної тривоги'] = scaler_time.fit_transform(df4['Час до наступної тривоги'].values.reshape(-1, 1))\n",
    "\n",
    "# подивитись як виглядає датафрейм\n",
    "df4.head()"
   ]
  },
  {
   "cell_type": "markdown",
   "id": "c6ad3eca",
   "metadata": {
    "id": "c6ad3eca"
   },
   "source": [
    "Інколи рекомендують розбивати категоріальні змінні на множину відповідних булевих змінних. Я спробую обидва підходи, подивимось як це вплине на результат."
   ]
  },
  {
   "cell_type": "code",
   "execution_count": 58,
   "id": "377fa152",
   "metadata": {
    "id": "377fa152",
    "outputId": "d9343886-1537-44ce-cd3c-a1fd22eb8bd9"
   },
   "outputs": [
    {
     "data": {
      "text/html": [
       "<div>\n",
       "<style scoped>\n",
       "    .dataframe tbody tr th:only-of-type {\n",
       "        vertical-align: middle;\n",
       "    }\n",
       "\n",
       "    .dataframe tbody tr th {\n",
       "        vertical-align: top;\n",
       "    }\n",
       "\n",
       "    .dataframe thead th {\n",
       "        text-align: right;\n",
       "    }\n",
       "</style>\n",
       "<table border=\"1\" class=\"dataframe\">\n",
       "  <thead>\n",
       "    <tr style=\"text-align: right;\">\n",
       "      <th></th>\n",
       "      <th>Тривалість тривоги</th>\n",
       "      <th>Час до наступної тривоги</th>\n",
       "      <th>odesa</th>\n",
       "      <th>above_odesa</th>\n",
       "      <th>behind_odesa</th>\n",
       "      <th>north</th>\n",
       "      <th>south</th>\n",
       "    </tr>\n",
       "  </thead>\n",
       "  <tbody>\n",
       "    <tr>\n",
       "      <th>0</th>\n",
       "      <td>-0.951464</td>\n",
       "      <td>4.118155</td>\n",
       "      <td>1</td>\n",
       "      <td>0</td>\n",
       "      <td>0</td>\n",
       "      <td>0</td>\n",
       "      <td>0</td>\n",
       "    </tr>\n",
       "    <tr>\n",
       "      <th>1</th>\n",
       "      <td>-0.050314</td>\n",
       "      <td>-0.676244</td>\n",
       "      <td>0</td>\n",
       "      <td>1</td>\n",
       "      <td>0</td>\n",
       "      <td>0</td>\n",
       "      <td>0</td>\n",
       "    </tr>\n",
       "    <tr>\n",
       "      <th>2</th>\n",
       "      <td>0.095461</td>\n",
       "      <td>4.628197</td>\n",
       "      <td>1</td>\n",
       "      <td>0</td>\n",
       "      <td>0</td>\n",
       "      <td>0</td>\n",
       "      <td>0</td>\n",
       "    </tr>\n",
       "    <tr>\n",
       "      <th>3</th>\n",
       "      <td>-0.567150</td>\n",
       "      <td>4.808674</td>\n",
       "      <td>1</td>\n",
       "      <td>0</td>\n",
       "      <td>0</td>\n",
       "      <td>0</td>\n",
       "      <td>0</td>\n",
       "    </tr>\n",
       "    <tr>\n",
       "      <th>4</th>\n",
       "      <td>0.002695</td>\n",
       "      <td>0.218292</td>\n",
       "      <td>1</td>\n",
       "      <td>0</td>\n",
       "      <td>0</td>\n",
       "      <td>0</td>\n",
       "      <td>0</td>\n",
       "    </tr>\n",
       "  </tbody>\n",
       "</table>\n",
       "</div>"
      ],
      "text/plain": [
       "   Тривалість тривоги  Час до наступної тривоги  odesa  above_odesa   \n",
       "0           -0.951464                  4.118155      1            0  \\\n",
       "1           -0.050314                 -0.676244      0            1   \n",
       "2            0.095461                  4.628197      1            0   \n",
       "3           -0.567150                  4.808674      1            0   \n",
       "4            0.002695                  0.218292      1            0   \n",
       "\n",
       "   behind_odesa  north  south  \n",
       "0             0      0      0  \n",
       "1             0      0      0  \n",
       "2             0      0      0  \n",
       "3             0      0      0  \n",
       "4             0      0      0  "
      ]
     },
     "execution_count": 58,
     "metadata": {},
     "output_type": "execute_result"
    }
   ],
   "source": [
    "# створити окремий датафрейм\n",
    "df4_dummy = df4.copy()\n",
    "\n",
    "# створити булеві змінні, які відповідають категоріальній змінній \"Регіон атаки\"\n",
    "dummies = df4_dummy['Регіон атаки'].apply(lambda x: pd.Series([1] * len([x]), index=[x])).fillna(0).astype(int)\n",
    "\n",
    "# додати ці булеві змінні в датафрейм\n",
    "df4_dummy = pd.concat([df4_dummy, dummies], axis=1)\n",
    "\n",
    "# видалити колонку \"Регіон атаки\", вона більше не потрібна\n",
    "df4_dummy.drop('Регіон атаки', axis=1, inplace=True)\n",
    "\n",
    "# подивитись як виглядає датафрейм\n",
    "df4_dummy.head()"
   ]
  },
  {
   "cell_type": "code",
   "execution_count": 59,
   "id": "55cf68e5",
   "metadata": {
    "id": "55cf68e5",
    "outputId": "40a9da43-268b-4abc-c234-73a008aee7f1",
    "scrolled": true
   },
   "outputs": [
    {
     "data": {
      "text/html": [
       "<div>\n",
       "<style scoped>\n",
       "    .dataframe tbody tr th:only-of-type {\n",
       "        vertical-align: middle;\n",
       "    }\n",
       "\n",
       "    .dataframe tbody tr th {\n",
       "        vertical-align: top;\n",
       "    }\n",
       "\n",
       "    .dataframe thead th {\n",
       "        text-align: right;\n",
       "    }\n",
       "</style>\n",
       "<table border=\"1\" class=\"dataframe\">\n",
       "  <thead>\n",
       "    <tr style=\"text-align: right;\">\n",
       "      <th></th>\n",
       "      <th>Тривалість тривоги</th>\n",
       "      <th>Час до наступної тривоги</th>\n",
       "      <th>north</th>\n",
       "      <th>above_odesa</th>\n",
       "      <th>odesa</th>\n",
       "      <th>behind_odesa</th>\n",
       "      <th>south</th>\n",
       "    </tr>\n",
       "  </thead>\n",
       "  <tbody>\n",
       "    <tr>\n",
       "      <th>0</th>\n",
       "      <td>-0.951464</td>\n",
       "      <td>4.118155</td>\n",
       "      <td>0</td>\n",
       "      <td>0</td>\n",
       "      <td>1</td>\n",
       "      <td>0</td>\n",
       "      <td>0</td>\n",
       "    </tr>\n",
       "    <tr>\n",
       "      <th>1</th>\n",
       "      <td>-0.050314</td>\n",
       "      <td>-0.676244</td>\n",
       "      <td>0</td>\n",
       "      <td>1</td>\n",
       "      <td>0</td>\n",
       "      <td>0</td>\n",
       "      <td>0</td>\n",
       "    </tr>\n",
       "    <tr>\n",
       "      <th>2</th>\n",
       "      <td>0.095461</td>\n",
       "      <td>4.628197</td>\n",
       "      <td>0</td>\n",
       "      <td>0</td>\n",
       "      <td>1</td>\n",
       "      <td>0</td>\n",
       "      <td>0</td>\n",
       "    </tr>\n",
       "    <tr>\n",
       "      <th>3</th>\n",
       "      <td>-0.567150</td>\n",
       "      <td>4.808674</td>\n",
       "      <td>0</td>\n",
       "      <td>0</td>\n",
       "      <td>1</td>\n",
       "      <td>0</td>\n",
       "      <td>0</td>\n",
       "    </tr>\n",
       "    <tr>\n",
       "      <th>4</th>\n",
       "      <td>0.002695</td>\n",
       "      <td>0.218292</td>\n",
       "      <td>0</td>\n",
       "      <td>0</td>\n",
       "      <td>1</td>\n",
       "      <td>0</td>\n",
       "      <td>0</td>\n",
       "    </tr>\n",
       "  </tbody>\n",
       "</table>\n",
       "</div>"
      ],
      "text/plain": [
       "   Тривалість тривоги  Час до наступної тривоги  north  above_odesa  odesa   \n",
       "0           -0.951464                  4.118155      0            0      1  \\\n",
       "1           -0.050314                 -0.676244      0            1      0   \n",
       "2            0.095461                  4.628197      0            0      1   \n",
       "3           -0.567150                  4.808674      0            0      1   \n",
       "4            0.002695                  0.218292      0            0      1   \n",
       "\n",
       "   behind_odesa  south  \n",
       "0             0      0  \n",
       "1             0      0  \n",
       "2             0      0  \n",
       "3             0      0  \n",
       "4             0      0  "
      ]
     },
     "execution_count": 59,
     "metadata": {},
     "output_type": "execute_result"
    }
   ],
   "source": [
    "# встановити правильний порядок колонок\n",
    "new_order = ['Тривалість тривоги', 'Час до наступної тривоги', 'north', 'above_odesa', 'odesa', 'behind_odesa', 'south']\n",
    "df4_dummy = df4_dummy.reindex(columns=new_order)\n",
    "\n",
    "# подивитись як виглядає датафрейм\n",
    "df4_dummy.head()"
   ]
  },
  {
   "cell_type": "markdown",
   "id": "dffa65fb",
   "metadata": {
    "id": "dffa65fb"
   },
   "source": [
    "Моделі машинного навчання приймають на вхід тільки числа. Тому треба \"закодувати\" категоріальну змінну \"Регіон атаки\": кожному значенню поставимо у відповідність певне число."
   ]
  },
  {
   "cell_type": "code",
   "execution_count": 60,
   "id": "29dc8a83",
   "metadata": {
    "id": "29dc8a83",
    "outputId": "4b409ebf-b294-4f5f-bdf7-2ab1e7266937"
   },
   "outputs": [
    {
     "data": {
      "text/html": [
       "<div>\n",
       "<style scoped>\n",
       "    .dataframe tbody tr th:only-of-type {\n",
       "        vertical-align: middle;\n",
       "    }\n",
       "\n",
       "    .dataframe tbody tr th {\n",
       "        vertical-align: top;\n",
       "    }\n",
       "\n",
       "    .dataframe thead th {\n",
       "        text-align: right;\n",
       "    }\n",
       "</style>\n",
       "<table border=\"1\" class=\"dataframe\">\n",
       "  <thead>\n",
       "    <tr style=\"text-align: right;\">\n",
       "      <th></th>\n",
       "      <th>Тривалість тривоги</th>\n",
       "      <th>Регіон атаки</th>\n",
       "      <th>Час до наступної тривоги</th>\n",
       "    </tr>\n",
       "  </thead>\n",
       "  <tbody>\n",
       "    <tr>\n",
       "      <th>0</th>\n",
       "      <td>-0.951464</td>\n",
       "      <td>2</td>\n",
       "      <td>4.118155</td>\n",
       "    </tr>\n",
       "    <tr>\n",
       "      <th>1</th>\n",
       "      <td>-0.050314</td>\n",
       "      <td>1</td>\n",
       "      <td>-0.676244</td>\n",
       "    </tr>\n",
       "    <tr>\n",
       "      <th>2</th>\n",
       "      <td>0.095461</td>\n",
       "      <td>2</td>\n",
       "      <td>4.628197</td>\n",
       "    </tr>\n",
       "    <tr>\n",
       "      <th>3</th>\n",
       "      <td>-0.567150</td>\n",
       "      <td>2</td>\n",
       "      <td>4.808674</td>\n",
       "    </tr>\n",
       "    <tr>\n",
       "      <th>4</th>\n",
       "      <td>0.002695</td>\n",
       "      <td>2</td>\n",
       "      <td>0.218292</td>\n",
       "    </tr>\n",
       "  </tbody>\n",
       "</table>\n",
       "</div>"
      ],
      "text/plain": [
       "   Тривалість тривоги Регіон атаки  Час до наступної тривоги\n",
       "0           -0.951464            2                  4.118155\n",
       "1           -0.050314            1                 -0.676244\n",
       "2            0.095461            2                  4.628197\n",
       "3           -0.567150            2                  4.808674\n",
       "4            0.002695            2                  0.218292"
      ]
     },
     "execution_count": 60,
     "metadata": {},
     "output_type": "execute_result"
    }
   ],
   "source": [
    "# словник чисел які відповідають кожному регіону\n",
    "regions = {\n",
    "    \"north\": 0,\n",
    "    \"above_odesa\": 1,\n",
    "    \"odesa\": 2,\n",
    "    \"behind_odesa\": 3,\n",
    "    \"south\": 4\n",
    "}\n",
    "\n",
    "# змінити рядки на числа в колонці \"Регіон атаки\"\n",
    "for i in range(len(df4)):\n",
    "    df4.loc[i, \"Регіон атаки\"] = regions[df4.loc[i, \"Регіон атаки\"]]\n",
    "\n",
    "# подивитись як виглядає датафрейм\n",
    "df4.head()"
   ]
  },
  {
   "cell_type": "markdown",
   "id": "71db3a50",
   "metadata": {
    "id": "71db3a50"
   },
   "source": [
    "Для прогнозу ми використовуватимемо \"історичні\" дані. Тобто знаючи тривалість попередньої тривоги, який був основний регіон атаки та скільки пройшло часу до неї від тривоги, що їй передувала ми хочемо знати через скільки часу буде наступна тривога."
   ]
  },
  {
   "cell_type": "code",
   "execution_count": 61,
   "id": "03625586",
   "metadata": {
    "id": "03625586",
    "outputId": "300e3bd4-0ce5-4bf5-f603-b5e80f8157d2"
   },
   "outputs": [
    {
     "data": {
      "text/html": [
       "<div>\n",
       "<style scoped>\n",
       "    .dataframe tbody tr th:only-of-type {\n",
       "        vertical-align: middle;\n",
       "    }\n",
       "\n",
       "    .dataframe tbody tr th {\n",
       "        vertical-align: top;\n",
       "    }\n",
       "\n",
       "    .dataframe thead th {\n",
       "        text-align: right;\n",
       "    }\n",
       "</style>\n",
       "<table border=\"1\" class=\"dataframe\">\n",
       "  <thead>\n",
       "    <tr style=\"text-align: right;\">\n",
       "      <th></th>\n",
       "      <th>Тривалість тривоги</th>\n",
       "      <th>Регіон атаки</th>\n",
       "      <th>Час до наступної тривоги</th>\n",
       "      <th>Наступний час до наступної тривоги</th>\n",
       "    </tr>\n",
       "  </thead>\n",
       "  <tbody>\n",
       "    <tr>\n",
       "      <th>0</th>\n",
       "      <td>-0.951464</td>\n",
       "      <td>2</td>\n",
       "      <td>4.118155</td>\n",
       "      <td>-0.676244</td>\n",
       "    </tr>\n",
       "    <tr>\n",
       "      <th>1</th>\n",
       "      <td>-0.050314</td>\n",
       "      <td>1</td>\n",
       "      <td>-0.676244</td>\n",
       "      <td>4.628197</td>\n",
       "    </tr>\n",
       "    <tr>\n",
       "      <th>2</th>\n",
       "      <td>0.095461</td>\n",
       "      <td>2</td>\n",
       "      <td>4.628197</td>\n",
       "      <td>4.808674</td>\n",
       "    </tr>\n",
       "    <tr>\n",
       "      <th>3</th>\n",
       "      <td>-0.567150</td>\n",
       "      <td>2</td>\n",
       "      <td>4.808674</td>\n",
       "      <td>0.218292</td>\n",
       "    </tr>\n",
       "    <tr>\n",
       "      <th>4</th>\n",
       "      <td>0.002695</td>\n",
       "      <td>2</td>\n",
       "      <td>0.218292</td>\n",
       "      <td>-0.472227</td>\n",
       "    </tr>\n",
       "  </tbody>\n",
       "</table>\n",
       "</div>"
      ],
      "text/plain": [
       "   Тривалість тривоги Регіон атаки  Час до наступної тривоги   \n",
       "0           -0.951464            2                  4.118155  \\\n",
       "1           -0.050314            1                 -0.676244   \n",
       "2            0.095461            2                  4.628197   \n",
       "3           -0.567150            2                  4.808674   \n",
       "4            0.002695            2                  0.218292   \n",
       "\n",
       "   Наступний час до наступної тривоги  \n",
       "0                           -0.676244  \n",
       "1                            4.628197  \n",
       "2                            4.808674  \n",
       "3                            0.218292  \n",
       "4                           -0.472227  "
      ]
     },
     "execution_count": 61,
     "metadata": {},
     "output_type": "execute_result"
    }
   ],
   "source": [
    "# створити окремий датафрейм\n",
    "df5 = df4.copy()\n",
    "\n",
    "# додати нову колонку, яка містить значення 'Час до наступної тривоги' з лагом 1\n",
    "df5['Наступний час до наступної тривоги'] = df5['Час до наступної тривоги'].shift(-1)\n",
    "df5 = df5.dropna()\n",
    "\n",
    "# подивитись як виглядає датафрейм\n",
    "df5.head()"
   ]
  },
  {
   "cell_type": "code",
   "execution_count": 62,
   "id": "ed9e6dea",
   "metadata": {
    "id": "ed9e6dea",
    "outputId": "37a93d90-55fe-4412-8ced-6f75f75f69e3"
   },
   "outputs": [
    {
     "data": {
      "text/html": [
       "<div>\n",
       "<style scoped>\n",
       "    .dataframe tbody tr th:only-of-type {\n",
       "        vertical-align: middle;\n",
       "    }\n",
       "\n",
       "    .dataframe tbody tr th {\n",
       "        vertical-align: top;\n",
       "    }\n",
       "\n",
       "    .dataframe thead th {\n",
       "        text-align: right;\n",
       "    }\n",
       "</style>\n",
       "<table border=\"1\" class=\"dataframe\">\n",
       "  <thead>\n",
       "    <tr style=\"text-align: right;\">\n",
       "      <th></th>\n",
       "      <th>Тривалість тривоги</th>\n",
       "      <th>Час до наступної тривоги</th>\n",
       "      <th>north</th>\n",
       "      <th>above_odesa</th>\n",
       "      <th>odesa</th>\n",
       "      <th>behind_odesa</th>\n",
       "      <th>south</th>\n",
       "      <th>Наступний час до наступної тривоги</th>\n",
       "    </tr>\n",
       "  </thead>\n",
       "  <tbody>\n",
       "    <tr>\n",
       "      <th>0</th>\n",
       "      <td>-0.951464</td>\n",
       "      <td>4.118155</td>\n",
       "      <td>0</td>\n",
       "      <td>0</td>\n",
       "      <td>1</td>\n",
       "      <td>0</td>\n",
       "      <td>0</td>\n",
       "      <td>-0.676244</td>\n",
       "    </tr>\n",
       "    <tr>\n",
       "      <th>1</th>\n",
       "      <td>-0.050314</td>\n",
       "      <td>-0.676244</td>\n",
       "      <td>0</td>\n",
       "      <td>1</td>\n",
       "      <td>0</td>\n",
       "      <td>0</td>\n",
       "      <td>0</td>\n",
       "      <td>4.628197</td>\n",
       "    </tr>\n",
       "    <tr>\n",
       "      <th>2</th>\n",
       "      <td>0.095461</td>\n",
       "      <td>4.628197</td>\n",
       "      <td>0</td>\n",
       "      <td>0</td>\n",
       "      <td>1</td>\n",
       "      <td>0</td>\n",
       "      <td>0</td>\n",
       "      <td>4.808674</td>\n",
       "    </tr>\n",
       "    <tr>\n",
       "      <th>3</th>\n",
       "      <td>-0.567150</td>\n",
       "      <td>4.808674</td>\n",
       "      <td>0</td>\n",
       "      <td>0</td>\n",
       "      <td>1</td>\n",
       "      <td>0</td>\n",
       "      <td>0</td>\n",
       "      <td>0.218292</td>\n",
       "    </tr>\n",
       "    <tr>\n",
       "      <th>4</th>\n",
       "      <td>0.002695</td>\n",
       "      <td>0.218292</td>\n",
       "      <td>0</td>\n",
       "      <td>0</td>\n",
       "      <td>1</td>\n",
       "      <td>0</td>\n",
       "      <td>0</td>\n",
       "      <td>-0.472227</td>\n",
       "    </tr>\n",
       "  </tbody>\n",
       "</table>\n",
       "</div>"
      ],
      "text/plain": [
       "   Тривалість тривоги  Час до наступної тривоги  north  above_odesa  odesa   \n",
       "0           -0.951464                  4.118155      0            0      1  \\\n",
       "1           -0.050314                 -0.676244      0            1      0   \n",
       "2            0.095461                  4.628197      0            0      1   \n",
       "3           -0.567150                  4.808674      0            0      1   \n",
       "4            0.002695                  0.218292      0            0      1   \n",
       "\n",
       "   behind_odesa  south  Наступний час до наступної тривоги  \n",
       "0             0      0                           -0.676244  \n",
       "1             0      0                            4.628197  \n",
       "2             0      0                            4.808674  \n",
       "3             0      0                            0.218292  \n",
       "4             0      0                           -0.472227  "
      ]
     },
     "execution_count": 62,
     "metadata": {},
     "output_type": "execute_result"
    }
   ],
   "source": [
    "# повторю ті самі кроки для датафрейму з булевими змінними замість категоріальної\n",
    "\n",
    "# створити окремий датафрейм\n",
    "df5_dummy = df4_dummy.copy()\n",
    "\n",
    "# додати нову колонку, яка містить значення 'Час до наступної тривоги' з лагом 1\n",
    "df5_dummy['Наступний час до наступної тривоги'] = df5_dummy['Час до наступної тривоги'].shift(-1)\n",
    "df5_dummy = df5_dummy.dropna()\n",
    "\n",
    "# подивитись як виглядає датафрейм\n",
    "df5_dummy.head()"
   ]
  },
  {
   "cell_type": "markdown",
   "id": "3c48d555",
   "metadata": {},
   "source": [
    "# Регресія"
   ]
  },
  {
   "cell_type": "markdown",
   "id": "90994d35",
   "metadata": {},
   "source": [
    "Для регресії та класифікації я не буду детально розбирати алгоритми, замість цього використаю готові бібліотеки python.  \n",
    "Основна мета цього проекту - ознайомитись з технологіями, спробувати їх використати і зробити висновок чи є вони корисними в роботі Дата аналітика. Якщо так, то далі слід розбиратись більш детально."
   ]
  },
  {
   "cell_type": "code",
   "execution_count": null,
   "id": "1f1a189f",
   "metadata": {},
   "outputs": [],
   "source": [
    "from sklearn.model_selection import train_test_split\n",
    "from sklearn.metrics import accuracy_score, mean_squared_error\n",
    "\n",
    "from sklearn.linear_model import LinearRegression\n",
    "from sklearn.tree import DecisionTreeRegressor\n",
    "from sklearn.ensemble import RandomForestRegressor\n",
    "\n",
    "import tensorflow as tf\n",
    "from tensorflow.keras.models import Sequential\n",
    "from tensorflow.keras.layers import Dense"
   ]
  },
  {
   "cell_type": "markdown",
   "id": "5751fd39",
   "metadata": {},
   "source": [
    "Перш за все, було б круто знати коли почнеться наступна тривога.  \n",
    "Для цього скористаємось регресійними алгоритмами машинного навчання, які повертають конкретне число (час до наступної тривоги)."
   ]
  },
  {
   "cell_type": "code",
   "execution_count": 63,
   "id": "bf3b5e9f",
   "metadata": {
    "id": "bf3b5e9f"
   },
   "outputs": [],
   "source": [
    "# змінні-предиктори\n",
    "X = df5[['Тривалість тривоги', 'Час до наступної тривоги', 'Регіон атаки']]\n",
    "# цільова змінна\n",
    "y = df5['Наступний час до наступної тривоги']\n",
    "\n",
    "# розділяємо набір даних на вибірку для навчання та вибірку для тестування моделі\n",
    "# переводимо їх з типу pd.Series в np.array (знадобиться для нейронних мереж)\n",
    "X_train, X_test, y_train, y_test = map(np.float32, train_test_split(X, y, test_size=0.2, random_state=42))"
   ]
  },
  {
   "cell_type": "code",
   "execution_count": 64,
   "id": "3ed634b3",
   "metadata": {
    "id": "3ed634b3",
    "outputId": "bae6d121-f9a6-4783-ec9b-c8afb12394f8"
   },
   "outputs": [
    {
     "name": "stdout",
     "output_type": "stream",
     "text": [
      "Mean Squared Error: 0.846465\n"
     ]
    }
   ],
   "source": [
    "# Лінійна регресія\n",
    "\n",
    "# створити та навчити модель\n",
    "lr_model = LinearRegression()\n",
    "lr_model.fit(X_train, y_train)\n",
    "\n",
    "# прогнозування\n",
    "predictions = lr_model.predict(X_test)\n",
    "\n",
    "# оцінка результатів\n",
    "mse = mean_squared_error(y_test, predictions)\n",
    "print(\"Mean Squared Error:\", mse)"
   ]
  },
  {
   "cell_type": "code",
   "execution_count": 65,
   "id": "f89930ce",
   "metadata": {
    "id": "f89930ce",
    "outputId": "c6c886d4-7cdf-438c-b70d-c05d3853537f"
   },
   "outputs": [
    {
     "name": "stdout",
     "output_type": "stream",
     "text": [
      "Mean Squared Error: 0.7843025\n"
     ]
    }
   ],
   "source": [
    "# Лінійна регресія з дихотомічними змінними\n",
    "\n",
    "# змінні-предиктори\n",
    "X_dummy = df5_dummy[['Тривалість тривоги', 'Час до наступної тривоги', 'north', 'above_odesa', 'odesa', 'behind_odesa', 'south']]\n",
    "# цільова змінна\n",
    "y_dummy = df5_dummy['Наступний час до наступної тривоги']\n",
    "\n",
    "# розділити набір даних на вибірку для навчання та вибірку для тестування моделі\n",
    "X_train_dummy, X_test_dummy, y_train_dummy, y_test_dummy = map(np.float32, train_test_split(X_dummy, y_dummy, test_size=0.2, random_state=42))\n",
    "\n",
    "# створити та навчити модель\n",
    "lr_model_dummy = LinearRegression()\n",
    "lr_model_dummy.fit(X_train_dummy, y_train_dummy)\n",
    "\n",
    "# прогнозування\n",
    "predictions = lr_model_dummy.predict(X_test_dummy)\n",
    "\n",
    "# оцінка результатів\n",
    "mse = mean_squared_error(y_test_dummy, predictions)\n",
    "print(\"Mean Squared Error:\", mse)"
   ]
  },
  {
   "cell_type": "code",
   "execution_count": 66,
   "id": "e967faa0",
   "metadata": {
    "id": "e967faa0",
    "outputId": "6844e0a4-5cf6-4ce3-87d4-041c635019ba"
   },
   "outputs": [
    {
     "name": "stdout",
     "output_type": "stream",
     "text": [
      "Mean Squared Error: 1.3319795794888925\n"
     ]
    }
   ],
   "source": [
    "# Decision Tree\n",
    "\n",
    "# створити та навчити модель\n",
    "dt_model = DecisionTreeRegressor()\n",
    "dt_model.fit(X_train, y_train)\n",
    "\n",
    "# прогнозування\n",
    "predictions = dt_model.predict(X_test)\n",
    "\n",
    "# оцінка результатів\n",
    "mse = mean_squared_error(y_test, predictions)\n",
    "print(\"Mean Squared Error:\", mse)"
   ]
  },
  {
   "cell_type": "code",
   "execution_count": 67,
   "id": "18afd4c2",
   "metadata": {
    "id": "18afd4c2",
    "outputId": "1f1cf7a3-17ab-4394-9b46-2375e6d2d6b8"
   },
   "outputs": [
    {
     "name": "stdout",
     "output_type": "stream",
     "text": [
      "Mean Squared Error: 0.8258349918437425\n"
     ]
    }
   ],
   "source": [
    "# Random Forest\n",
    "\n",
    "# створити та навчити модель\n",
    "rf_model = RandomForestRegressor()\n",
    "rf_model.fit(X_train, y_train)\n",
    "\n",
    "# прогнозування\n",
    "predictions = rf_model.predict(X_test)\n",
    "\n",
    "# оцінка результатів\n",
    "mse = mean_squared_error(y_test, predictions)\n",
    "print(\"Mean Squared Error:\", mse)"
   ]
  },
  {
   "cell_type": "code",
   "execution_count": 68,
   "id": "d2523aa5",
   "metadata": {
    "id": "d2523aa5",
    "outputId": "67db8bb1-b23a-4009-f68d-74f54d612cd6",
    "scrolled": true
   },
   "outputs": [
    {
     "name": "stdout",
     "output_type": "stream",
     "text": [
      "Epoch 1/50\n",
      "4/4 [==============================] - 1s 84ms/step - loss: 0.8881 - val_loss: 1.1566\n",
      "Epoch 2/50\n",
      "4/4 [==============================] - 0s 17ms/step - loss: 0.8409 - val_loss: 1.1500\n",
      "Epoch 3/50\n",
      "4/4 [==============================] - 0s 19ms/step - loss: 0.8197 - val_loss: 1.1568\n",
      "Epoch 4/50\n",
      "4/4 [==============================] - 0s 15ms/step - loss: 0.8163 - val_loss: 1.1690\n",
      "Epoch 5/50\n",
      "4/4 [==============================] - 0s 17ms/step - loss: 0.8107 - val_loss: 1.1726\n",
      "Epoch 6/50\n",
      "4/4 [==============================] - 0s 15ms/step - loss: 0.7988 - val_loss: 1.1589\n",
      "Epoch 7/50\n",
      "4/4 [==============================] - 0s 14ms/step - loss: 0.7913 - val_loss: 1.1521\n",
      "Epoch 8/50\n",
      "4/4 [==============================] - 0s 16ms/step - loss: 0.7899 - val_loss: 1.1463\n",
      "Epoch 9/50\n",
      "4/4 [==============================] - 0s 15ms/step - loss: 0.7804 - val_loss: 1.1500\n",
      "Epoch 10/50\n",
      "4/4 [==============================] - 0s 15ms/step - loss: 0.7778 - val_loss: 1.1560\n",
      "Epoch 11/50\n",
      "4/4 [==============================] - 0s 16ms/step - loss: 0.7699 - val_loss: 1.1599\n",
      "Epoch 12/50\n",
      "4/4 [==============================] - 0s 15ms/step - loss: 0.7655 - val_loss: 1.1558\n",
      "Epoch 13/50\n",
      "4/4 [==============================] - 0s 14ms/step - loss: 0.7612 - val_loss: 1.1507\n",
      "Epoch 14/50\n",
      "4/4 [==============================] - 0s 27ms/step - loss: 0.7555 - val_loss: 1.1447\n",
      "Epoch 15/50\n",
      "4/4 [==============================] - 0s 16ms/step - loss: 0.7555 - val_loss: 1.1396\n",
      "Epoch 16/50\n",
      "4/4 [==============================] - 0s 15ms/step - loss: 0.7478 - val_loss: 1.1513\n",
      "Epoch 17/50\n",
      "4/4 [==============================] - 0s 15ms/step - loss: 0.7372 - val_loss: 1.1571\n",
      "Epoch 18/50\n",
      "4/4 [==============================] - 0s 15ms/step - loss: 0.7320 - val_loss: 1.1574\n",
      "Epoch 19/50\n",
      "4/4 [==============================] - 0s 16ms/step - loss: 0.7289 - val_loss: 1.1603\n",
      "Epoch 20/50\n",
      "4/4 [==============================] - 0s 15ms/step - loss: 0.7235 - val_loss: 1.1612\n",
      "Epoch 21/50\n",
      "4/4 [==============================] - 0s 14ms/step - loss: 0.7195 - val_loss: 1.1650\n",
      "Epoch 22/50\n",
      "4/4 [==============================] - 0s 14ms/step - loss: 0.7152 - val_loss: 1.1685\n",
      "Epoch 23/50\n",
      "4/4 [==============================] - 0s 14ms/step - loss: 0.7125 - val_loss: 1.1706\n",
      "Epoch 24/50\n",
      "4/4 [==============================] - 0s 14ms/step - loss: 0.7097 - val_loss: 1.1752\n",
      "Epoch 25/50\n",
      "4/4 [==============================] - 0s 17ms/step - loss: 0.7041 - val_loss: 1.1724\n",
      "Epoch 26/50\n",
      "4/4 [==============================] - 0s 14ms/step - loss: 0.6998 - val_loss: 1.1761\n",
      "Epoch 27/50\n",
      "4/4 [==============================] - 0s 18ms/step - loss: 0.6938 - val_loss: 1.1826\n",
      "Epoch 28/50\n",
      "4/4 [==============================] - 0s 17ms/step - loss: 0.6900 - val_loss: 1.1862\n",
      "Epoch 29/50\n",
      "4/4 [==============================] - 0s 16ms/step - loss: 0.6895 - val_loss: 1.1882\n",
      "Epoch 30/50\n",
      "4/4 [==============================] - 0s 10ms/step - loss: 0.6843 - val_loss: 1.1938\n",
      "Epoch 31/50\n",
      "4/4 [==============================] - 0s 16ms/step - loss: 0.6856 - val_loss: 1.1929\n",
      "Epoch 32/50\n",
      "4/4 [==============================] - 0s 15ms/step - loss: 0.6772 - val_loss: 1.1986\n",
      "Epoch 33/50\n",
      "4/4 [==============================] - 0s 15ms/step - loss: 0.6728 - val_loss: 1.1960\n",
      "Epoch 34/50\n",
      "4/4 [==============================] - 0s 16ms/step - loss: 0.6645 - val_loss: 1.1980\n",
      "Epoch 35/50\n",
      "4/4 [==============================] - 0s 16ms/step - loss: 0.6650 - val_loss: 1.1999\n",
      "Epoch 36/50\n",
      "4/4 [==============================] - 0s 15ms/step - loss: 0.6641 - val_loss: 1.2003\n",
      "Epoch 37/50\n",
      "4/4 [==============================] - 0s 14ms/step - loss: 0.6632 - val_loss: 1.2046\n",
      "Epoch 38/50\n",
      "4/4 [==============================] - 0s 14ms/step - loss: 0.6564 - val_loss: 1.2111\n",
      "Epoch 39/50\n",
      "4/4 [==============================] - 0s 11ms/step - loss: 0.6554 - val_loss: 1.2190\n",
      "Epoch 40/50\n",
      "4/4 [==============================] - 0s 16ms/step - loss: 0.6460 - val_loss: 1.2266\n",
      "Epoch 41/50\n",
      "4/4 [==============================] - 0s 16ms/step - loss: 0.6427 - val_loss: 1.2304\n",
      "Epoch 42/50\n",
      "4/4 [==============================] - 0s 16ms/step - loss: 0.6496 - val_loss: 1.2268\n",
      "Epoch 43/50\n",
      "4/4 [==============================] - 0s 16ms/step - loss: 0.6346 - val_loss: 1.2352\n",
      "Epoch 44/50\n",
      "4/4 [==============================] - 0s 15ms/step - loss: 0.6285 - val_loss: 1.2412\n",
      "Epoch 45/50\n",
      "4/4 [==============================] - 0s 14ms/step - loss: 0.6280 - val_loss: 1.2445\n",
      "Epoch 46/50\n",
      "4/4 [==============================] - 0s 14ms/step - loss: 0.6246 - val_loss: 1.2474\n",
      "Epoch 47/50\n",
      "4/4 [==============================] - 0s 15ms/step - loss: 0.6274 - val_loss: 1.2511\n",
      "Epoch 48/50\n",
      "4/4 [==============================] - 0s 10ms/step - loss: 0.6267 - val_loss: 1.2513\n",
      "Epoch 49/50\n",
      "4/4 [==============================] - 0s 15ms/step - loss: 0.6166 - val_loss: 1.2539\n",
      "Epoch 50/50\n",
      "4/4 [==============================] - 0s 13ms/step - loss: 0.6153 - val_loss: 1.2613\n",
      "2/2 [==============================] - 0s 2ms/step\n",
      "Mean Squared Error: 1.1850836\n"
     ]
    }
   ],
   "source": [
    "# Нейронна мережа\n",
    "\n",
    "# створення та навчання моделі\n",
    "nn_model = Sequential([\n",
    "    Dense(64, activation='relu', input_shape=(X_train.shape[1],)),\n",
    "    Dense(64, activation='relu'),\n",
    "    Dense(1)\n",
    "])\n",
    "nn_model.compile(optimizer='adam', loss='mse')\n",
    "nn_model.fit(X_train, y_train, epochs=50, batch_size=32, validation_split=0.2, verbose=1)\n",
    "\n",
    "# прогнозування\n",
    "predictions = nn_model.predict(X_test)\n",
    "\n",
    "# оцінка результатів\n",
    "mse = mean_squared_error(y_test, predictions)\n",
    "print(\"Mean Squared Error:\", mse)"
   ]
  },
  {
   "cell_type": "code",
   "execution_count": 69,
   "id": "990a8e5d",
   "metadata": {
    "id": "990a8e5d",
    "outputId": "48d10b91-b4a2-4f72-8747-dfe8c6503b0b"
   },
   "outputs": [
    {
     "name": "stdout",
     "output_type": "stream",
     "text": [
      "Linear Regression:  97.19582558094167\n",
      "Linear Regression dummy:  71.22408218581029\n",
      "Decision Tree:  51.00000116088989\n",
      "Random Forest:  83.04999980106173\n",
      "Neural Network Regressor:  152.69333\n",
      "\n",
      "Actual value:  192.0\n"
     ]
    }
   ],
   "source": [
    "# тестові значення\n",
    "time_between_alerts_test = 142\n",
    "alert_duration_test = 94\n",
    "attack_region_test = \"behind_odesa\"\n",
    "\n",
    "# стандартизувати тестові дані\n",
    "t = scaler_time.transform([[time_between_alerts_test]])[0][0]        # time between alerts\n",
    "d = scaler_duration.transform([[alert_duration_test]])[0][0]         # duration\n",
    "r = [v for k, v in regions.items() if k == attack_region_test][0]    # region\n",
    "r_dummy = [\n",
    "    1 if attack_region_test == 'north' else 0,\n",
    "    1 if attack_region_test == 'above_odesa' else 0,\n",
    "    1 if attack_region_test == 'odesa' else 0,\n",
    "    1 if attack_region_test == 'behind_odesa' else 0,\n",
    "    1 if attack_region_test == 'south' else 0\n",
    "]\n",
    "\n",
    "# для кожної моделі порахувати прогноз і повернути результат в нестандартизованому вигляді\n",
    "lr_model_prediction = lr_model.predict([[t, d, r]])\n",
    "print(\"Linear Regression: \", scaler_time.inverse_transform(lr_model_prediction.reshape(-1, 1))[0][0])\n",
    "\n",
    "lr_model_dummy_prediction = lr_model_dummy.predict([[t, d, *r_dummy]])\n",
    "print(\"Linear Regression dummy: \", scaler_time.inverse_transform(lr_model_dummy_prediction.reshape(-1, 1))[0][0])\n",
    "\n",
    "dt_model_prediction = dt_model.predict([[t, d, r]])\n",
    "print(\"Decision Tree: \", scaler_time.inverse_transform(dt_model_prediction.reshape(-1, 1))[0][0])\n",
    "\n",
    "rf_model_prediction = rf_model.predict([[t, d, r]])\n",
    "print(\"Random Forest: \", scaler_time.inverse_transform(rf_model_prediction.reshape(-1, 1))[0][0])\n",
    "\n",
    "nn_model_prediction = nn_model.predict([[t, d, r]], verbose=0)  # verbose=0 шоб не виводило progress bar\n",
    "print(\"Neural Network Regressor: \", scaler_time.inverse_transform(nn_model_prediction.reshape(-1, 1))[0][0])\n",
    "\n",
    "actual_value = df5.loc[(df5['Тривалість тривоги'] == d) & (df5['Час до наступної тривоги'] == t) & (df5['Регіон атаки'] == r), 'Наступний час до наступної тривоги'].values[0]\n",
    "print(\"\\nActual value: \", scaler_time.inverse_transform(actual_value.reshape(-1, 1))[0][0])"
   ]
  },
  {
   "cell_type": "markdown",
   "id": "59506ce8",
   "metadata": {
    "id": "59506ce8"
   },
   "source": [
    "# Класифікація"
   ]
  },
  {
   "cell_type": "markdown",
   "id": "2e9dd431",
   "metadata": {
    "id": "2e9dd431"
   },
   "source": [
    "Було б корисно також знати який регіон стане об'єктом наступної атаки ворога.  \n",
    "Для такого прогнозування використаємо класифікаційні моделі машинного навчання, які повертають одне зі значень категоріальної змінної."
   ]
  },
  {
   "cell_type": "code",
   "execution_count": 70,
   "id": "5670cd9a",
   "metadata": {
    "id": "5670cd9a"
   },
   "outputs": [],
   "source": [
    "from sklearn.ensemble import RandomForestClassifier\n",
    "from sklearn.svm import SVC"
   ]
  },
  {
   "cell_type": "code",
   "execution_count": 71,
   "id": "28c51602",
   "metadata": {
    "id": "28c51602",
    "outputId": "f8b86d3a-bf71-4e51-b80e-d7efbfc986fc",
    "scrolled": true
   },
   "outputs": [
    {
     "data": {
      "text/html": [
       "<div>\n",
       "<style scoped>\n",
       "    .dataframe tbody tr th:only-of-type {\n",
       "        vertical-align: middle;\n",
       "    }\n",
       "\n",
       "    .dataframe tbody tr th {\n",
       "        vertical-align: top;\n",
       "    }\n",
       "\n",
       "    .dataframe thead th {\n",
       "        text-align: right;\n",
       "    }\n",
       "</style>\n",
       "<table border=\"1\" class=\"dataframe\">\n",
       "  <thead>\n",
       "    <tr style=\"text-align: right;\">\n",
       "      <th></th>\n",
       "      <th>Тривалість тривоги</th>\n",
       "      <th>Регіон атаки</th>\n",
       "      <th>Час до наступної тривоги</th>\n",
       "      <th>Регіон наступної атаки</th>\n",
       "    </tr>\n",
       "  </thead>\n",
       "  <tbody>\n",
       "    <tr>\n",
       "      <th>0</th>\n",
       "      <td>-0.951464</td>\n",
       "      <td>2</td>\n",
       "      <td>4.118155</td>\n",
       "      <td>1</td>\n",
       "    </tr>\n",
       "    <tr>\n",
       "      <th>1</th>\n",
       "      <td>-0.050314</td>\n",
       "      <td>1</td>\n",
       "      <td>-0.676244</td>\n",
       "      <td>2</td>\n",
       "    </tr>\n",
       "    <tr>\n",
       "      <th>2</th>\n",
       "      <td>0.095461</td>\n",
       "      <td>2</td>\n",
       "      <td>4.628197</td>\n",
       "      <td>2</td>\n",
       "    </tr>\n",
       "    <tr>\n",
       "      <th>3</th>\n",
       "      <td>-0.567150</td>\n",
       "      <td>2</td>\n",
       "      <td>4.808674</td>\n",
       "      <td>2</td>\n",
       "    </tr>\n",
       "    <tr>\n",
       "      <th>4</th>\n",
       "      <td>0.002695</td>\n",
       "      <td>2</td>\n",
       "      <td>0.218292</td>\n",
       "      <td>1</td>\n",
       "    </tr>\n",
       "  </tbody>\n",
       "</table>\n",
       "</div>"
      ],
      "text/plain": [
       "   Тривалість тривоги Регіон атаки  Час до наступної тривоги   \n",
       "0           -0.951464            2                  4.118155  \\\n",
       "1           -0.050314            1                 -0.676244   \n",
       "2            0.095461            2                  4.628197   \n",
       "3           -0.567150            2                  4.808674   \n",
       "4            0.002695            2                  0.218292   \n",
       "\n",
       "  Регіон наступної атаки  \n",
       "0                      1  \n",
       "1                      2  \n",
       "2                      2  \n",
       "3                      2  \n",
       "4                      1  "
      ]
     },
     "execution_count": 71,
     "metadata": {},
     "output_type": "execute_result"
    }
   ],
   "source": [
    "# створити окремий датафрейм\n",
    "df6 = df4.copy()\n",
    "\n",
    "# додати нову колонку, яка містить значення 'Регіон атаки' з лагом 1\n",
    "df6['Регіон наступної атаки'] = df6['Регіон атаки'].shift(-1)\n",
    "df6 = df6.dropna()\n",
    "\n",
    "# подивитись як виглядає датафрейм\n",
    "df6.head()"
   ]
  },
  {
   "cell_type": "code",
   "execution_count": 72,
   "id": "bbb9c990",
   "metadata": {
    "id": "bbb9c990"
   },
   "outputs": [],
   "source": [
    "# змінні-предиктори\n",
    "X = df6[['Тривалість тривоги', 'Регіон атаки', 'Час до наступної тривоги']]\n",
    "# цільова змінна\n",
    "y = df6['Регіон наступної атаки']\n",
    "\n",
    "# розділити дані на тренувальну та тестову вибірки\n",
    "X_train, X_test, y_train, y_test = map(np.float32, train_test_split(X, y, test_size=0.2, random_state=42))"
   ]
  },
  {
   "cell_type": "code",
   "execution_count": 73,
   "id": "2de6bb95",
   "metadata": {
    "id": "2de6bb95",
    "outputId": "11f962ea-5529-466b-cbdc-a90868dd88a2"
   },
   "outputs": [
    {
     "name": "stdout",
     "output_type": "stream",
     "text": [
      "Accuracy of Random Forest: 0.2777777777777778\n"
     ]
    }
   ],
   "source": [
    "# Random Forest\n",
    "\n",
    "# створити та навчити модель\n",
    "rf_model = RandomForestClassifier(n_estimators=100, random_state=42)\n",
    "rf_model.fit(X_train, y_train)\n",
    "\n",
    "# прогнозування\n",
    "y_pred_rf = rf_model.predict(X_test)\n",
    "\n",
    "# оцінка точності моделі\n",
    "accuracy_rf = accuracy_score(y_test, y_pred_rf)\n",
    "print(\"Accuracy of Random Forest:\", accuracy_rf)"
   ]
  },
  {
   "cell_type": "code",
   "execution_count": 74,
   "id": "c21d0341",
   "metadata": {
    "id": "c21d0341",
    "outputId": "d433af04-83aa-4e63-d89a-0a26ed267930"
   },
   "outputs": [
    {
     "name": "stdout",
     "output_type": "stream",
     "text": [
      "Accuracy of SVM: 0.4166666666666667\n"
     ]
    }
   ],
   "source": [
    "# Support Vector Machine\n",
    "\n",
    "# створити та навчити модель\n",
    "svm_model = SVC(kernel='linear', random_state=42)\n",
    "svm_model.fit(X_train, y_train)\n",
    "\n",
    "# прогнозування\n",
    "y_pred_svm = svm_model.predict(X_test)\n",
    "\n",
    "# оцінка точності моделі\n",
    "accuracy_svm = accuracy_score(y_test, y_pred_svm)\n",
    "print(\"Accuracy of SVM:\", accuracy_svm)"
   ]
  },
  {
   "cell_type": "code",
   "execution_count": 75,
   "id": "f0d557ef",
   "metadata": {
    "id": "f0d557ef",
    "outputId": "9c808d83-33f5-4194-e464-a7cbd48468cb",
    "scrolled": true
   },
   "outputs": [
    {
     "name": "stdout",
     "output_type": "stream",
     "text": [
      "Epoch 1/50\n",
      "4/4 [==============================] - 1s 73ms/step - loss: 1.5396 - accuracy: 0.2857 - val_loss: 1.5001 - val_accuracy: 0.5000\n",
      "Epoch 2/50\n",
      "4/4 [==============================] - 0s 18ms/step - loss: 1.4842 - accuracy: 0.4732 - val_loss: 1.4208 - val_accuracy: 0.5714\n",
      "Epoch 3/50\n",
      "4/4 [==============================] - 0s 17ms/step - loss: 1.4508 - accuracy: 0.5000 - val_loss: 1.3709 - val_accuracy: 0.6071\n",
      "Epoch 4/50\n",
      "4/4 [==============================] - 0s 17ms/step - loss: 1.4394 - accuracy: 0.5000 - val_loss: 1.3433 - val_accuracy: 0.6071\n",
      "Epoch 5/50\n",
      "4/4 [==============================] - 0s 16ms/step - loss: 1.4258 - accuracy: 0.5000 - val_loss: 1.3355 - val_accuracy: 0.6071\n",
      "Epoch 6/50\n",
      "4/4 [==============================] - 0s 17ms/step - loss: 1.4161 - accuracy: 0.5000 - val_loss: 1.3306 - val_accuracy: 0.6071\n",
      "Epoch 7/50\n",
      "4/4 [==============================] - 0s 15ms/step - loss: 1.4054 - accuracy: 0.5000 - val_loss: 1.3345 - val_accuracy: 0.6071\n",
      "Epoch 8/50\n",
      "4/4 [==============================] - 0s 15ms/step - loss: 1.3988 - accuracy: 0.5000 - val_loss: 1.3472 - val_accuracy: 0.6071\n",
      "Epoch 9/50\n",
      "4/4 [==============================] - 0s 15ms/step - loss: 1.3900 - accuracy: 0.5000 - val_loss: 1.3526 - val_accuracy: 0.6071\n",
      "Epoch 10/50\n",
      "4/4 [==============================] - 0s 15ms/step - loss: 1.3824 - accuracy: 0.5089 - val_loss: 1.3494 - val_accuracy: 0.6071\n",
      "Epoch 11/50\n",
      "4/4 [==============================] - 0s 15ms/step - loss: 1.3756 - accuracy: 0.5089 - val_loss: 1.3458 - val_accuracy: 0.6071\n",
      "Epoch 12/50\n",
      "4/4 [==============================] - 0s 19ms/step - loss: 1.3693 - accuracy: 0.5089 - val_loss: 1.3389 - val_accuracy: 0.6071\n",
      "Epoch 13/50\n",
      "4/4 [==============================] - 0s 12ms/step - loss: 1.3628 - accuracy: 0.5000 - val_loss: 1.3365 - val_accuracy: 0.6071\n",
      "Epoch 14/50\n",
      "4/4 [==============================] - 0s 15ms/step - loss: 1.3585 - accuracy: 0.5000 - val_loss: 1.3313 - val_accuracy: 0.6071\n",
      "Epoch 15/50\n",
      "4/4 [==============================] - 0s 16ms/step - loss: 1.3524 - accuracy: 0.5000 - val_loss: 1.3332 - val_accuracy: 0.6071\n",
      "Epoch 16/50\n",
      "4/4 [==============================] - 0s 16ms/step - loss: 1.3461 - accuracy: 0.5000 - val_loss: 1.3294 - val_accuracy: 0.6071\n",
      "Epoch 17/50\n",
      "4/4 [==============================] - 0s 17ms/step - loss: 1.3397 - accuracy: 0.5089 - val_loss: 1.3250 - val_accuracy: 0.6071\n",
      "Epoch 18/50\n",
      "4/4 [==============================] - 0s 12ms/step - loss: 1.3338 - accuracy: 0.5089 - val_loss: 1.3215 - val_accuracy: 0.6071\n",
      "Epoch 19/50\n",
      "4/4 [==============================] - 0s 16ms/step - loss: 1.3283 - accuracy: 0.5089 - val_loss: 1.3187 - val_accuracy: 0.6071\n",
      "Epoch 20/50\n",
      "4/4 [==============================] - 0s 14ms/step - loss: 1.3232 - accuracy: 0.5089 - val_loss: 1.3197 - val_accuracy: 0.6071\n",
      "Epoch 21/50\n",
      "4/4 [==============================] - 0s 16ms/step - loss: 1.3177 - accuracy: 0.5089 - val_loss: 1.3205 - val_accuracy: 0.6071\n",
      "Epoch 22/50\n",
      "4/4 [==============================] - 0s 16ms/step - loss: 1.3134 - accuracy: 0.5089 - val_loss: 1.3202 - val_accuracy: 0.6071\n",
      "Epoch 23/50\n",
      "4/4 [==============================] - 0s 15ms/step - loss: 1.3081 - accuracy: 0.5089 - val_loss: 1.3217 - val_accuracy: 0.6071\n",
      "Epoch 24/50\n",
      "4/4 [==============================] - 0s 15ms/step - loss: 1.3036 - accuracy: 0.5089 - val_loss: 1.3237 - val_accuracy: 0.6071\n",
      "Epoch 25/50\n",
      "4/4 [==============================] - 0s 15ms/step - loss: 1.3009 - accuracy: 0.5089 - val_loss: 1.3338 - val_accuracy: 0.6071\n",
      "Epoch 26/50\n",
      "4/4 [==============================] - 0s 15ms/step - loss: 1.2963 - accuracy: 0.5089 - val_loss: 1.3323 - val_accuracy: 0.6071\n",
      "Epoch 27/50\n",
      "4/4 [==============================] - 0s 16ms/step - loss: 1.2921 - accuracy: 0.5089 - val_loss: 1.3298 - val_accuracy: 0.6071\n",
      "Epoch 28/50\n",
      "4/4 [==============================] - 0s 15ms/step - loss: 1.2873 - accuracy: 0.5000 - val_loss: 1.3248 - val_accuracy: 0.6071\n",
      "Epoch 29/50\n",
      "4/4 [==============================] - 0s 16ms/step - loss: 1.2835 - accuracy: 0.5000 - val_loss: 1.3221 - val_accuracy: 0.6071\n",
      "Epoch 30/50\n",
      "4/4 [==============================] - 0s 15ms/step - loss: 1.2808 - accuracy: 0.5000 - val_loss: 1.3237 - val_accuracy: 0.6071\n",
      "Epoch 31/50\n",
      "4/4 [==============================] - 0s 18ms/step - loss: 1.2767 - accuracy: 0.5089 - val_loss: 1.3237 - val_accuracy: 0.6071\n",
      "Epoch 32/50\n",
      "4/4 [==============================] - 0s 17ms/step - loss: 1.2750 - accuracy: 0.5089 - val_loss: 1.3273 - val_accuracy: 0.6071\n",
      "Epoch 33/50\n",
      "4/4 [==============================] - 0s 17ms/step - loss: 1.2713 - accuracy: 0.5089 - val_loss: 1.3325 - val_accuracy: 0.6071\n",
      "Epoch 34/50\n",
      "4/4 [==============================] - 0s 17ms/step - loss: 1.2695 - accuracy: 0.5089 - val_loss: 1.3272 - val_accuracy: 0.6071\n",
      "Epoch 35/50\n",
      "4/4 [==============================] - 0s 17ms/step - loss: 1.2658 - accuracy: 0.5179 - val_loss: 1.3311 - val_accuracy: 0.6429\n",
      "Epoch 36/50\n",
      "4/4 [==============================] - 0s 13ms/step - loss: 1.2632 - accuracy: 0.5089 - val_loss: 1.3332 - val_accuracy: 0.6071\n",
      "Epoch 37/50\n",
      "4/4 [==============================] - 0s 12ms/step - loss: 1.2591 - accuracy: 0.5179 - val_loss: 1.3367 - val_accuracy: 0.6071\n",
      "Epoch 38/50\n",
      "4/4 [==============================] - 0s 12ms/step - loss: 1.2566 - accuracy: 0.5089 - val_loss: 1.3390 - val_accuracy: 0.6071\n",
      "Epoch 39/50\n",
      "4/4 [==============================] - 0s 15ms/step - loss: 1.2539 - accuracy: 0.5179 - val_loss: 1.3405 - val_accuracy: 0.6071\n",
      "Epoch 40/50\n",
      "4/4 [==============================] - 0s 16ms/step - loss: 1.2506 - accuracy: 0.5089 - val_loss: 1.3452 - val_accuracy: 0.6071\n",
      "Epoch 41/50\n",
      "4/4 [==============================] - 0s 17ms/step - loss: 1.2476 - accuracy: 0.5089 - val_loss: 1.3459 - val_accuracy: 0.6071\n",
      "Epoch 42/50\n",
      "4/4 [==============================] - 0s 13ms/step - loss: 1.2452 - accuracy: 0.5089 - val_loss: 1.3475 - val_accuracy: 0.6071\n",
      "Epoch 43/50\n",
      "4/4 [==============================] - 0s 15ms/step - loss: 1.2426 - accuracy: 0.5089 - val_loss: 1.3479 - val_accuracy: 0.6071\n",
      "Epoch 44/50\n",
      "4/4 [==============================] - 0s 14ms/step - loss: 1.2411 - accuracy: 0.5089 - val_loss: 1.3432 - val_accuracy: 0.6071\n",
      "Epoch 45/50\n",
      "4/4 [==============================] - 0s 15ms/step - loss: 1.2375 - accuracy: 0.5089 - val_loss: 1.3471 - val_accuracy: 0.6071\n",
      "Epoch 46/50\n",
      "4/4 [==============================] - 0s 15ms/step - loss: 1.2356 - accuracy: 0.5179 - val_loss: 1.3482 - val_accuracy: 0.6071\n",
      "Epoch 47/50\n",
      "4/4 [==============================] - 0s 15ms/step - loss: 1.2332 - accuracy: 0.5179 - val_loss: 1.3571 - val_accuracy: 0.6071\n",
      "Epoch 48/50\n",
      "4/4 [==============================] - 0s 15ms/step - loss: 1.2316 - accuracy: 0.5268 - val_loss: 1.3586 - val_accuracy: 0.6071\n",
      "Epoch 49/50\n",
      "4/4 [==============================] - 0s 24ms/step - loss: 1.2286 - accuracy: 0.5268 - val_loss: 1.3571 - val_accuracy: 0.6071\n",
      "Epoch 50/50\n",
      "4/4 [==============================] - 0s 18ms/step - loss: 1.2252 - accuracy: 0.5268 - val_loss: 1.3529 - val_accuracy: 0.6071\n",
      "2/2 [==============================] - 0s 5ms/step - loss: 1.5778 - accuracy: 0.4444\n",
      "Test Accuracy: 0.4444444477558136\n"
     ]
    }
   ],
   "source": [
    "# Нейронна мережа\n",
    "\n",
    "# створити та навчити модель\n",
    "nn_model = Sequential([\n",
    "    Dense(64, activation='relu', input_shape=(X_train.shape[1],)),\n",
    "    Dense(64, activation='relu'),\n",
    "    Dense(len(regions), activation='softmax') \n",
    "])\n",
    "nn_model.compile(optimizer='adam', loss='sparse_categorical_crossentropy', metrics=['accuracy'])\n",
    "nn_model.fit(X_train, y_train, epochs=50, batch_size=32, validation_split=0.2)\n",
    "\n",
    "# оцінка точності моделі\n",
    "test_loss, test_accuracy = nn_model.evaluate(X_test, y_test)\n",
    "print(\"Test Accuracy:\", test_accuracy)"
   ]
  },
  {
   "cell_type": "code",
   "execution_count": 76,
   "id": "21137994",
   "metadata": {
    "id": "21137994",
    "outputId": "317128c0-9536-4bbb-c5eb-f538c3c5b38c"
   },
   "outputs": [
    {
     "name": "stdout",
     "output_type": "stream",
     "text": [
      "Random Forest:  2.0\n",
      "SVM:  2.0\n",
      "Neural Network:  2\n",
      "\n",
      "Actual Value:  2\n"
     ]
    }
   ],
   "source": [
    "# тестові значення\n",
    "time_between_alerts_test = 192\n",
    "alert_duration_test = 84\n",
    "attack_region_test = \"odesa\"\n",
    "\n",
    "# стандартизувати тестові дані\n",
    "t = scaler_time.transform([[time_between_alerts_test]])[0][0]        # time between alerts\n",
    "d = scaler_duration.transform([[alert_duration_test]])[0][0]         # duration\n",
    "r = [v for k, v in regions.items() if k == attack_region_test][0]    # region\n",
    "\n",
    "# для кожної моделі порахувати прогноз\n",
    "print(\"Random Forest: \", rf_model.predict([[d, t, r]])[0])\n",
    "print(\"SVM: \", svm_model.predict([[d, t, r]])[0])\n",
    "print(\"Neural Network: \", list(nn_model.predict([[d, t, r]], verbose=0)[0]).index(max(model.predict([[d, t, r]], verbose=0)[0])))\n",
    "print(\"\\nActual Value: \", df6.loc[(df6['Тривалість тривоги'] == d) & (df6['Час до наступної тривоги'] == t) & (df6['Регіон атаки'] == r), 'Регіон наступної атаки'].values[0])"
   ]
  }
 ],
 "metadata": {
  "colab": {
   "provenance": []
  },
  "kernelspec": {
   "display_name": "Python 3 (ipykernel)",
   "language": "python",
   "name": "python3"
  },
  "language_info": {
   "codemirror_mode": {
    "name": "ipython",
    "version": 3
   },
   "file_extension": ".py",
   "mimetype": "text/x-python",
   "name": "python",
   "nbconvert_exporter": "python",
   "pygments_lexer": "ipython3",
   "version": "3.9.13"
  },
  "widgets": {
   "application/vnd.jupyter.widget-state+json": {
    "0526044ab7e74797acc2b7431761986b": {
     "model_module": "@jupyter-widgets/controls",
     "model_module_version": "1.5.0",
     "model_name": "DescriptionStyleModel",
     "state": {
      "_model_module": "@jupyter-widgets/controls",
      "_model_module_version": "1.5.0",
      "_model_name": "DescriptionStyleModel",
      "_view_count": null,
      "_view_module": "@jupyter-widgets/base",
      "_view_module_version": "1.2.0",
      "_view_name": "StyleView",
      "description_width": ""
     }
    },
    "25a98c98b15245aa91296ab89f9934e7": {
     "model_module": "@jupyter-widgets/base",
     "model_module_version": "1.2.0",
     "model_name": "LayoutModel",
     "state": {
      "_model_module": "@jupyter-widgets/base",
      "_model_module_version": "1.2.0",
      "_model_name": "LayoutModel",
      "_view_count": null,
      "_view_module": "@jupyter-widgets/base",
      "_view_module_version": "1.2.0",
      "_view_name": "LayoutView",
      "align_content": null,
      "align_items": null,
      "align_self": null,
      "border": null,
      "bottom": null,
      "display": null,
      "flex": null,
      "flex_flow": null,
      "grid_area": null,
      "grid_auto_columns": null,
      "grid_auto_flow": null,
      "grid_auto_rows": null,
      "grid_column": null,
      "grid_gap": null,
      "grid_row": null,
      "grid_template_areas": null,
      "grid_template_columns": null,
      "grid_template_rows": null,
      "height": null,
      "justify_content": null,
      "justify_items": null,
      "left": null,
      "margin": null,
      "max_height": null,
      "max_width": null,
      "min_height": null,
      "min_width": null,
      "object_fit": null,
      "object_position": null,
      "order": null,
      "overflow": null,
      "overflow_x": null,
      "overflow_y": null,
      "padding": null,
      "right": null,
      "top": null,
      "visibility": null,
      "width": null
     }
    },
    "646ff681c0e4481aa19419f0b4488026": {
     "model_module": "@jupyter-widgets/base",
     "model_module_version": "1.2.0",
     "model_name": "LayoutModel",
     "state": {
      "_model_module": "@jupyter-widgets/base",
      "_model_module_version": "1.2.0",
      "_model_name": "LayoutModel",
      "_view_count": null,
      "_view_module": "@jupyter-widgets/base",
      "_view_module_version": "1.2.0",
      "_view_name": "LayoutView",
      "align_content": null,
      "align_items": null,
      "align_self": null,
      "border": null,
      "bottom": null,
      "display": null,
      "flex": null,
      "flex_flow": null,
      "grid_area": null,
      "grid_auto_columns": null,
      "grid_auto_flow": null,
      "grid_auto_rows": null,
      "grid_column": null,
      "grid_gap": null,
      "grid_row": null,
      "grid_template_areas": null,
      "grid_template_columns": null,
      "grid_template_rows": null,
      "height": null,
      "justify_content": null,
      "justify_items": null,
      "left": null,
      "margin": null,
      "max_height": null,
      "max_width": null,
      "min_height": null,
      "min_width": null,
      "object_fit": null,
      "object_position": null,
      "order": null,
      "overflow": null,
      "overflow_x": null,
      "overflow_y": null,
      "padding": null,
      "right": null,
      "top": null,
      "visibility": null,
      "width": null
     }
    },
    "7769bc88725c4d90b36a27730350d6b2": {
     "model_module": "@jupyter-widgets/controls",
     "model_module_version": "1.5.0",
     "model_name": "HBoxModel",
     "state": {
      "_dom_classes": [],
      "_model_module": "@jupyter-widgets/controls",
      "_model_module_version": "1.5.0",
      "_model_name": "HBoxModel",
      "_view_count": null,
      "_view_module": "@jupyter-widgets/controls",
      "_view_module_version": "1.5.0",
      "_view_name": "HBoxView",
      "box_style": "",
      "children": [
       "IPY_MODEL_e159f55ebdf044cfa94a36f96ee2a8aa",
       "IPY_MODEL_7d1e5bdb42364d328839145b96bf9935",
       "IPY_MODEL_817d9daa967644f1b4b87000d7a6d434"
      ],
      "layout": "IPY_MODEL_a990bcec9ceb43df93be88dcd262c0ed"
     }
    },
    "7d1e5bdb42364d328839145b96bf9935": {
     "model_module": "@jupyter-widgets/controls",
     "model_module_version": "1.5.0",
     "model_name": "FloatProgressModel",
     "state": {
      "_dom_classes": [],
      "_model_module": "@jupyter-widgets/controls",
      "_model_module_version": "1.5.0",
      "_model_name": "FloatProgressModel",
      "_view_count": null,
      "_view_module": "@jupyter-widgets/controls",
      "_view_module_version": "1.5.0",
      "_view_name": "ProgressView",
      "bar_style": "success",
      "description": "",
      "description_tooltip": null,
      "layout": "IPY_MODEL_25a98c98b15245aa91296ab89f9934e7",
      "max": 20000,
      "min": 0,
      "orientation": "horizontal",
      "style": "IPY_MODEL_e00fd3a140d24c81a4eb2a7d969e2637",
      "value": 20000
     }
    },
    "817d9daa967644f1b4b87000d7a6d434": {
     "model_module": "@jupyter-widgets/controls",
     "model_module_version": "1.5.0",
     "model_name": "HTMLModel",
     "state": {
      "_dom_classes": [],
      "_model_module": "@jupyter-widgets/controls",
      "_model_module_version": "1.5.0",
      "_model_name": "HTMLModel",
      "_view_count": null,
      "_view_module": "@jupyter-widgets/controls",
      "_view_module_version": "1.5.0",
      "_view_name": "HTMLView",
      "description": "",
      "description_tooltip": null,
      "layout": "IPY_MODEL_e9a7f25466de4f57b22370bf31ffc108",
      "placeholder": "​",
      "style": "IPY_MODEL_0526044ab7e74797acc2b7431761986b",
      "value": " 20000/20000 [03:34&lt;00:00, 102.84it/s]"
     }
    },
    "a990bcec9ceb43df93be88dcd262c0ed": {
     "model_module": "@jupyter-widgets/base",
     "model_module_version": "1.2.0",
     "model_name": "LayoutModel",
     "state": {
      "_model_module": "@jupyter-widgets/base",
      "_model_module_version": "1.2.0",
      "_model_name": "LayoutModel",
      "_view_count": null,
      "_view_module": "@jupyter-widgets/base",
      "_view_module_version": "1.2.0",
      "_view_name": "LayoutView",
      "align_content": null,
      "align_items": null,
      "align_self": null,
      "border": null,
      "bottom": null,
      "display": null,
      "flex": null,
      "flex_flow": null,
      "grid_area": null,
      "grid_auto_columns": null,
      "grid_auto_flow": null,
      "grid_auto_rows": null,
      "grid_column": null,
      "grid_gap": null,
      "grid_row": null,
      "grid_template_areas": null,
      "grid_template_columns": null,
      "grid_template_rows": null,
      "height": null,
      "justify_content": null,
      "justify_items": null,
      "left": null,
      "margin": null,
      "max_height": null,
      "max_width": null,
      "min_height": null,
      "min_width": null,
      "object_fit": null,
      "object_position": null,
      "order": null,
      "overflow": null,
      "overflow_x": null,
      "overflow_y": null,
      "padding": null,
      "right": null,
      "top": null,
      "visibility": null,
      "width": null
     }
    },
    "dda8691fe013426db3dea652221b978b": {
     "model_module": "@jupyter-widgets/controls",
     "model_module_version": "1.5.0",
     "model_name": "DescriptionStyleModel",
     "state": {
      "_model_module": "@jupyter-widgets/controls",
      "_model_module_version": "1.5.0",
      "_model_name": "DescriptionStyleModel",
      "_view_count": null,
      "_view_module": "@jupyter-widgets/base",
      "_view_module_version": "1.2.0",
      "_view_name": "StyleView",
      "description_width": ""
     }
    },
    "e00fd3a140d24c81a4eb2a7d969e2637": {
     "model_module": "@jupyter-widgets/controls",
     "model_module_version": "1.5.0",
     "model_name": "ProgressStyleModel",
     "state": {
      "_model_module": "@jupyter-widgets/controls",
      "_model_module_version": "1.5.0",
      "_model_name": "ProgressStyleModel",
      "_view_count": null,
      "_view_module": "@jupyter-widgets/base",
      "_view_module_version": "1.2.0",
      "_view_name": "StyleView",
      "bar_color": null,
      "description_width": ""
     }
    },
    "e159f55ebdf044cfa94a36f96ee2a8aa": {
     "model_module": "@jupyter-widgets/controls",
     "model_module_version": "1.5.0",
     "model_name": "HTMLModel",
     "state": {
      "_dom_classes": [],
      "_model_module": "@jupyter-widgets/controls",
      "_model_module_version": "1.5.0",
      "_model_name": "HTMLModel",
      "_view_count": null,
      "_view_module": "@jupyter-widgets/controls",
      "_view_module_version": "1.5.0",
      "_view_name": "HTMLView",
      "description": "",
      "description_tooltip": null,
      "layout": "IPY_MODEL_646ff681c0e4481aa19419f0b4488026",
      "placeholder": "​",
      "style": "IPY_MODEL_dda8691fe013426db3dea652221b978b",
      "value": "100%"
     }
    },
    "e9a7f25466de4f57b22370bf31ffc108": {
     "model_module": "@jupyter-widgets/base",
     "model_module_version": "1.2.0",
     "model_name": "LayoutModel",
     "state": {
      "_model_module": "@jupyter-widgets/base",
      "_model_module_version": "1.2.0",
      "_model_name": "LayoutModel",
      "_view_count": null,
      "_view_module": "@jupyter-widgets/base",
      "_view_module_version": "1.2.0",
      "_view_name": "LayoutView",
      "align_content": null,
      "align_items": null,
      "align_self": null,
      "border": null,
      "bottom": null,
      "display": null,
      "flex": null,
      "flex_flow": null,
      "grid_area": null,
      "grid_auto_columns": null,
      "grid_auto_flow": null,
      "grid_auto_rows": null,
      "grid_column": null,
      "grid_gap": null,
      "grid_row": null,
      "grid_template_areas": null,
      "grid_template_columns": null,
      "grid_template_rows": null,
      "height": null,
      "justify_content": null,
      "justify_items": null,
      "left": null,
      "margin": null,
      "max_height": null,
      "max_width": null,
      "min_height": null,
      "min_width": null,
      "object_fit": null,
      "object_position": null,
      "order": null,
      "overflow": null,
      "overflow_x": null,
      "overflow_y": null,
      "padding": null,
      "right": null,
      "top": null,
      "visibility": null,
      "width": null
     }
    }
   }
  }
 },
 "nbformat": 4,
 "nbformat_minor": 5
}
